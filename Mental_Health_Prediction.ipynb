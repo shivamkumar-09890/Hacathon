{
  "metadata": {
    "kernelspec": {
      "language": "python",
      "display_name": "Python 3",
      "name": "python3"
    },
    "language_info": {
      "pygments_lexer": "ipython3",
      "nbconvert_exporter": "python",
      "version": "3.6.4",
      "file_extension": ".py",
      "codemirror_mode": {
        "name": "ipython",
        "version": 3
      },
      "name": "python",
      "mimetype": "text/x-python"
    },
    "colab": {
      "name": "Mental Health Prediction",
      "provenance": []
    }
  },
  "nbformat_minor": 0,
  "nbformat": 4,
  "cells": [
    {
      "source": [
        "\n",
        "# IMPORTANT: RUN THIS CELL IN ORDER TO IMPORT YOUR KAGGLE DATA SOURCES\n",
        "# TO THE CORRECT LOCATION (/kaggle/input) IN YOUR NOTEBOOK,\n",
        "# THEN FEEL FREE TO DELETE THIS CELL.\n",
        "# NOTE: THIS NOTEBOOK ENVIRONMENT DIFFERS FROM KAGGLE'S PYTHON\n",
        "# ENVIRONMENT SO THERE MAY BE MISSING LIBRARIES USED BY YOUR\n",
        "# NOTEBOOK.\n",
        "\n",
        "import os\n",
        "import sys\n",
        "from tempfile import NamedTemporaryFile\n",
        "from urllib.request import urlopen\n",
        "from urllib.parse import unquote, urlparse\n",
        "from urllib.error import HTTPError\n",
        "from zipfile import ZipFile\n",
        "import tarfile\n",
        "import shutil\n",
        "\n",
        "CHUNK_SIZE = 40960\n",
        "DATA_SOURCE_MAPPING = 'depression-anxiety-stress-scales-responses:https%3A%2F%2Fstorage.googleapis.com%2Fkaggle-data-sets%2F691971%2F1211992%2Fbundle%2Farchive.zip%3FX-Goog-Algorithm%3DGOOG4-RSA-SHA256%26X-Goog-Credential%3Dgcp-kaggle-com%2540kaggle-161607.iam.gserviceaccount.com%252F20240611%252Fauto%252Fstorage%252Fgoog4_request%26X-Goog-Date%3D20240611T070759Z%26X-Goog-Expires%3D259200%26X-Goog-SignedHeaders%3Dhost%26X-Goog-Signature%3D3e22fa89661efb90268c5c5ebc870bff8682e5b46804e2fa0b4872e1b7a46f396732f46172032f4b4d6ef87d9fc4b39317d2f0fc8ff15e67067d8395d4e3d87cc3b60a156b4c70b7703d50611f03b691811cbd1b7132f659519ba808a5a8bb3c48fd29aa2857e5d387d5076edd956d02b9fed648988c6cf68486141bcb75a4bc8efcda1a52bf688852d3e1528c453bfab38053a7b6e4474c72b835d0271d951e98e5fe328db120663aecd8d2a9486378bf55a663db424cf0d599ac17de14822e6d11c044b1ec99c3a64e61a463eafa1534f9f1ea9614d30f60631ff85a5623e90e5376c3201b61342086c78c99054ff7768446ec9251f348caa091f4cb2a391d,mental-health-corpus:https%3A%2F%2Fstorage.googleapis.com%2Fkaggle-data-sets%2F2782228%2F4805127%2Fbundle%2Farchive.zip%3FX-Goog-Algorithm%3DGOOG4-RSA-SHA256%26X-Goog-Credential%3Dgcp-kaggle-com%2540kaggle-161607.iam.gserviceaccount.com%252F20240611%252Fauto%252Fstorage%252Fgoog4_request%26X-Goog-Date%3D20240611T070800Z%26X-Goog-Expires%3D259200%26X-Goog-SignedHeaders%3Dhost%26X-Goog-Signature%3D2b9fafd06be629b7d59d1ad6dce32e2a72f57bc8646aaadfc48f6bc0e705769013b03fb7417e04c39686b22176f4cdab084c5011d4298b0ee1baa00ac603a9c4bf6f419a02990d454a667732c21846ada7a46485b74848360ecde149340f5a661bef47f0580c78a4d5e04039f60565a8f2bec0847f49eacea25a6947f40b138cb8786599603066969992e1197ab06e89eed3861578b7e06efa042d074afe2dec63b91814bded520b14f9955b0b47e4fc0c0c27ea8b17c90881e965d91ac98541d74214c6772c026e8f09ee37781432989f588239631ffb575dc5b9e6b6bfa49e50efe9ca1559f9687ddc8069b62bd9d71b67433a2d32374a6babb59f3cc5e55d'\n",
        "\n",
        "KAGGLE_INPUT_PATH='/kaggle/input'\n",
        "KAGGLE_WORKING_PATH='/kaggle/working'\n",
        "KAGGLE_SYMLINK='kaggle'\n",
        "\n",
        "!umount /kaggle/input/ 2> /dev/null\n",
        "shutil.rmtree('/kaggle/input', ignore_errors=True)\n",
        "os.makedirs(KAGGLE_INPUT_PATH, 0o777, exist_ok=True)\n",
        "os.makedirs(KAGGLE_WORKING_PATH, 0o777, exist_ok=True)\n",
        "\n",
        "try:\n",
        "  os.symlink(KAGGLE_INPUT_PATH, os.path.join(\"..\", 'input'), target_is_directory=True)\n",
        "except FileExistsError:\n",
        "  pass\n",
        "try:\n",
        "  os.symlink(KAGGLE_WORKING_PATH, os.path.join(\"..\", 'working'), target_is_directory=True)\n",
        "except FileExistsError:\n",
        "  pass\n",
        "\n",
        "for data_source_mapping in DATA_SOURCE_MAPPING.split(','):\n",
        "    directory, download_url_encoded = data_source_mapping.split(':')\n",
        "    download_url = unquote(download_url_encoded)\n",
        "    filename = urlparse(download_url).path\n",
        "    destination_path = os.path.join(KAGGLE_INPUT_PATH, directory)\n",
        "    try:\n",
        "        with urlopen(download_url) as fileres, NamedTemporaryFile() as tfile:\n",
        "            total_length = fileres.headers['content-length']\n",
        "            print(f'Downloading {directory}, {total_length} bytes compressed')\n",
        "            dl = 0\n",
        "            data = fileres.read(CHUNK_SIZE)\n",
        "            while len(data) > 0:\n",
        "                dl += len(data)\n",
        "                tfile.write(data)\n",
        "                done = int(50 * dl / int(total_length))\n",
        "                sys.stdout.write(f\"\\r[{'=' * done}{' ' * (50-done)}] {dl} bytes downloaded\")\n",
        "                sys.stdout.flush()\n",
        "                data = fileres.read(CHUNK_SIZE)\n",
        "            if filename.endswith('.zip'):\n",
        "              with ZipFile(tfile) as zfile:\n",
        "                zfile.extractall(destination_path)\n",
        "            else:\n",
        "              with tarfile.open(tfile.name) as tarfile:\n",
        "                tarfile.extractall(destination_path)\n",
        "            print(f'\\nDownloaded and uncompressed: {directory}')\n",
        "    except HTTPError as e:\n",
        "        print(f'Failed to load (likely expired) {download_url} to path {destination_path}')\n",
        "        continue\n",
        "    except OSError as e:\n",
        "        print(f'Failed to load {download_url} to path {destination_path}')\n",
        "        continue\n",
        "\n",
        "print('Data source import complete.')\n"
      ],
      "metadata": {
        "id": "YC6lsT-FIEIp"
      },
      "cell_type": "code",
      "outputs": [],
      "execution_count": null
    },
    {
      "cell_type": "code",
      "source": [
        "# This Python 3 environment comes with many helpful analytics libraries installed\n",
        "# It is defined by the kaggle/python Docker image: https://github.com/kaggle/docker-python\n",
        "# For example, here's several helpful packages to load\n",
        "\n",
        "import numpy as np # linear algebra\n",
        "import pandas as pd # data processing, CSV file I/O (e.g. pd.read_csv)\n",
        "\n",
        "# Input data files are available in the read-only \"../input/\" directory\n",
        "# For example, running this (by clicking run or pressing Shift+Enter) will list all files under the input directory\n",
        "\n",
        "import os\n",
        "for dirname, _, filenames in os.walk('/kaggle/input'):\n",
        "    for filename in filenames:\n",
        "        print(os.path.join(dirname, filename))\n",
        "\n",
        "# You can write up to 20GB to the current directory (/kaggle/working/) that gets preserved as output when you create a version using \"Save & Run All\"\n",
        "# You can also write temporary files to /kaggle/temp/, but they won't be saved outside of the current session"
      ],
      "metadata": {
        "_uuid": "8f2839f25d086af736a60e9eeb907d3b93b6e0e5",
        "_cell_guid": "b1076dfc-b9ad-4769-8c92-a6c4dae69d19",
        "execution": {
          "iopub.status.busy": "2023-10-01T03:10:05.016442Z",
          "iopub.execute_input": "2023-10-01T03:10:05.016823Z",
          "iopub.status.idle": "2023-10-01T03:10:05.77819Z",
          "shell.execute_reply.started": "2023-10-01T03:10:05.016794Z",
          "shell.execute_reply": "2023-10-01T03:10:05.777116Z"
        },
        "trusted": true,
        "id": "D25TJq9wIEIv"
      },
      "execution_count": null,
      "outputs": []
    },
    {
      "cell_type": "markdown",
      "source": [
        "# **Stress Prediction**"
      ],
      "metadata": {
        "id": "v16eKFX3IEIw"
      }
    },
    {
      "cell_type": "code",
      "source": [
        "!wget https://raw.githubusercontent.com/mrdbourke/tensorflow-deep-learning/main/extras/helper_functions.py\n",
        "from helper_functions import unzip_data, create_tensorboard_callback, plot_loss_curves, compare_historys, walk_through_dir"
      ],
      "metadata": {
        "execution": {
          "iopub.status.busy": "2023-10-01T03:10:08.645059Z",
          "iopub.execute_input": "2023-10-01T03:10:08.645543Z",
          "iopub.status.idle": "2023-10-01T03:10:18.722853Z",
          "shell.execute_reply.started": "2023-10-01T03:10:08.645509Z",
          "shell.execute_reply": "2023-10-01T03:10:18.721736Z"
        },
        "trusted": true,
        "id": "GCHQqWd5IEIz"
      },
      "execution_count": null,
      "outputs": []
    },
    {
      "cell_type": "code",
      "source": [
        "import pandas as pd\n",
        "\n",
        "# Load CSV file into a DataFrame\n",
        "\n",
        "df = pd.read_csv('/kaggle/input/mental-health-corpus/mental_health.csv')\n",
        "\n",
        "# Display the DataFrame\n",
        "df.head(20)"
      ],
      "metadata": {
        "execution": {
          "iopub.status.busy": "2023-10-01T03:10:21.041525Z",
          "iopub.execute_input": "2023-10-01T03:10:21.042586Z",
          "iopub.status.idle": "2023-10-01T03:10:21.406906Z",
          "shell.execute_reply.started": "2023-10-01T03:10:21.042539Z",
          "shell.execute_reply": "2023-10-01T03:10:21.405805Z"
        },
        "trusted": true,
        "id": "0RqS5sTSIEI1"
      },
      "execution_count": null,
      "outputs": []
    },
    {
      "cell_type": "code",
      "source": [
        "df.info()"
      ],
      "metadata": {
        "execution": {
          "iopub.status.busy": "2023-10-01T03:10:25.72315Z",
          "iopub.execute_input": "2023-10-01T03:10:25.724023Z",
          "iopub.status.idle": "2023-10-01T03:10:25.756156Z",
          "shell.execute_reply.started": "2023-10-01T03:10:25.723991Z",
          "shell.execute_reply": "2023-10-01T03:10:25.755055Z"
        },
        "trusted": true,
        "id": "mhE5H2x1IEI2"
      },
      "execution_count": null,
      "outputs": []
    },
    {
      "cell_type": "code",
      "source": [
        "import matplotlib.pyplot as plt\n",
        "\n",
        "# Calculate the value counts of the 'category' column\n",
        "category_counts = df['label'].value_counts()\n",
        "\n",
        "# Bar chart\n",
        "plt.figure(figsize=(6, 4))\n",
        "category_counts.plot(kind='bar')\n",
        "plt.xlabel('Label')\n",
        "plt.ylabel('Counts')\n",
        "plt.title('Bar Chart of Counts')\n",
        "plt.show()\n",
        "print()\n",
        "\n",
        "# Pie chart\n",
        "plt.figure(figsize=(6, 4))\n",
        "category_counts.plot(kind='pie', autopct='%1.1f%%')\n",
        "plt.axis('equal')  # Equal aspect ratio ensures that pie is drawn as a circle\n",
        "plt.title('Pie Chart of Distribution')\n",
        "\n",
        "# Add legend\n",
        "plt.legend()\n",
        "\n",
        "plt.show()"
      ],
      "metadata": {
        "execution": {
          "iopub.status.busy": "2023-10-01T03:10:29.364956Z",
          "iopub.execute_input": "2023-10-01T03:10:29.365341Z",
          "iopub.status.idle": "2023-10-01T03:10:29.850666Z",
          "shell.execute_reply.started": "2023-10-01T03:10:29.365291Z",
          "shell.execute_reply": "2023-10-01T03:10:29.849603Z"
        },
        "trusted": true,
        "id": "UAU5uY-jIEI2"
      },
      "execution_count": null,
      "outputs": []
    },
    {
      "cell_type": "code",
      "source": [
        "print('There are', df.shape[0], 'data in this dataset')\n",
        "\n",
        "# Do we have duplicates?\n",
        "print('Number of Duplicates:', len(df[df.duplicated()]))\n",
        "\n",
        "# Do we have missing values?\n",
        "missing_values = df.isnull().sum()\n",
        "print('Number of Missing Values by column:\\n',missing_values)\n",
        "\n",
        "print('Number of Missing Values:', df.isnull().sum().sum())"
      ],
      "metadata": {
        "execution": {
          "iopub.status.busy": "2023-10-01T03:10:34.790758Z",
          "iopub.execute_input": "2023-10-01T03:10:34.79113Z",
          "iopub.status.idle": "2023-10-01T03:10:34.850607Z",
          "shell.execute_reply.started": "2023-10-01T03:10:34.791094Z",
          "shell.execute_reply": "2023-10-01T03:10:34.849493Z"
        },
        "trusted": true,
        "id": "QZvruPZbIEI3"
      },
      "execution_count": null,
      "outputs": []
    },
    {
      "cell_type": "code",
      "source": [
        "df.replace(\"\", np.nan, inplace=True)\n",
        "missing_values = df.isnull().sum()\n",
        "print('Number of Missing Values and Empty Spaces by column:\\n',missing_values)"
      ],
      "metadata": {
        "execution": {
          "iopub.status.busy": "2023-10-01T03:10:38.01831Z",
          "iopub.execute_input": "2023-10-01T03:10:38.018944Z",
          "iopub.status.idle": "2023-10-01T03:10:38.034902Z",
          "shell.execute_reply.started": "2023-10-01T03:10:38.018913Z",
          "shell.execute_reply": "2023-10-01T03:10:38.033855Z"
        },
        "trusted": true,
        "id": "AtGc-I3WIEI4"
      },
      "execution_count": null,
      "outputs": []
    },
    {
      "cell_type": "code",
      "source": [
        "duplicate_rows = df[df.duplicated(keep=False)]\n",
        "\n",
        "# Then sort the dataframe on all columns to ensure duplicates are adjacent\n",
        "sorted_duplicates = duplicate_rows.sort_values(by=list(duplicate_rows.columns))\n",
        "\n",
        "# Now, if we want to see 5 pairs of duplicates (10 rows), we can simply:\n",
        "top_5_duplicate_pairs = sorted_duplicates.head(20)\n",
        "\n",
        "top_5_duplicate_pairs"
      ],
      "metadata": {
        "execution": {
          "iopub.status.busy": "2023-10-01T03:10:40.508753Z",
          "iopub.execute_input": "2023-10-01T03:10:40.509127Z",
          "iopub.status.idle": "2023-10-01T03:10:40.567Z",
          "shell.execute_reply.started": "2023-10-01T03:10:40.509086Z",
          "shell.execute_reply": "2023-10-01T03:10:40.565964Z"
        },
        "trusted": true,
        "id": "s2dE_k5HIEI5"
      },
      "execution_count": null,
      "outputs": []
    },
    {
      "cell_type": "code",
      "source": [
        "df = df.drop_duplicates()\n",
        "print('Number of Duplicates:', len(df[df.duplicated()]))"
      ],
      "metadata": {
        "execution": {
          "iopub.status.busy": "2023-10-01T03:10:44.426927Z",
          "iopub.execute_input": "2023-10-01T03:10:44.427665Z",
          "iopub.status.idle": "2023-10-01T03:10:44.513222Z",
          "shell.execute_reply.started": "2023-10-01T03:10:44.427624Z",
          "shell.execute_reply": "2023-10-01T03:10:44.512145Z"
        },
        "trusted": true,
        "id": "lZa6sqUeIEI5"
      },
      "execution_count": null,
      "outputs": []
    },
    {
      "cell_type": "code",
      "source": [
        "df = df.dropna()\n",
        "print('Number of Missing Values:', df.isnull().sum().sum())"
      ],
      "metadata": {
        "execution": {
          "iopub.status.busy": "2023-10-01T03:10:49.81121Z",
          "iopub.execute_input": "2023-10-01T03:10:49.811611Z",
          "iopub.status.idle": "2023-10-01T03:10:49.828994Z",
          "shell.execute_reply.started": "2023-10-01T03:10:49.811586Z",
          "shell.execute_reply": "2023-10-01T03:10:49.827766Z"
        },
        "trusted": true,
        "id": "TxLZNCLSIEI6"
      },
      "execution_count": null,
      "outputs": []
    },
    {
      "cell_type": "code",
      "source": [
        "df.info()"
      ],
      "metadata": {
        "execution": {
          "iopub.status.busy": "2023-10-01T03:10:52.074958Z",
          "iopub.execute_input": "2023-10-01T03:10:52.075507Z",
          "iopub.status.idle": "2023-10-01T03:10:52.088654Z",
          "shell.execute_reply.started": "2023-10-01T03:10:52.075478Z",
          "shell.execute_reply": "2023-10-01T03:10:52.087891Z"
        },
        "trusted": true,
        "id": "zx1JeN3RIEI6"
      },
      "execution_count": null,
      "outputs": []
    },
    {
      "cell_type": "code",
      "source": [
        "def random_sample_reviews(df, num_samples):\n",
        "    # Use groupby on 'Rating' and then apply the sample function to 'Review_Text' of each group\n",
        "    samples = df.groupby('label')['text'].apply(lambda x: x.sample(num_samples))\n",
        "\n",
        "    # Convert series to dataframe and reset index\n",
        "    # samples_df = samples.reset_index()\n",
        "    samples_df = samples.reset_index().drop(columns='level_1')\n",
        "\n",
        "    return samples_df\n",
        "pd.set_option('display.max_colwidth', 200) # This will display up to 100 characters\n",
        "samples = random_sample_reviews(df, num_samples=3)\n",
        "samples.head(20)"
      ],
      "metadata": {
        "execution": {
          "iopub.status.busy": "2023-10-01T03:10:54.245742Z",
          "iopub.execute_input": "2023-10-01T03:10:54.246118Z",
          "iopub.status.idle": "2023-10-01T03:10:54.267849Z",
          "shell.execute_reply.started": "2023-10-01T03:10:54.246081Z",
          "shell.execute_reply": "2023-10-01T03:10:54.266764Z"
        },
        "trusted": true,
        "id": "aIJgd0wjIEI7"
      },
      "execution_count": null,
      "outputs": []
    },
    {
      "cell_type": "code",
      "source": [
        "from sklearn.model_selection import train_test_split\n",
        "from sklearn import metrics\n",
        "\n",
        "import re\n",
        "import string\n",
        "\n",
        "from tensorflow import keras\n",
        "from tensorflow.keras.preprocessing import sequence\n",
        "from tensorflow.keras.models import Sequential\n",
        "from tensorflow.keras.layers import Dense, Embedding\n",
        "from tensorflow.keras.layers import SimpleRNN, LSTM\n",
        "from tensorflow.keras.preprocessing.text import Tokenizer\n",
        "from tensorflow.keras.preprocessing.sequence import pad_sequences"
      ],
      "metadata": {
        "execution": {
          "iopub.status.busy": "2023-10-01T03:10:57.479452Z",
          "iopub.execute_input": "2023-10-01T03:10:57.479839Z",
          "iopub.status.idle": "2023-10-01T03:10:57.500784Z",
          "shell.execute_reply.started": "2023-10-01T03:10:57.479809Z",
          "shell.execute_reply": "2023-10-01T03:10:57.499979Z"
        },
        "trusted": true,
        "id": "8-QHXAbCIEI7"
      },
      "execution_count": null,
      "outputs": []
    },
    {
      "cell_type": "code",
      "source": [
        "def strip_emoji(text):\n",
        "    emoji_pattern = re.compile(\"[\"\n",
        "        u\"\\U0001F600-\\U0001F64F\"  # emoticons\n",
        "        u\"\\U0001F300-\\U0001F5FF\"  # symbols & pictographs\n",
        "        u\"\\U0001F680-\\U0001F6FF\"  # transport & map symbols\n",
        "        u\"\\U0001F1E0-\\U0001F1FF\"  # flags (iOS)\n",
        "        u\"\\U00002500-\\U00002BEF\"  # chinese characters\n",
        "        u\"\\U00002702-\\U000027B0\"\n",
        "        u\"\\U00002702-\\U000027B0\"\n",
        "        u\"\\U000024C2-\\U0001F251\"\n",
        "        u\"\\U0001f926-\\U0001f937\"\n",
        "        u\"\\U00010000-\\U0010ffff\"\n",
        "        u\"\\u2640-\\u2642\"\n",
        "        u\"\\u2600-\\u2B55\"\n",
        "        u\"\\u200d\"\n",
        "        u\"\\u23cf\"\n",
        "        u\"\\u23e9\"\n",
        "        u\"\\u231a\"\n",
        "        u\"\\ufe0f\"  # dingbats\n",
        "        u\"\\u3030\"\n",
        "                           \"]+\", flags=re.UNICODE)\n",
        "    return emoji_pattern.sub(r'', text)\n",
        "\n",
        "#Remove punctuations, links, mentions and \\r\\n new line characters\n",
        "def strip_all_entities(text):\n",
        "    text = text.replace('\\r', '').replace('\\n', ' ').replace('\\n', ' ').lower() #remove \\n and \\r and lowercase\n",
        "    text = re.sub(r\"(?:\\@|https?\\://)\\S+\", \"\", text) #remove links and mentions\n",
        "    text = re.sub(r'[^\\x00-\\x7f]',r'', text) #remove non utf8/ascii characters such as '\\x9a\\x91\\x97\\x9a\\x97'\n",
        "    banned_list= string.punctuation + 'Ã'+'±'+'ã'+'¼'+'â'+'»'+'§'\n",
        "    table = str.maketrans('', '', banned_list)\n",
        "    text = text.translate(table)\n",
        "    return text\n",
        "\n",
        "#clean hashtags at the end of the sentence, and keep those in the middle of the sentence by removing just the # symbol\n",
        "def clean_hashtags(text):\n",
        "    new_text = \" \".join(word.strip() for word in re.split('#(?!(?:hashtag)\\b)[\\w-]+(?=(?:\\s+#[\\w-]+)*\\s*$)', text)) #remove last hashtags\n",
        "    new_text2 = \" \".join(word.strip() for word in re.split('#|_', new_text)) #remove hashtags symbol from words in the middle of the sentence\n",
        "    return new_text2\n",
        "\n",
        "#Filter special characters such as & and $ present in some words\n",
        "def filter_chars(a):\n",
        "    sent = []\n",
        "    for word in a.split(' '):\n",
        "        if ('$' in word) | ('&' in word):\n",
        "            sent.append('')\n",
        "        else:\n",
        "            sent.append(word)\n",
        "    return ' '.join(sent)\n",
        "\n",
        "def remove_mult_spaces(text): # remove multiple spaces\n",
        "    return re.sub(\"\\s\\s+\" , \" \", text)\n"
      ],
      "metadata": {
        "execution": {
          "iopub.status.busy": "2023-10-01T03:11:00.382912Z",
          "iopub.execute_input": "2023-10-01T03:11:00.383706Z",
          "iopub.status.idle": "2023-10-01T03:11:00.396176Z",
          "shell.execute_reply.started": "2023-10-01T03:11:00.383662Z",
          "shell.execute_reply": "2023-10-01T03:11:00.395042Z"
        },
        "trusted": true,
        "id": "AXQY93NyIEI7"
      },
      "execution_count": null,
      "outputs": []
    },
    {
      "cell_type": "code",
      "source": [
        "df['text1'] = (df['text']\n",
        "                     .apply(strip_emoji)\n",
        "                     .apply(strip_all_entities)\n",
        "                     .apply(clean_hashtags)\n",
        "                     .apply(filter_chars)\n",
        "                     .apply(remove_mult_spaces))"
      ],
      "metadata": {
        "execution": {
          "iopub.status.busy": "2023-10-01T03:11:04.174275Z",
          "iopub.execute_input": "2023-10-01T03:11:04.175091Z",
          "iopub.status.idle": "2023-10-01T03:11:06.010602Z",
          "shell.execute_reply.started": "2023-10-01T03:11:04.175061Z",
          "shell.execute_reply": "2023-10-01T03:11:06.009814Z"
        },
        "trusted": true,
        "id": "KKsYssmWIEI8"
      },
      "execution_count": null,
      "outputs": []
    },
    {
      "cell_type": "code",
      "source": [
        "df.head()"
      ],
      "metadata": {
        "execution": {
          "iopub.status.busy": "2023-10-01T03:11:07.885749Z",
          "iopub.execute_input": "2023-10-01T03:11:07.886426Z",
          "iopub.status.idle": "2023-10-01T03:11:07.897524Z",
          "shell.execute_reply.started": "2023-10-01T03:11:07.886383Z",
          "shell.execute_reply": "2023-10-01T03:11:07.896205Z"
        },
        "trusted": true,
        "id": "EyTlwQ-uIEI8"
      },
      "execution_count": null,
      "outputs": []
    },
    {
      "cell_type": "code",
      "source": [
        "df_comparison = pd.DataFrame()\n",
        "\n",
        "# Original text and its length\n",
        "df_comparison['pre-clean text'] = df['text']\n",
        "df_comparison['pre-clean len'] = df['text'].apply(lambda x: len(str(x).split()))\n",
        "\n",
        "# Cleaned text and its length\n",
        "df_comparison['post-clean text'] = df['text1']\n",
        "df_comparison['post-clean len'] = df['text1'].apply(lambda x: len(str(x).split()))\n",
        "\n",
        "df_comparison.head(20)"
      ],
      "metadata": {
        "execution": {
          "iopub.status.busy": "2023-10-01T03:11:11.772587Z",
          "iopub.execute_input": "2023-10-01T03:11:11.773368Z",
          "iopub.status.idle": "2023-10-01T03:11:12.045382Z",
          "shell.execute_reply.started": "2023-10-01T03:11:11.773303Z",
          "shell.execute_reply": "2023-10-01T03:11:12.044406Z"
        },
        "trusted": true,
        "id": "UM3X5iTgIEI8"
      },
      "execution_count": null,
      "outputs": []
    },
    {
      "cell_type": "code",
      "source": [
        "def remove_stopwords(sentence):\n",
        "    \"\"\"\n",
        "    Removes a list of stopwords\n",
        "\n",
        "    Args:\n",
        "        sentence (string): sentence to remove the stopwords from\n",
        "\n",
        "    Returns:\n",
        "        sentence (string): lowercase sentence without the stopwords\n",
        "    \"\"\"\n",
        "    # List of stopwords\n",
        "    stopwords = [\"a\", \"about\", \"above\", \"after\", \"again\", \"against\", \"all\", \"am\", \"an\", \"and\", \"any\", \"are\", \"as\", \"at\", \"be\", \"because\", \"been\", \"before\", \"being\", \"below\", \"between\", \"both\", \"but\", \"by\", \"could\", \"did\", \"do\", \"does\", \"doing\", \"down\", \"during\", \"each\", \"few\", \"for\", \"from\", \"further\", \"had\", \"has\", \"have\", \"having\", \"he\", \"he'd\", \"he'll\", \"he's\", \"her\", \"here\", \"here's\", \"hers\", \"herself\", \"him\", \"himself\", \"his\", \"how\", \"how's\", \"i\", \"i'd\", \"i'll\", \"i'm\", \"i've\", \"if\", \"in\", \"into\", \"is\", \"it\", \"it's\", \"its\", \"itself\", \"let's\", \"me\", \"more\", \"most\", \"my\", \"myself\", \"nor\", \"of\", \"on\", \"once\", \"only\", \"or\", \"other\", \"ought\", \"our\", \"ours\", \"ourselves\", \"out\", \"over\", \"own\", \"same\", \"she\", \"she'd\", \"she'll\", \"she's\", \"should\", \"so\", \"some\", \"such\", \"than\", \"that\", \"that's\", \"the\", \"their\", \"theirs\", \"them\", \"themselves\", \"then\", \"there\", \"there's\", \"these\", \"they\", \"they'd\", \"they'll\", \"they're\", \"they've\", \"this\", \"those\", \"through\", \"to\", \"too\", \"under\", \"until\", \"up\", \"very\", \"was\", \"we\", \"we'd\", \"we'll\", \"we're\", \"we've\", \"were\", \"what\", \"what's\", \"when\", \"when's\", \"where\", \"where's\", \"which\", \"while\", \"who\", \"who's\", \"whom\", \"why\", \"why's\", \"with\", \"would\", \"you\", \"you'd\", \"you'll\", \"you're\", \"you've\", \"your\", \"yours\", \"yourself\", \"yourselves\" ]\n",
        "\n",
        "    # Sentence converted to lowercase-only\n",
        "    sentence = sentence.lower()\n",
        "\n",
        "    words = sentence.split()\n",
        "    no_words = [w for w in words if w not in stopwords]\n",
        "    sentence = \" \".join(no_words)\n",
        "\n",
        "    return sentence"
      ],
      "metadata": {
        "execution": {
          "iopub.status.busy": "2023-10-01T03:11:19.232281Z",
          "iopub.execute_input": "2023-10-01T03:11:19.232642Z",
          "iopub.status.idle": "2023-10-01T03:11:19.2446Z",
          "shell.execute_reply.started": "2023-10-01T03:11:19.232615Z",
          "shell.execute_reply": "2023-10-01T03:11:19.243574Z"
        },
        "trusted": true,
        "id": "YwTQjgwvIEI8"
      },
      "execution_count": null,
      "outputs": []
    },
    {
      "cell_type": "code",
      "source": [
        "df['text2'] = (df['text1'].apply(remove_stopwords))"
      ],
      "metadata": {
        "execution": {
          "iopub.status.busy": "2023-10-01T03:11:22.050999Z",
          "iopub.execute_input": "2023-10-01T03:11:22.051372Z",
          "iopub.status.idle": "2023-10-01T03:11:26.664956Z",
          "shell.execute_reply.started": "2023-10-01T03:11:22.051333Z",
          "shell.execute_reply": "2023-10-01T03:11:26.664072Z"
        },
        "trusted": true,
        "id": "YVhMG0BbIEI9"
      },
      "execution_count": null,
      "outputs": []
    },
    {
      "cell_type": "code",
      "source": [
        "df_comp = pd.DataFrame()\n",
        "\n",
        "# Original text and its length\n",
        "df_comp['pre-clean text'] = df['text1']\n",
        "df_comp['pre-clean len'] = df['text1'].apply(lambda x: len(str(x).split()))\n",
        "\n",
        "# Cleaned text and its length\n",
        "df_comp['post-clean text'] = df['text2']\n",
        "df_comp['post-clean len'] = df['text2'].apply(lambda x: len(str(x).split()))\n",
        "\n",
        "df_comp.head(20)"
      ],
      "metadata": {
        "execution": {
          "iopub.status.busy": "2023-10-01T03:11:26.66648Z",
          "iopub.execute_input": "2023-10-01T03:11:26.667438Z",
          "iopub.status.idle": "2023-10-01T03:11:26.929115Z",
          "shell.execute_reply.started": "2023-10-01T03:11:26.667406Z",
          "shell.execute_reply": "2023-10-01T03:11:26.927673Z"
        },
        "trusted": true,
        "id": "fW2bbqIKIEI9"
      },
      "execution_count": null,
      "outputs": []
    },
    {
      "cell_type": "code",
      "source": [
        "!unzip /usr/share/nltk_data/corpora/wordnet.zip -d /usr/share/nltk_data/corpora/\n",
        "\n",
        "import nltk\n",
        "nltk.download('wordnet')\n",
        "nltk.download('punkt')\n",
        "\n",
        "from nltk.stem import WordNetLemmatizer\n",
        "from nltk.tokenize import word_tokenize\n",
        "\n",
        "lemmatizer = WordNetLemmatizer()\n",
        "\n",
        "def lemmatize_text(text):\n",
        "    # Tokenize the sentence\n",
        "    word_list = nltk.word_tokenize(text)\n",
        "\n",
        "    # Lemmatize list of words and join\n",
        "    lemmatized_output = ' '.join([lemmatizer.lemmatize(w) for w in word_list])\n",
        "\n",
        "    return lemmatized_output"
      ],
      "metadata": {
        "execution": {
          "iopub.status.busy": "2023-10-01T03:11:31.488597Z",
          "iopub.execute_input": "2023-10-01T03:11:31.489882Z",
          "iopub.status.idle": "2023-10-01T03:11:33.95859Z",
          "shell.execute_reply.started": "2023-10-01T03:11:31.489835Z",
          "shell.execute_reply": "2023-10-01T03:11:33.957191Z"
        },
        "trusted": true,
        "id": "oHzt7e2uIEI9"
      },
      "execution_count": null,
      "outputs": []
    },
    {
      "cell_type": "code",
      "source": [
        "df['text3'] = df['text2'].apply(lemmatize_text)"
      ],
      "metadata": {
        "execution": {
          "iopub.status.busy": "2023-10-01T03:11:44.77578Z",
          "iopub.execute_input": "2023-10-01T03:11:44.776129Z",
          "iopub.status.idle": "2023-10-01T03:12:10.537922Z",
          "shell.execute_reply.started": "2023-10-01T03:11:44.776101Z",
          "shell.execute_reply": "2023-10-01T03:12:10.536751Z"
        },
        "trusted": true,
        "id": "VUPnnWadIEI-"
      },
      "execution_count": null,
      "outputs": []
    },
    {
      "cell_type": "code",
      "source": [
        "df_lemma = pd.DataFrame()\n",
        "\n",
        "# Original text and its length\n",
        "df_lemma['pre-clean text'] = df['text2']\n",
        "df_lemma['pre-clean len'] = df['text2'].apply(lambda x: len(str(x).split()))\n",
        "\n",
        "# Cleaned text and its length\n",
        "df_lemma['post-clean text'] = df['text3']\n",
        "df_lemma['post-clean len'] = df['text3'].apply(lambda x: len(str(x).split()))\n",
        "\n",
        "df_lemma.head(20)"
      ],
      "metadata": {
        "execution": {
          "iopub.status.busy": "2023-10-01T03:12:13.629997Z",
          "iopub.execute_input": "2023-10-01T03:12:13.630403Z",
          "iopub.status.idle": "2023-10-01T03:12:13.888623Z",
          "shell.execute_reply.started": "2023-10-01T03:12:13.630364Z",
          "shell.execute_reply": "2023-10-01T03:12:13.887665Z"
        },
        "trusted": true,
        "id": "-DkdhrXbIEI-"
      },
      "execution_count": null,
      "outputs": []
    },
    {
      "cell_type": "code",
      "source": [
        "df['text_length'] = df['text3'].apply(lambda x: len(str(x).split()))"
      ],
      "metadata": {
        "execution": {
          "iopub.status.busy": "2023-10-01T03:12:18.135389Z",
          "iopub.execute_input": "2023-10-01T03:12:18.135781Z",
          "iopub.status.idle": "2023-10-01T03:12:18.257945Z",
          "shell.execute_reply.started": "2023-10-01T03:12:18.135749Z",
          "shell.execute_reply": "2023-10-01T03:12:18.256782Z"
        },
        "trusted": true,
        "id": "2WhthieBIEI-"
      },
      "execution_count": null,
      "outputs": []
    },
    {
      "cell_type": "code",
      "source": [
        "text_lengths = [len(text.split()) for text in df[\"text3\"]]\n",
        "\n",
        "# Find the 95th quartile\n",
        "quartile_95 = np.percentile(text_lengths, 95)\n",
        "\n",
        "print(f\"95th Quartile of Text Lengths: {quartile_95}\")"
      ],
      "metadata": {
        "execution": {
          "iopub.status.busy": "2023-10-01T03:12:22.473111Z",
          "iopub.execute_input": "2023-10-01T03:12:22.473507Z",
          "iopub.status.idle": "2023-10-01T03:12:22.5986Z",
          "shell.execute_reply.started": "2023-10-01T03:12:22.473475Z",
          "shell.execute_reply": "2023-10-01T03:12:22.59784Z"
        },
        "trusted": true,
        "id": "QhhvzE4-IEI-"
      },
      "execution_count": null,
      "outputs": []
    },
    {
      "cell_type": "code",
      "source": [
        "plt.figure(figsize=(10, 6))\n",
        "plt.hist(text_lengths, bins=20, edgecolor='black')\n",
        "plt.xlabel('Word Length')\n",
        "plt.ylabel('Frequency')\n",
        "plt.title('Distribution of Text Lengths')\n",
        "\n",
        "# Adding a vertical line for the 95th quartile\n",
        "quartile_95 = np.percentile(text_lengths, 95)\n",
        "plt.axvline(x=quartile_95, color='red', linestyle='--', label='95th Quartile')\n",
        "plt.legend()\n",
        "\n",
        "plt.grid(True)\n",
        "plt.show()"
      ],
      "metadata": {
        "execution": {
          "iopub.status.busy": "2023-10-01T03:12:27.343932Z",
          "iopub.execute_input": "2023-10-01T03:12:27.344602Z",
          "iopub.status.idle": "2023-10-01T03:12:27.750031Z",
          "shell.execute_reply.started": "2023-10-01T03:12:27.344567Z",
          "shell.execute_reply": "2023-10-01T03:12:27.748902Z"
        },
        "trusted": true,
        "id": "FrkH1xtMIEI_"
      },
      "execution_count": null,
      "outputs": []
    },
    {
      "cell_type": "code",
      "source": [
        "df.text_length.describe()"
      ],
      "metadata": {
        "execution": {
          "iopub.status.busy": "2023-10-01T03:12:31.216612Z",
          "iopub.execute_input": "2023-10-01T03:12:31.216954Z",
          "iopub.status.idle": "2023-10-01T03:12:31.229863Z",
          "shell.execute_reply.started": "2023-10-01T03:12:31.21693Z",
          "shell.execute_reply": "2023-10-01T03:12:31.228819Z"
        },
        "trusted": true,
        "id": "fGMtAX_nIEI_"
      },
      "execution_count": null,
      "outputs": []
    },
    {
      "cell_type": "code",
      "source": [
        "import seaborn as sns\n",
        "\n",
        "plt.figure(figsize=(7,5))\n",
        "ax = sns.countplot(x='text_length', data=df[df['text_length']<10], palette='mako')\n",
        "plt.title('Training text with less than 10 words')\n",
        "plt.yticks([])\n",
        "ax.bar_label(ax.containers[0])\n",
        "plt.ylabel('Count')\n",
        "plt.xlabel('')\n",
        "plt.show()"
      ],
      "metadata": {
        "execution": {
          "iopub.status.busy": "2023-10-01T03:12:33.646618Z",
          "iopub.execute_input": "2023-10-01T03:12:33.646987Z",
          "iopub.status.idle": "2023-10-01T03:12:34.185191Z",
          "shell.execute_reply.started": "2023-10-01T03:12:33.646959Z",
          "shell.execute_reply": "2023-10-01T03:12:34.183604Z"
        },
        "trusted": true,
        "id": "CMDaumwpIEI_"
      },
      "execution_count": null,
      "outputs": []
    },
    {
      "cell_type": "code",
      "source": [
        "data_head=df[df['text_length']<2]\n",
        "data_head.head(30)"
      ],
      "metadata": {
        "execution": {
          "iopub.status.busy": "2023-10-01T03:12:39.252055Z",
          "iopub.execute_input": "2023-10-01T03:12:39.25247Z",
          "iopub.status.idle": "2023-10-01T03:12:39.269029Z",
          "shell.execute_reply.started": "2023-10-01T03:12:39.25244Z",
          "shell.execute_reply": "2023-10-01T03:12:39.267872Z"
        },
        "trusted": true,
        "id": "eqfVz7h4IEJA"
      },
      "execution_count": null,
      "outputs": []
    },
    {
      "cell_type": "code",
      "source": [
        "len(df)"
      ],
      "metadata": {
        "execution": {
          "iopub.status.busy": "2023-10-01T03:12:42.874654Z",
          "iopub.execute_input": "2023-10-01T03:12:42.875005Z",
          "iopub.status.idle": "2023-10-01T03:12:42.881386Z",
          "shell.execute_reply.started": "2023-10-01T03:12:42.874978Z",
          "shell.execute_reply": "2023-10-01T03:12:42.880538Z"
        },
        "trusted": true,
        "id": "5NY_dULyIEJA"
      },
      "execution_count": null,
      "outputs": []
    },
    {
      "cell_type": "code",
      "source": [
        "df = df[df['text_length'] >= 3]"
      ],
      "metadata": {
        "execution": {
          "iopub.status.busy": "2023-10-01T03:13:01.819445Z",
          "iopub.execute_input": "2023-10-01T03:13:01.819849Z",
          "iopub.status.idle": "2023-10-01T03:13:01.840165Z",
          "shell.execute_reply.started": "2023-10-01T03:13:01.819817Z",
          "shell.execute_reply": "2023-10-01T03:13:01.839389Z"
        },
        "trusted": true,
        "id": "Vw3hJcuVIEJA"
      },
      "execution_count": null,
      "outputs": []
    },
    {
      "cell_type": "code",
      "source": [
        "len(df)"
      ],
      "metadata": {
        "execution": {
          "iopub.status.busy": "2023-10-01T03:13:04.816028Z",
          "iopub.execute_input": "2023-10-01T03:13:04.816674Z",
          "iopub.status.idle": "2023-10-01T03:13:04.823429Z",
          "shell.execute_reply.started": "2023-10-01T03:13:04.816614Z",
          "shell.execute_reply": "2023-10-01T03:13:04.822201Z"
        },
        "trusted": true,
        "id": "Mf5ZaayjIEJB"
      },
      "execution_count": null,
      "outputs": []
    },
    {
      "cell_type": "code",
      "source": [
        "df = df.drop(['text', 'text1', 'text2'], axis=1)"
      ],
      "metadata": {
        "execution": {
          "iopub.status.busy": "2023-10-01T03:13:06.987259Z",
          "iopub.execute_input": "2023-10-01T03:13:06.987668Z",
          "iopub.status.idle": "2023-10-01T03:13:06.997048Z",
          "shell.execute_reply.started": "2023-10-01T03:13:06.987639Z",
          "shell.execute_reply": "2023-10-01T03:13:06.995818Z"
        },
        "trusted": true,
        "id": "Crjb9znyIEJB"
      },
      "execution_count": null,
      "outputs": []
    },
    {
      "cell_type": "code",
      "source": [
        "df = df.sample(frac=1, random_state=42) # shuffle with random_state=42 for reproducibility\n",
        "df.head(30)"
      ],
      "metadata": {
        "execution": {
          "iopub.status.busy": "2023-10-01T03:13:09.063944Z",
          "iopub.execute_input": "2023-10-01T03:13:09.064345Z",
          "iopub.status.idle": "2023-10-01T03:13:09.086417Z",
          "shell.execute_reply.started": "2023-10-01T03:13:09.06429Z",
          "shell.execute_reply": "2023-10-01T03:13:09.0854Z"
        },
        "trusted": true,
        "id": "tTxOSjvWIEJB"
      },
      "execution_count": null,
      "outputs": []
    },
    {
      "cell_type": "code",
      "source": [
        "df.label.value_counts()"
      ],
      "metadata": {
        "execution": {
          "iopub.status.busy": "2023-10-01T03:13:13.268917Z",
          "iopub.execute_input": "2023-10-01T03:13:13.269519Z",
          "iopub.status.idle": "2023-10-01T03:13:13.277807Z",
          "shell.execute_reply.started": "2023-10-01T03:13:13.269488Z",
          "shell.execute_reply": "2023-10-01T03:13:13.2767Z"
        },
        "trusted": true,
        "id": "xhmlE8ImIEJB"
      },
      "execution_count": null,
      "outputs": []
    },
    {
      "cell_type": "code",
      "source": [
        "data = {\n",
        "    'Label': [\"Non-mental-health\", \"Mental-health\"],\n",
        "    'Label Encoded': [0,1]\n",
        "}\n",
        "\n",
        "# Create DataFrame\n",
        "dr = pd.DataFrame(data)\n",
        "\n",
        "# Print DataFrame\n",
        "dr"
      ],
      "metadata": {
        "execution": {
          "iopub.status.busy": "2023-10-01T03:13:14.883955Z",
          "iopub.execute_input": "2023-10-01T03:13:14.884327Z",
          "iopub.status.idle": "2023-10-01T03:13:14.89456Z",
          "shell.execute_reply.started": "2023-10-01T03:13:14.884286Z",
          "shell.execute_reply": "2023-10-01T03:13:14.893408Z"
        },
        "trusted": true,
        "id": "Q0qx86qYIEJE"
      },
      "execution_count": null,
      "outputs": []
    },
    {
      "cell_type": "code",
      "source": [
        "class_names=dr.Label.to_list()\n",
        "class_names"
      ],
      "metadata": {
        "execution": {
          "iopub.status.busy": "2023-10-01T03:13:17.474377Z",
          "iopub.execute_input": "2023-10-01T03:13:17.474735Z",
          "iopub.status.idle": "2023-10-01T03:13:17.481142Z",
          "shell.execute_reply.started": "2023-10-01T03:13:17.474708Z",
          "shell.execute_reply": "2023-10-01T03:13:17.47984Z"
        },
        "trusted": true,
        "id": "QRWM9_jOIEJF"
      },
      "execution_count": null,
      "outputs": []
    },
    {
      "cell_type": "code",
      "source": [
        "X = df['text3'].to_numpy()\n",
        "y = df['label'].to_numpy()"
      ],
      "metadata": {
        "execution": {
          "iopub.status.busy": "2023-10-01T03:13:19.546779Z",
          "iopub.execute_input": "2023-10-01T03:13:19.547138Z",
          "iopub.status.idle": "2023-10-01T03:13:19.552571Z",
          "shell.execute_reply.started": "2023-10-01T03:13:19.54711Z",
          "shell.execute_reply": "2023-10-01T03:13:19.551305Z"
        },
        "trusted": true,
        "id": "zkQmJ60fIEJN"
      },
      "execution_count": null,
      "outputs": []
    },
    {
      "cell_type": "code",
      "source": [
        "X_train, X_valid, y_train, y_valid = train_test_split(X, y, test_size=0.10, stratify=y, random_state=42)"
      ],
      "metadata": {
        "execution": {
          "iopub.status.busy": "2023-10-01T03:13:22.951157Z",
          "iopub.execute_input": "2023-10-01T03:13:22.951527Z",
          "iopub.status.idle": "2023-10-01T03:13:22.966519Z",
          "shell.execute_reply.started": "2023-10-01T03:13:22.951499Z",
          "shell.execute_reply": "2023-10-01T03:13:22.965729Z"
        },
        "trusted": true,
        "id": "2CFqNvjlIEJN"
      },
      "execution_count": null,
      "outputs": []
    },
    {
      "cell_type": "code",
      "source": [
        "X_train.shape, X_valid.shape, y_train.shape, y_valid.shape"
      ],
      "metadata": {
        "execution": {
          "iopub.status.busy": "2023-10-01T03:13:25.742502Z",
          "iopub.execute_input": "2023-10-01T03:13:25.742911Z",
          "iopub.status.idle": "2023-10-01T03:13:25.750054Z",
          "shell.execute_reply.started": "2023-10-01T03:13:25.742881Z",
          "shell.execute_reply": "2023-10-01T03:13:25.74899Z"
        },
        "trusted": true,
        "id": "RvdG_MFEIEJO"
      },
      "execution_count": null,
      "outputs": []
    },
    {
      "cell_type": "code",
      "source": [
        "len(X_train), len(X_valid), len(y_train), len(y_valid)"
      ],
      "metadata": {
        "execution": {
          "iopub.status.busy": "2023-10-01T03:13:27.678057Z",
          "iopub.execute_input": "2023-10-01T03:13:27.678462Z",
          "iopub.status.idle": "2023-10-01T03:13:27.6852Z",
          "shell.execute_reply.started": "2023-10-01T03:13:27.678409Z",
          "shell.execute_reply": "2023-10-01T03:13:27.684145Z"
        },
        "trusted": true,
        "id": "JHgqxDIGIEJO"
      },
      "execution_count": null,
      "outputs": []
    },
    {
      "cell_type": "code",
      "source": [
        "X_train"
      ],
      "metadata": {
        "execution": {
          "iopub.status.busy": "2023-10-01T03:13:30.480488Z",
          "iopub.execute_input": "2023-10-01T03:13:30.480817Z",
          "iopub.status.idle": "2023-10-01T03:13:30.486921Z",
          "shell.execute_reply.started": "2023-10-01T03:13:30.480792Z",
          "shell.execute_reply": "2023-10-01T03:13:30.485934Z"
        },
        "trusted": true,
        "id": "8BEvcf2kIEJO"
      },
      "execution_count": null,
      "outputs": []
    },
    {
      "cell_type": "code",
      "source": [
        "y_train, y_valid"
      ],
      "metadata": {
        "execution": {
          "iopub.status.busy": "2023-10-01T03:13:33.112518Z",
          "iopub.execute_input": "2023-10-01T03:13:33.112917Z",
          "iopub.status.idle": "2023-10-01T03:13:33.120774Z",
          "shell.execute_reply.started": "2023-10-01T03:13:33.112887Z",
          "shell.execute_reply": "2023-10-01T03:13:33.11951Z"
        },
        "trusted": true,
        "id": "rsTkNgNfIEJP"
      },
      "execution_count": null,
      "outputs": []
    },
    {
      "cell_type": "code",
      "source": [
        "round(sum([len(i.split()) for i in X_train])/len(X_train))"
      ],
      "metadata": {
        "execution": {
          "iopub.status.busy": "2023-10-01T03:13:34.976582Z",
          "iopub.execute_input": "2023-10-01T03:13:34.976925Z",
          "iopub.status.idle": "2023-10-01T03:13:35.090253Z",
          "shell.execute_reply.started": "2023-10-01T03:13:34.9769Z",
          "shell.execute_reply": "2023-10-01T03:13:35.089158Z"
        },
        "trusted": true,
        "id": "UaH2iCc4IEJP"
      },
      "execution_count": null,
      "outputs": []
    },
    {
      "cell_type": "code",
      "source": [
        "text_lengths = [len(text.split()) for text in X_train]\n",
        "\n",
        "# Find the 98th percentile\n",
        "percentile_95 = np.percentile(text_lengths, 95)\n",
        "\n",
        "print(f\"95th Percentile of Text Lengths: {percentile_95}\")"
      ],
      "metadata": {
        "execution": {
          "iopub.status.busy": "2023-10-01T03:13:37.000674Z",
          "iopub.execute_input": "2023-10-01T03:13:37.001544Z",
          "iopub.status.idle": "2023-10-01T03:13:37.114582Z",
          "shell.execute_reply.started": "2023-10-01T03:13:37.001502Z",
          "shell.execute_reply": "2023-10-01T03:13:37.113406Z"
        },
        "trusted": true,
        "id": "sldeQYhtIEJP"
      },
      "execution_count": null,
      "outputs": []
    },
    {
      "cell_type": "code",
      "source": [
        "plt.figure(figsize=(10, 6))\n",
        "plt.hist(text_lengths, bins=20, edgecolor='black')\n",
        "plt.xlabel('Word Length')\n",
        "plt.ylabel('Frequency')\n",
        "plt.title('Distribution of text Lengths')\n",
        "\n",
        "# Adding a vertical line for the 95th quartile\n",
        "quartile_95 = np.percentile(text_lengths, 95)\n",
        "plt.axvline(x=quartile_95, color='red', linestyle='--', label='95th Quartile')\n",
        "plt.legend()\n",
        "\n",
        "plt.grid(True)\n",
        "plt.show()"
      ],
      "metadata": {
        "execution": {
          "iopub.status.busy": "2023-10-01T03:13:39.304961Z",
          "iopub.execute_input": "2023-10-01T03:13:39.305365Z",
          "iopub.status.idle": "2023-10-01T03:13:39.706202Z",
          "shell.execute_reply.started": "2023-10-01T03:13:39.305333Z",
          "shell.execute_reply": "2023-10-01T03:13:39.705055Z"
        },
        "trusted": true,
        "id": "hm_0nJHIIEJQ"
      },
      "execution_count": null,
      "outputs": []
    },
    {
      "cell_type": "code",
      "source": [
        "max_text_length = max(text_lengths)\n",
        "print(f\"Maximum Text Length: {max_text_length}\")"
      ],
      "metadata": {
        "execution": {
          "iopub.status.busy": "2023-10-01T03:13:41.951947Z",
          "iopub.execute_input": "2023-10-01T03:13:41.952445Z",
          "iopub.status.idle": "2023-10-01T03:13:41.958525Z",
          "shell.execute_reply.started": "2023-10-01T03:13:41.952405Z",
          "shell.execute_reply": "2023-10-01T03:13:41.957368Z"
        },
        "trusted": true,
        "id": "nnMkI5NVIEJQ"
      },
      "execution_count": null,
      "outputs": []
    },
    {
      "cell_type": "code",
      "source": [
        "import tensorflow as tf\n",
        "from tensorflow.keras.layers.experimental.preprocessing import TextVectorization\n",
        "\n",
        "# Setup text vectorization with custom variables\n",
        "max_vocab_length =None # max number of words to have in our vocabulary\n",
        "max_length = int(percentile_95) # max length our sequences will be (e.g. how many words from a text does our model see?)\n",
        "\n",
        "text_vectorizer = TextVectorization(max_tokens=max_vocab_length,\n",
        "                                    output_mode=\"int\",\n",
        "                                    output_sequence_length=max_length)"
      ],
      "metadata": {
        "execution": {
          "iopub.status.busy": "2023-10-01T03:13:44.104057Z",
          "iopub.execute_input": "2023-10-01T03:13:44.104464Z",
          "iopub.status.idle": "2023-10-01T03:13:44.224178Z",
          "shell.execute_reply.started": "2023-10-01T03:13:44.104432Z",
          "shell.execute_reply": "2023-10-01T03:13:44.22318Z"
        },
        "trusted": true,
        "id": "sLdL5dygIEJQ"
      },
      "execution_count": null,
      "outputs": []
    },
    {
      "cell_type": "code",
      "source": [
        "text_vectorizer.adapt(X_train)"
      ],
      "metadata": {
        "execution": {
          "iopub.status.busy": "2023-10-01T03:13:47.155599Z",
          "iopub.execute_input": "2023-10-01T03:13:47.156743Z",
          "iopub.status.idle": "2023-10-01T03:13:48.904146Z",
          "shell.execute_reply.started": "2023-10-01T03:13:47.156699Z",
          "shell.execute_reply": "2023-10-01T03:13:48.902914Z"
        },
        "trusted": true,
        "id": "IGUwN5rTIEJR"
      },
      "execution_count": null,
      "outputs": []
    },
    {
      "cell_type": "code",
      "source": [
        "words_in_vocab = text_vectorizer.get_vocabulary()\n",
        "top_5_words = words_in_vocab[:5] # most common tokens (notice the [UNK] token for \"unknown\" words)\n",
        "bottom_5_words = words_in_vocab[-5:] # least common tokens\n",
        "print(f\"Number of words in vocab: {len(words_in_vocab)}\")\n",
        "print(f\"Top 5 most common words: {top_5_words}\")\n",
        "print(f\"Bottom 5 least common words: {bottom_5_words}\")"
      ],
      "metadata": {
        "execution": {
          "iopub.status.busy": "2023-10-01T03:13:50.288801Z",
          "iopub.execute_input": "2023-10-01T03:13:50.28917Z",
          "iopub.status.idle": "2023-10-01T03:13:54.698458Z",
          "shell.execute_reply.started": "2023-10-01T03:13:50.289141Z",
          "shell.execute_reply": "2023-10-01T03:13:54.697372Z"
        },
        "trusted": true,
        "id": "EQTISE0cIEJS"
      },
      "execution_count": null,
      "outputs": []
    },
    {
      "cell_type": "code",
      "source": [
        "max_vocab_length=len(words_in_vocab)"
      ],
      "metadata": {
        "execution": {
          "iopub.status.busy": "2023-10-01T03:14:34.048246Z",
          "iopub.execute_input": "2023-10-01T03:14:34.048651Z",
          "iopub.status.idle": "2023-10-01T03:14:34.053427Z",
          "shell.execute_reply.started": "2023-10-01T03:14:34.048624Z",
          "shell.execute_reply": "2023-10-01T03:14:34.052282Z"
        },
        "trusted": true,
        "id": "BOdZbzTHIEJS"
      },
      "execution_count": null,
      "outputs": []
    },
    {
      "cell_type": "code",
      "source": [
        "from sklearn.feature_extraction.text import TfidfVectorizer\n",
        "from sklearn.naive_bayes import MultinomialNB\n",
        "from sklearn.pipeline import Pipeline\n",
        "\n",
        "# Create tokenization and modelling pipeline\n",
        "model_0 = Pipeline([\n",
        "                    (\"tfidf\", TfidfVectorizer()), # convert words to numbers using tfidf\n",
        "                    (\"clf\", MultinomialNB()) # model the text\n",
        "])\n",
        "\n",
        "# Now fit the model\n",
        "model_0.fit(X_train, y_train)"
      ],
      "metadata": {
        "execution": {
          "iopub.status.busy": "2023-10-01T03:14:36.254169Z",
          "iopub.execute_input": "2023-10-01T03:14:36.254873Z",
          "iopub.status.idle": "2023-10-01T03:14:37.982661Z",
          "shell.execute_reply.started": "2023-10-01T03:14:36.254837Z",
          "shell.execute_reply": "2023-10-01T03:14:37.981396Z"
        },
        "trusted": true,
        "id": "N5C2XxcrIEJS"
      },
      "execution_count": null,
      "outputs": []
    },
    {
      "cell_type": "code",
      "source": [
        "baseline_score = model_0.score(X_valid, y_valid)\n",
        "print(f\"Our baseline model achieves an accuracy of: {baseline_score*100:.2f}%\")"
      ],
      "metadata": {
        "execution": {
          "iopub.status.busy": "2023-10-01T03:14:41.498806Z",
          "iopub.execute_input": "2023-10-01T03:14:41.499638Z",
          "iopub.status.idle": "2023-10-01T03:14:41.683038Z",
          "shell.execute_reply.started": "2023-10-01T03:14:41.49959Z",
          "shell.execute_reply": "2023-10-01T03:14:41.681883Z"
        },
        "trusted": true,
        "id": "ECdrQ0T-IEJT"
      },
      "execution_count": null,
      "outputs": []
    },
    {
      "cell_type": "code",
      "source": [
        "baseline_preds = model_0.predict(X_valid)\n",
        "baseline_preds[:20]"
      ],
      "metadata": {
        "execution": {
          "iopub.status.busy": "2023-10-01T03:14:43.751164Z",
          "iopub.execute_input": "2023-10-01T03:14:43.75218Z",
          "iopub.status.idle": "2023-10-01T03:14:43.929303Z",
          "shell.execute_reply.started": "2023-10-01T03:14:43.752128Z",
          "shell.execute_reply": "2023-10-01T03:14:43.928289Z"
        },
        "trusted": true,
        "id": "Txh2331qIEJT"
      },
      "execution_count": null,
      "outputs": []
    },
    {
      "cell_type": "code",
      "source": [
        "from sklearn.metrics import accuracy_score, precision_recall_fscore_support\n",
        "\n",
        "def calculate_results(y_true, y_pred):\n",
        "  \"\"\"\n",
        "  Calculates model accuracy, precision, recall and f1 score of a binary classification model.\n",
        "\n",
        "  Args:\n",
        "  -----\n",
        "  y_true = true labels in the form of a 1D array\n",
        "  y_pred = predicted labels in the form of a 1D array\n",
        "\n",
        "  Returns a dictionary of accuracy, precision, recall, f1-score.\n",
        "  \"\"\"\n",
        "  # Calculate model accuracy\n",
        "  model_accuracy = accuracy_score(y_true, y_pred) * 100\n",
        "  # Calculate model precision, recall and f1 score using \"weighted\" average\n",
        "  model_precision, model_recall, model_f1, _ = precision_recall_fscore_support(y_true, y_pred, average=\"weighted\")\n",
        "  model_results = {\"accuracy\": model_accuracy,\n",
        "                  \"precision\": model_precision,\n",
        "                  \"recall\": model_recall,\n",
        "                  \"f1\": model_f1}\n",
        "  return model_results"
      ],
      "metadata": {
        "execution": {
          "iopub.status.busy": "2023-10-01T03:14:46.132643Z",
          "iopub.execute_input": "2023-10-01T03:14:46.133007Z",
          "iopub.status.idle": "2023-10-01T03:14:46.139877Z",
          "shell.execute_reply.started": "2023-10-01T03:14:46.132981Z",
          "shell.execute_reply": "2023-10-01T03:14:46.138802Z"
        },
        "trusted": true,
        "id": "h-YFRBvWIEJT"
      },
      "execution_count": null,
      "outputs": []
    },
    {
      "cell_type": "code",
      "source": [
        "baseline_results = calculate_results(y_true=y_valid,\n",
        "                                     y_pred=baseline_preds)\n",
        "baseline_results"
      ],
      "metadata": {
        "execution": {
          "iopub.status.busy": "2023-10-01T03:14:48.949864Z",
          "iopub.execute_input": "2023-10-01T03:14:48.95021Z",
          "iopub.status.idle": "2023-10-01T03:14:48.961256Z",
          "shell.execute_reply.started": "2023-10-01T03:14:48.950184Z",
          "shell.execute_reply": "2023-10-01T03:14:48.960078Z"
        },
        "trusted": true,
        "id": "SY3U_FaTIEJU"
      },
      "execution_count": null,
      "outputs": []
    },
    {
      "cell_type": "code",
      "source": [
        "def compare_baseline_to_new_results(baseline_results, new_model_results):\n",
        "  for key, value in baseline_results.items():\n",
        "    print(f\"Baseline {key}: {value:.2f}, New {key}: {new_model_results[key]:.2f}, Difference: {new_model_results[key]-value:.2f}\")"
      ],
      "metadata": {
        "execution": {
          "iopub.status.busy": "2023-10-01T03:14:51.432848Z",
          "iopub.execute_input": "2023-10-01T03:14:51.433449Z",
          "iopub.status.idle": "2023-10-01T03:14:51.440247Z",
          "shell.execute_reply.started": "2023-10-01T03:14:51.433404Z",
          "shell.execute_reply": "2023-10-01T03:14:51.439122Z"
        },
        "trusted": true,
        "id": "9TTbzLB2IEJW"
      },
      "execution_count": null,
      "outputs": []
    },
    {
      "cell_type": "code",
      "source": [
        "from tensorflow.keras.callbacks import ModelCheckpoint\n",
        "\n",
        "def create_checkpoint_callback(checkpoint_path):\n",
        "    \"\"\"\n",
        "    This function returns a ModelCheckpoint callback that saves the model's weights only when the\n",
        "    validation accuracy improves.\n",
        "\n",
        "    Parameters:\n",
        "    checkpoint_path (str): The filepath where the model weights should be saved.\n",
        "\n",
        "    Returns:\n",
        "    ModelCheckpoint callback\n",
        "    \"\"\"\n",
        "    checkpoint_callback = ModelCheckpoint(filepath=checkpoint_path,\n",
        "                                          monitor='val_accuracy',\n",
        "                                          mode='max',\n",
        "                                          save_best_only=True,\n",
        "                                          verbose=1)\n",
        "    return checkpoint_callback"
      ],
      "metadata": {
        "execution": {
          "iopub.status.busy": "2023-10-01T03:14:53.761227Z",
          "iopub.execute_input": "2023-10-01T03:14:53.761934Z",
          "iopub.status.idle": "2023-10-01T03:14:53.769642Z",
          "shell.execute_reply.started": "2023-10-01T03:14:53.761902Z",
          "shell.execute_reply": "2023-10-01T03:14:53.768757Z"
        },
        "trusted": true,
        "id": "GpcXM3dsIEJX"
      },
      "execution_count": null,
      "outputs": []
    },
    {
      "cell_type": "code",
      "source": [
        "import tensorflow_hub as hub\n",
        "from tensorflow.keras import layers"
      ],
      "metadata": {
        "execution": {
          "iopub.status.busy": "2023-10-01T03:14:56.703539Z",
          "iopub.execute_input": "2023-10-01T03:14:56.703907Z",
          "iopub.status.idle": "2023-10-01T03:14:57.086449Z",
          "shell.execute_reply.started": "2023-10-01T03:14:56.703879Z",
          "shell.execute_reply": "2023-10-01T03:14:57.085577Z"
        },
        "trusted": true,
        "id": "317tGcv1IEJX"
      },
      "execution_count": null,
      "outputs": []
    },
    {
      "cell_type": "code",
      "source": [
        "tf.random.set_seed(42)\n",
        "\n",
        "embedding = layers.Embedding(input_dim=max_vocab_length, # set input shape\n",
        "                             output_dim=300, # set size of embedding vector\n",
        "                             embeddings_initializer=\"uniform\", # default, intialize randomly\n",
        "                             input_length=max_length, # how long is each input\n",
        "                             name=\"embedding_1\")\n",
        "\n",
        "embedding"
      ],
      "metadata": {
        "execution": {
          "iopub.status.busy": "2023-10-01T03:14:59.795369Z",
          "iopub.execute_input": "2023-10-01T03:14:59.795752Z",
          "iopub.status.idle": "2023-10-01T03:14:59.811355Z",
          "shell.execute_reply.started": "2023-10-01T03:14:59.795725Z",
          "shell.execute_reply": "2023-10-01T03:14:59.810078Z"
        },
        "trusted": true,
        "id": "OX0VB-PPIEJX"
      },
      "execution_count": null,
      "outputs": []
    },
    {
      "cell_type": "code",
      "source": [
        "from tensorflow.keras import layers\n",
        "\n",
        "inputs = layers.Input(shape=(1,), dtype=\"string\") # inputs are 1-dimensional strings\n",
        "x = text_vectorizer(inputs) # turn the input text into numbers\n",
        "x = embedding(x) # create an embedding of the numerized numbers\n",
        "x = layers.GlobalAveragePooling1D()(x) # lower the dimensionality of the embedding (try running the model without this layer and see what happens)\n",
        "outputs = layers.Dense(1, activation=\"sigmoid\")(x) # create the output layer, want binary outputs so use sigmoid activation\n",
        "model_dense = tf.keras.Model(inputs, outputs, name=\"model_dense\") # construct the model"
      ],
      "metadata": {
        "execution": {
          "iopub.status.busy": "2023-10-01T03:15:02.167961Z",
          "iopub.execute_input": "2023-10-01T03:15:02.168994Z",
          "iopub.status.idle": "2023-10-01T03:15:02.42107Z",
          "shell.execute_reply.started": "2023-10-01T03:15:02.16895Z",
          "shell.execute_reply": "2023-10-01T03:15:02.420012Z"
        },
        "trusted": true,
        "id": "6-04miVTIEJY"
      },
      "execution_count": null,
      "outputs": []
    },
    {
      "cell_type": "code",
      "source": [
        "model_dense.compile(loss=\"binary_crossentropy\",\n",
        "                optimizer=tf.keras.optimizers.Adam(),\n",
        "                metrics=[\"accuracy\"])"
      ],
      "metadata": {
        "execution": {
          "iopub.status.busy": "2023-10-01T03:15:04.715773Z",
          "iopub.execute_input": "2023-10-01T03:15:04.716142Z",
          "iopub.status.idle": "2023-10-01T03:15:04.735434Z",
          "shell.execute_reply.started": "2023-10-01T03:15:04.716115Z",
          "shell.execute_reply": "2023-10-01T03:15:04.734572Z"
        },
        "trusted": true,
        "id": "zCFTHL5OIEJY"
      },
      "execution_count": null,
      "outputs": []
    },
    {
      "cell_type": "code",
      "source": [
        "model_dense.summary()"
      ],
      "metadata": {
        "execution": {
          "iopub.status.busy": "2023-10-01T03:15:07.15606Z",
          "iopub.execute_input": "2023-10-01T03:15:07.156422Z",
          "iopub.status.idle": "2023-10-01T03:15:07.181068Z",
          "shell.execute_reply.started": "2023-10-01T03:15:07.156395Z",
          "shell.execute_reply": "2023-10-01T03:15:07.179642Z"
        },
        "trusted": true,
        "id": "6lkab5cBIEJY"
      },
      "execution_count": null,
      "outputs": []
    },
    {
      "cell_type": "code",
      "source": [
        "checkpoint_path = \"best_model_dense\"\n",
        "\n",
        "cc = create_checkpoint_callback(checkpoint_path)"
      ],
      "metadata": {
        "execution": {
          "iopub.status.busy": "2023-10-01T03:15:10.054526Z",
          "iopub.execute_input": "2023-10-01T03:15:10.054888Z",
          "iopub.status.idle": "2023-10-01T03:15:10.061041Z",
          "shell.execute_reply.started": "2023-10-01T03:15:10.054861Z",
          "shell.execute_reply": "2023-10-01T03:15:10.059731Z"
        },
        "trusted": true,
        "id": "dOZU4cyEIEJZ"
      },
      "execution_count": null,
      "outputs": []
    },
    {
      "cell_type": "code",
      "source": [
        "model_dense_history = model_dense.fit(X_train, # input sentences can be a list of strings due to text preprocessing layer built-in model\n",
        "                              y_train,\n",
        "                              epochs=10,\n",
        "                              validation_data=(X_valid, y_valid),\n",
        "                              callbacks=[cc])"
      ],
      "metadata": {
        "execution": {
          "iopub.status.busy": "2023-10-01T03:15:13.069488Z",
          "iopub.execute_input": "2023-10-01T03:15:13.070419Z",
          "iopub.status.idle": "2023-10-01T04:03:50.024933Z",
          "shell.execute_reply.started": "2023-10-01T03:15:13.070383Z",
          "shell.execute_reply": "2023-10-01T04:03:50.024041Z"
        },
        "trusted": true,
        "id": "ZFpaxLRFIEJZ"
      },
      "execution_count": null,
      "outputs": []
    },
    {
      "cell_type": "code",
      "source": [
        "def plot_graphs(history, string):\n",
        "  plt.plot(history.history[string])\n",
        "  plt.plot(history.history['val_'+string])\n",
        "  plt.xlabel(\"Epochs\")\n",
        "  plt.ylabel(string)\n",
        "  plt.legend([string, 'val_'+string])\n",
        "  plt.show()\n",
        "\n",
        "# Plot the accuracy and loss history\n",
        "plot_graphs(model_dense_history, 'accuracy')\n",
        "plot_graphs(model_dense_history, 'loss')"
      ],
      "metadata": {
        "execution": {
          "iopub.status.busy": "2023-10-01T04:05:47.54272Z",
          "iopub.execute_input": "2023-10-01T04:05:47.543177Z",
          "iopub.status.idle": "2023-10-01T04:05:47.905879Z",
          "shell.execute_reply.started": "2023-10-01T04:05:47.543144Z",
          "shell.execute_reply": "2023-10-01T04:05:47.904865Z"
        },
        "trusted": true,
        "id": "2iEKh5ToIEJa"
      },
      "execution_count": null,
      "outputs": []
    },
    {
      "cell_type": "code",
      "source": [
        "from tensorflow.keras.models import load_model\n",
        "\n",
        "# Load the entire model\n",
        "model_dense = load_model(checkpoint_path)"
      ],
      "metadata": {
        "execution": {
          "iopub.status.busy": "2023-10-01T04:05:51.173169Z",
          "iopub.execute_input": "2023-10-01T04:05:51.174391Z",
          "iopub.status.idle": "2023-10-01T04:05:51.941879Z",
          "shell.execute_reply.started": "2023-10-01T04:05:51.174338Z",
          "shell.execute_reply": "2023-10-01T04:05:51.940769Z"
        },
        "trusted": true,
        "id": "zAx78onFIEJa"
      },
      "execution_count": null,
      "outputs": []
    },
    {
      "cell_type": "code",
      "source": [
        "model_dense.evaluate(X_valid, y_valid)"
      ],
      "metadata": {
        "execution": {
          "iopub.status.busy": "2023-10-01T04:05:53.63285Z",
          "iopub.execute_input": "2023-10-01T04:05:53.633208Z",
          "iopub.status.idle": "2023-10-01T04:05:54.477571Z",
          "shell.execute_reply.started": "2023-10-01T04:05:53.633182Z",
          "shell.execute_reply": "2023-10-01T04:05:54.476636Z"
        },
        "trusted": true,
        "id": "JtqDe3iGIEJb"
      },
      "execution_count": null,
      "outputs": []
    },
    {
      "cell_type": "code",
      "source": [
        "model_dense_pred_probs = model_dense.predict(X_valid)\n",
        "model_dense_pred_probs[:10]"
      ],
      "metadata": {
        "execution": {
          "iopub.status.busy": "2023-10-01T04:05:55.784379Z",
          "iopub.execute_input": "2023-10-01T04:05:55.784766Z",
          "iopub.status.idle": "2023-10-01T04:05:56.588951Z",
          "shell.execute_reply.started": "2023-10-01T04:05:55.784738Z",
          "shell.execute_reply": "2023-10-01T04:05:56.587674Z"
        },
        "trusted": true,
        "id": "Jwuz42kwIEJb"
      },
      "execution_count": null,
      "outputs": []
    },
    {
      "cell_type": "code",
      "source": [
        "model_dense_preds = tf.squeeze(tf.round(model_dense_pred_probs))\n",
        "model_dense_preds[:10]"
      ],
      "metadata": {
        "execution": {
          "iopub.status.busy": "2023-10-01T04:05:58.21067Z",
          "iopub.execute_input": "2023-10-01T04:05:58.211032Z",
          "iopub.status.idle": "2023-10-01T04:05:58.224552Z",
          "shell.execute_reply.started": "2023-10-01T04:05:58.211005Z",
          "shell.execute_reply": "2023-10-01T04:05:58.223373Z"
        },
        "trusted": true,
        "id": "MtthAFRhIEJb"
      },
      "execution_count": null,
      "outputs": []
    },
    {
      "cell_type": "code",
      "source": [
        "model_dense_results = calculate_results(y_true=y_valid,\n",
        "                                    y_pred=model_dense_preds)\n",
        "model_dense_results"
      ],
      "metadata": {
        "execution": {
          "iopub.status.busy": "2023-10-01T04:06:00.068182Z",
          "iopub.execute_input": "2023-10-01T04:06:00.068619Z",
          "iopub.status.idle": "2023-10-01T04:06:00.081679Z",
          "shell.execute_reply.started": "2023-10-01T04:06:00.068583Z",
          "shell.execute_reply": "2023-10-01T04:06:00.080539Z"
        },
        "trusted": true,
        "id": "i7E3hCpWIEJc"
      },
      "execution_count": null,
      "outputs": []
    },
    {
      "cell_type": "code",
      "source": [
        "y_true = y_valid.tolist()  # Convert labels to a list\n",
        "preds = model_dense.predict(X_valid)\n",
        "y_probs = preds.squeeze().tolist()  # Store the prediction probabilities as a list\n",
        "y_preds = tf.round(y_probs).numpy().tolist()"
      ],
      "metadata": {
        "execution": {
          "iopub.status.busy": "2023-10-01T04:06:01.870508Z",
          "iopub.execute_input": "2023-10-01T04:06:01.870893Z",
          "iopub.status.idle": "2023-10-01T04:06:02.358273Z",
          "shell.execute_reply.started": "2023-10-01T04:06:01.870865Z",
          "shell.execute_reply": "2023-10-01T04:06:02.357506Z"
        },
        "trusted": true,
        "id": "JeO-Tb7wIEJc"
      },
      "execution_count": null,
      "outputs": []
    },
    {
      "cell_type": "code",
      "source": [
        "from sklearn.metrics import confusion_matrix\n",
        "confusion_matrix(y_true=y_true,\n",
        "                 y_pred=y_preds)"
      ],
      "metadata": {
        "execution": {
          "iopub.status.busy": "2023-10-01T04:06:03.70297Z",
          "iopub.execute_input": "2023-10-01T04:06:03.703786Z",
          "iopub.status.idle": "2023-10-01T04:06:03.713222Z",
          "shell.execute_reply.started": "2023-10-01T04:06:03.703749Z",
          "shell.execute_reply": "2023-10-01T04:06:03.712392Z"
        },
        "trusted": true,
        "id": "du1dZrgeIEJc"
      },
      "execution_count": null,
      "outputs": []
    },
    {
      "cell_type": "code",
      "source": [
        "import itertools\n",
        "from sklearn.metrics import confusion_matrix\n",
        "\n",
        "# Our function needs a different name to sklearn's plot_confusion_matrix\n",
        "def make_confusion_matrix(y_true, y_pred, classes=None, figsize=(10, 10), text_size=15):\n",
        "  \"\"\"Makes a labelled confusion matrix comparing predictions and ground truth labels.\n",
        "\n",
        "  If classes is passed, confusion matrix will be labelled, if not, integer class values\n",
        "  will be used.\n",
        "\n",
        "  Args:\n",
        "    y_true: Array of truth labels (must be same shape as y_pred).\n",
        "    y_pred: Array of predicted labels (must be same shape as y_true).\n",
        "    classes: Array of class labels (e.g. string form). If `None`, integer labels are used.\n",
        "    figsize: Size of output figure (default=(10, 10)).\n",
        "    text_size: Size of output figure text (default=15).\n",
        "\n",
        "  Returns:\n",
        "    A labelled confusion matrix plot comparing y_true and y_pred.\n",
        "\n",
        "  Example usage:\n",
        "    make_confusion_matrix(y_true=test_labels, # ground truth test labels\n",
        "                          y_pred=y_preds, # predicted labels\n",
        "                          classes=class_names, # array of class label names\n",
        "                          figsize=(15, 15),\n",
        "                          text_size=10)\n",
        "  \"\"\"\n",
        "  # Create the confustion matrix\n",
        "  cm = confusion_matrix(y_true, y_pred)\n",
        "  cm_norm = cm.astype(\"float\") / cm.sum(axis=1)[:, np.newaxis] # normalize it\n",
        "  n_classes = cm.shape[0] # find the number of classes we're dealing with\n",
        "\n",
        "  # Plot the figure and make it pretty\n",
        "  fig, ax = plt.subplots(figsize=figsize)\n",
        "  cax = ax.matshow(cm, cmap=plt.cm.Blues) # colors will represent how 'correct' a class is, darker == better\n",
        "  fig.colorbar(cax)\n",
        "\n",
        "  # Are there a list of classes?\n",
        "  if classes:\n",
        "    labels = classes\n",
        "  else:\n",
        "    labels = np.arange(cm.shape[0])\n",
        "\n",
        "  # Label the axes\n",
        "  ax.set(title=\"Confusion Matrix\",\n",
        "         xlabel=\"Predicted label\",\n",
        "         ylabel=\"True label\",\n",
        "         xticks=np.arange(n_classes), # create enough axis slots for each class\n",
        "         yticks=np.arange(n_classes),\n",
        "         xticklabels=labels, # axes will labeled with class names (if they exist) or ints\n",
        "         yticklabels=labels)\n",
        "\n",
        "  # Make x-axis labels appear on bottom\n",
        "  ax.xaxis.set_label_position(\"bottom\")\n",
        "  ax.xaxis.tick_bottom()\n",
        "\n",
        "  # Set the threshold for different colors\n",
        "  threshold = (cm.max() + cm.min()) / 2.\n",
        "\n",
        "  # Plot the text on each cell\n",
        "  for i, j in itertools.product(range(cm.shape[0]), range(cm.shape[1])):\n",
        "    plt.text(j, i, f\"{cm[i, j]} ({cm_norm[i, j]*100:.1f}%)\",\n",
        "             horizontalalignment=\"center\",\n",
        "             color=\"white\" if cm[i, j] > threshold else \"black\",\n",
        "             size=text_size)"
      ],
      "metadata": {
        "execution": {
          "iopub.status.busy": "2023-10-01T04:06:05.501176Z",
          "iopub.execute_input": "2023-10-01T04:06:05.501562Z",
          "iopub.status.idle": "2023-10-01T04:06:05.513231Z",
          "shell.execute_reply.started": "2023-10-01T04:06:05.501533Z",
          "shell.execute_reply": "2023-10-01T04:06:05.51197Z"
        },
        "trusted": true,
        "id": "ZHn04HssIEJd"
      },
      "execution_count": null,
      "outputs": []
    },
    {
      "cell_type": "code",
      "source": [
        "class_names"
      ],
      "metadata": {
        "execution": {
          "iopub.status.busy": "2023-10-01T04:06:08.889975Z",
          "iopub.execute_input": "2023-10-01T04:06:08.890981Z",
          "iopub.status.idle": "2023-10-01T04:06:08.897799Z",
          "shell.execute_reply.started": "2023-10-01T04:06:08.890934Z",
          "shell.execute_reply": "2023-10-01T04:06:08.896943Z"
        },
        "trusted": true,
        "id": "A-YTlx8VIEJd"
      },
      "execution_count": null,
      "outputs": []
    },
    {
      "cell_type": "code",
      "source": [
        "make_confusion_matrix(y_true=y_true,\n",
        "                      y_pred=y_preds,\n",
        "                      classes=class_names,\n",
        "                      figsize=(15, 15),\n",
        "                      text_size=10)"
      ],
      "metadata": {
        "execution": {
          "iopub.status.busy": "2023-10-01T04:06:10.304959Z",
          "iopub.execute_input": "2023-10-01T04:06:10.305352Z",
          "iopub.status.idle": "2023-10-01T04:06:11.142805Z",
          "shell.execute_reply.started": "2023-10-01T04:06:10.305293Z",
          "shell.execute_reply": "2023-10-01T04:06:11.141657Z"
        },
        "trusted": true,
        "id": "jeC7LSi6IEJe"
      },
      "execution_count": null,
      "outputs": []
    },
    {
      "cell_type": "code",
      "source": [
        "!pip install colorama\n",
        "from colorama import Fore, Style\n",
        "import numpy as np\n",
        "\n",
        "def random_predictions(model, X_valid, y_valid, num_samples=5, class_names=None):\n",
        "    # Check if it's binary or multi-class classification\n",
        "    is_binary_classification = len(np.unique(y_valid)) == 2\n",
        "\n",
        "    # Getting indices of the random samples\n",
        "    random_indices = np.random.choice(np.arange(len(X_valid)), size=num_samples, replace=False)\n",
        "\n",
        "    # Selecting the random samples\n",
        "    random_X_samples = X_valid[random_indices]\n",
        "    random_y_samples = y_valid[random_indices]\n",
        "\n",
        "    # Making predictions on the random samples\n",
        "    y_pred_probs = model.predict(random_X_samples)\n",
        "\n",
        "    if is_binary_classification:\n",
        "        y_pred = np.squeeze(np.round(y_pred_probs).astype(int))\n",
        "    else:\n",
        "        y_pred = np.argmax(y_pred_probs, axis=1)\n",
        "\n",
        "    # Print the actual and predicted labels\n",
        "    for i in range(num_samples):\n",
        "        text = random_X_samples[i]\n",
        "        true_label = random_y_samples[i] if is_binary_classification else np.argmax(random_y_samples[i])\n",
        "        predicted_label = y_pred[i]\n",
        "\n",
        "        # If class names are provided, use them for printing\n",
        "        if class_names is not None:\n",
        "            true_label_name = class_names[true_label]\n",
        "            predicted_label_name = class_names[predicted_label]\n",
        "        else:\n",
        "            true_label_name = true_label\n",
        "            predicted_label_name = predicted_label\n",
        "\n",
        "        # Determine the color of the text (green for correct, red for incorrect)\n",
        "        text_color = Fore.GREEN if true_label == predicted_label else Fore.RED\n",
        "\n",
        "        print(f\"\\nSample {i + 1}:\")\n",
        "        print(f\"Text: {text}\")\n",
        "        print(text_color + f\"True: {true_label_name} \\n Predicted: {predicted_label_name}\" + Style.RESET_ALL)"
      ],
      "metadata": {
        "execution": {
          "iopub.status.busy": "2023-10-01T04:06:14.487291Z",
          "iopub.execute_input": "2023-10-01T04:06:14.487989Z",
          "iopub.status.idle": "2023-10-01T04:06:25.563939Z",
          "shell.execute_reply.started": "2023-10-01T04:06:14.487943Z",
          "shell.execute_reply": "2023-10-01T04:06:25.562403Z"
        },
        "trusted": true,
        "id": "quM1_s2oIEJe"
      },
      "execution_count": null,
      "outputs": []
    },
    {
      "cell_type": "code",
      "source": [
        "random_predictions(model_dense,\n",
        "                   X_valid,\n",
        "                   y_valid,\n",
        "                   num_samples=10,\n",
        "                   class_names=class_names)"
      ],
      "metadata": {
        "execution": {
          "iopub.status.busy": "2023-10-01T04:06:28.189133Z",
          "iopub.execute_input": "2023-10-01T04:06:28.189838Z",
          "iopub.status.idle": "2023-10-01T04:06:28.288059Z",
          "shell.execute_reply.started": "2023-10-01T04:06:28.189804Z",
          "shell.execute_reply": "2023-10-01T04:06:28.287049Z"
        },
        "trusted": true,
        "id": "E7BL9wEYIEJe"
      },
      "execution_count": null,
      "outputs": []
    },
    {
      "cell_type": "code",
      "source": [
        "tf.random.set_seed(42)\n",
        "from tensorflow.keras import layers\n",
        "model_1LSTM_embedding = layers.Embedding(input_dim=max_vocab_length,\n",
        "                                     output_dim=300,\n",
        "                                     embeddings_initializer=\"uniform\",\n",
        "                                     input_length=max_length,\n",
        "                                     name=\"embedding_2\")\n",
        "\n",
        "\n",
        "# Create LSTM model\n",
        "inputs = layers.Input(shape=(1,), dtype=\"string\")\n",
        "x = text_vectorizer(inputs)\n",
        "x = model_1LSTM_embedding(x)\n",
        "print(x.shape)\n",
        "x = layers.LSTM(64, return_sequences=True)(x) # return vector for each word in the text (you can stack RNN cells as long as return_sequences=True)\n",
        "x = layers.LSTM(64)(x) # return vector for whole sequence\n",
        "print(x.shape)\n",
        "x = layers.Dense(64, activation=\"relu\")(x) # optional dense layer on top of output of LSTM cell\n",
        "outputs = layers.Dense(1, activation=\"sigmoid\")(x)\n",
        "model_1LSTM = tf.keras.Model(inputs, outputs, name=\"model_1LSTM\")\n"
      ],
      "metadata": {
        "execution": {
          "iopub.status.busy": "2023-10-01T04:06:32.359654Z",
          "iopub.execute_input": "2023-10-01T04:06:32.360695Z",
          "iopub.status.idle": "2023-10-01T04:06:33.182164Z",
          "shell.execute_reply.started": "2023-10-01T04:06:32.360657Z",
          "shell.execute_reply": "2023-10-01T04:06:33.181045Z"
        },
        "trusted": true,
        "id": "ijpuuuvfIEJf"
      },
      "execution_count": null,
      "outputs": []
    },
    {
      "cell_type": "code",
      "source": [
        "model_1LSTM.compile(loss=\"binary_crossentropy\",\n",
        "                optimizer=tf.keras.optimizers.Adam(),\n",
        "                metrics=[\"accuracy\"])"
      ],
      "metadata": {
        "execution": {
          "iopub.status.busy": "2023-10-01T04:06:34.697226Z",
          "iopub.execute_input": "2023-10-01T04:06:34.697618Z",
          "iopub.status.idle": "2023-10-01T04:06:34.713871Z",
          "shell.execute_reply.started": "2023-10-01T04:06:34.697586Z",
          "shell.execute_reply": "2023-10-01T04:06:34.712803Z"
        },
        "trusted": true,
        "id": "qZtbXm36IEJf"
      },
      "execution_count": null,
      "outputs": []
    },
    {
      "cell_type": "code",
      "source": [
        "model_1LSTM.summary()"
      ],
      "metadata": {
        "execution": {
          "iopub.status.busy": "2023-10-01T04:06:37.261126Z",
          "iopub.execute_input": "2023-10-01T04:06:37.261496Z",
          "iopub.status.idle": "2023-10-01T04:06:37.288669Z",
          "shell.execute_reply.started": "2023-10-01T04:06:37.261466Z",
          "shell.execute_reply": "2023-10-01T04:06:37.287751Z"
        },
        "trusted": true,
        "id": "zDqXW6cQIEJg"
      },
      "execution_count": null,
      "outputs": []
    },
    {
      "cell_type": "code",
      "source": [
        "checkpoint_path = \"best_model_Bi-LSTM\"\n",
        "\n",
        "cc = create_checkpoint_callback(checkpoint_path)"
      ],
      "metadata": {
        "execution": {
          "iopub.status.busy": "2023-10-01T05:30:00.479779Z",
          "iopub.execute_input": "2023-10-01T05:30:00.480839Z",
          "iopub.status.idle": "2023-10-01T05:30:00.485288Z",
          "shell.execute_reply.started": "2023-10-01T05:30:00.480798Z",
          "shell.execute_reply": "2023-10-01T05:30:00.484352Z"
        },
        "trusted": true,
        "id": "j0mKlj_bIEJg"
      },
      "execution_count": null,
      "outputs": []
    },
    {
      "cell_type": "code",
      "source": [
        "model_1LSTM_history = model_1LSTM.fit(X_train, y_train,\n",
        "                              epochs=10,\n",
        "                              validation_data=(X_valid, y_valid),\n",
        "                              callbacks=[cc])"
      ],
      "metadata": {
        "execution": {
          "iopub.status.busy": "2023-10-01T05:30:03.032726Z",
          "iopub.execute_input": "2023-10-01T05:30:03.033117Z",
          "iopub.status.idle": "2023-10-01T06:49:20.915963Z",
          "shell.execute_reply.started": "2023-10-01T05:30:03.03309Z",
          "shell.execute_reply": "2023-10-01T06:49:20.914773Z"
        },
        "trusted": true,
        "id": "4z4fiCbxIEJg"
      },
      "execution_count": null,
      "outputs": []
    },
    {
      "cell_type": "code",
      "source": [
        "def plot_graphs(history, string):\n",
        "  plt.plot(history.history[string])\n",
        "  plt.plot(history.history['val_'+string])\n",
        "  plt.xlabel(\"Epochs\")\n",
        "  plt.ylabel(string)\n",
        "  plt.legend([string, 'val_'+string])\n",
        "  plt.show()\n",
        "\n",
        "# Plot the accuracy and loss history\n",
        "plot_graphs(model_1LSTM_history, 'accuracy')\n",
        "plot_graphs(model_1LSTM_history, 'loss')"
      ],
      "metadata": {
        "execution": {
          "iopub.status.busy": "2023-10-01T06:50:36.369136Z",
          "iopub.execute_input": "2023-10-01T06:50:36.370144Z",
          "iopub.status.idle": "2023-10-01T06:50:36.713203Z",
          "shell.execute_reply.started": "2023-10-01T06:50:36.370104Z",
          "shell.execute_reply": "2023-10-01T06:50:36.712096Z"
        },
        "trusted": true,
        "id": "9yMQDITwIEJh"
      },
      "execution_count": null,
      "outputs": []
    },
    {
      "cell_type": "code",
      "source": [
        "model_1LSTM = load_model(checkpoint_path)"
      ],
      "metadata": {
        "execution": {
          "iopub.status.busy": "2023-10-01T06:50:39.519802Z",
          "iopub.execute_input": "2023-10-01T06:50:39.520356Z",
          "iopub.status.idle": "2023-10-01T06:50:43.392257Z",
          "shell.execute_reply.started": "2023-10-01T06:50:39.520296Z",
          "shell.execute_reply": "2023-10-01T06:50:43.391124Z"
        },
        "trusted": true,
        "id": "nDS6_KvJIEJi"
      },
      "execution_count": null,
      "outputs": []
    },
    {
      "cell_type": "code",
      "source": [
        "model_1LSTM.evaluate(X_valid, y_valid)"
      ],
      "metadata": {
        "execution": {
          "iopub.status.busy": "2023-10-01T06:50:45.180787Z",
          "iopub.execute_input": "2023-10-01T06:50:45.181186Z",
          "iopub.status.idle": "2023-10-01T06:50:53.918983Z",
          "shell.execute_reply.started": "2023-10-01T06:50:45.181154Z",
          "shell.execute_reply": "2023-10-01T06:50:53.918133Z"
        },
        "trusted": true,
        "id": "_VOcV_6VIEJi"
      },
      "execution_count": null,
      "outputs": []
    },
    {
      "cell_type": "code",
      "source": [
        "model_1LSTM_pred_probs = model_1LSTM.predict(X_valid)\n",
        "model_1LSTM_pred_probs.shape, model_1LSTM_pred_probs[:10]"
      ],
      "metadata": {
        "execution": {
          "iopub.status.busy": "2023-10-01T06:50:55.636434Z",
          "iopub.execute_input": "2023-10-01T06:50:55.637217Z",
          "iopub.status.idle": "2023-10-01T06:51:04.395059Z",
          "shell.execute_reply.started": "2023-10-01T06:50:55.637174Z",
          "shell.execute_reply": "2023-10-01T06:51:04.39399Z"
        },
        "trusted": true,
        "id": "WrOUSsdxIEJi"
      },
      "execution_count": null,
      "outputs": []
    },
    {
      "cell_type": "code",
      "source": [
        "model_1LSTM_preds = tf.squeeze(tf.round(model_1LSTM_pred_probs))\n",
        "model_1LSTM_preds[:10]"
      ],
      "metadata": {
        "execution": {
          "iopub.status.busy": "2023-10-01T06:51:06.436211Z",
          "iopub.execute_input": "2023-10-01T06:51:06.436604Z",
          "iopub.status.idle": "2023-10-01T06:51:06.448813Z",
          "shell.execute_reply.started": "2023-10-01T06:51:06.436574Z",
          "shell.execute_reply": "2023-10-01T06:51:06.447401Z"
        },
        "trusted": true,
        "id": "9VF_DSoTIEJj"
      },
      "execution_count": null,
      "outputs": []
    },
    {
      "cell_type": "code",
      "source": [
        "model_1LSTM_results = calculate_results(y_true=y_valid,\n",
        "                                    y_pred=model_1LSTM_preds)\n",
        "model_1LSTM_results"
      ],
      "metadata": {
        "execution": {
          "iopub.status.busy": "2023-10-01T06:51:08.952025Z",
          "iopub.execute_input": "2023-10-01T06:51:08.952394Z",
          "iopub.status.idle": "2023-10-01T06:51:08.963814Z",
          "shell.execute_reply.started": "2023-10-01T06:51:08.952364Z",
          "shell.execute_reply": "2023-10-01T06:51:08.962832Z"
        },
        "trusted": true,
        "id": "heT4BNs8IEJj"
      },
      "execution_count": null,
      "outputs": []
    },
    {
      "cell_type": "code",
      "source": [
        "compare_baseline_to_new_results(baseline_results, model_1LSTM_results)"
      ],
      "metadata": {
        "execution": {
          "iopub.status.busy": "2023-10-01T06:51:12.032165Z",
          "iopub.execute_input": "2023-10-01T06:51:12.032892Z",
          "iopub.status.idle": "2023-10-01T06:51:12.038111Z",
          "shell.execute_reply.started": "2023-10-01T06:51:12.032854Z",
          "shell.execute_reply": "2023-10-01T06:51:12.037017Z"
        },
        "trusted": true,
        "id": "YTF2iN3hIEJj"
      },
      "execution_count": null,
      "outputs": []
    },
    {
      "cell_type": "code",
      "source": [
        "y_true = y_valid.tolist()  # Convert labels to a list\n",
        "preds = model_1LSTM.predict(X_valid)\n",
        "y_probs = preds.squeeze().tolist()  # Store the prediction probabilities as a list\n",
        "y_preds = tf.round(y_probs).numpy().tolist()"
      ],
      "metadata": {
        "execution": {
          "iopub.status.busy": "2023-10-01T06:51:13.822425Z",
          "iopub.execute_input": "2023-10-01T06:51:13.823167Z",
          "iopub.status.idle": "2023-10-01T06:51:21.465816Z",
          "shell.execute_reply.started": "2023-10-01T06:51:13.823133Z",
          "shell.execute_reply": "2023-10-01T06:51:21.465015Z"
        },
        "trusted": true,
        "id": "lobkTlxNIEJk"
      },
      "execution_count": null,
      "outputs": []
    },
    {
      "cell_type": "code",
      "source": [
        "from sklearn.metrics import confusion_matrix\n",
        "confusion_matrix(y_true=y_true,\n",
        "                 y_pred=y_preds)"
      ],
      "metadata": {
        "execution": {
          "iopub.status.busy": "2023-10-01T06:51:22.650045Z",
          "iopub.execute_input": "2023-10-01T06:51:22.651064Z",
          "iopub.status.idle": "2023-10-01T06:51:22.661711Z",
          "shell.execute_reply.started": "2023-10-01T06:51:22.651016Z",
          "shell.execute_reply": "2023-10-01T06:51:22.660657Z"
        },
        "trusted": true,
        "id": "SYKvus_0IEJk"
      },
      "execution_count": null,
      "outputs": []
    },
    {
      "cell_type": "code",
      "source": [
        "make_confusion_matrix(y_true=y_true,\n",
        "                      y_pred=y_preds,\n",
        "                      classes=class_names,\n",
        "                      figsize=(15, 15),\n",
        "                      text_size=10)"
      ],
      "metadata": {
        "execution": {
          "iopub.status.busy": "2023-10-01T06:51:24.474472Z",
          "iopub.execute_input": "2023-10-01T06:51:24.474893Z",
          "iopub.status.idle": "2023-10-01T06:51:24.930629Z",
          "shell.execute_reply.started": "2023-10-01T06:51:24.474862Z",
          "shell.execute_reply": "2023-10-01T06:51:24.9295Z"
        },
        "trusted": true,
        "id": "AS9Pjxa6IEJk"
      },
      "execution_count": null,
      "outputs": []
    },
    {
      "cell_type": "code",
      "source": [
        "random_predictions(model_1LSTM,\n",
        "                   X_valid,\n",
        "                   y_valid,\n",
        "                   num_samples=20,\n",
        "                   class_names=class_names)"
      ],
      "metadata": {
        "execution": {
          "iopub.status.busy": "2023-10-01T06:51:29.678237Z",
          "iopub.execute_input": "2023-10-01T06:51:29.678735Z",
          "iopub.status.idle": "2023-10-01T06:51:29.824378Z",
          "shell.execute_reply.started": "2023-10-01T06:51:29.678701Z",
          "shell.execute_reply": "2023-10-01T06:51:29.823297Z"
        },
        "trusted": true,
        "id": "92NqyFuLIEJk"
      },
      "execution_count": null,
      "outputs": []
    },
    {
      "cell_type": "code",
      "source": [
        "from tensorflow.keras import layers\n",
        "\n",
        "# Parameters\n",
        "embedding_dim=128\n",
        "\n",
        "tf.random.set_seed(42)\n",
        "\n",
        "# Input layer\n",
        "inputs = layers.Input(shape=(1,), dtype=\"string\")\n",
        "\n",
        "# Turn the input text into numbers\n",
        "x = text_vectorizer(inputs)\n",
        "\n",
        "# Create an embedding of the numerized numbers\n",
        "x = layers.Embedding(input_dim=max_vocab_length,\n",
        "                     output_dim=128,\n",
        "                     embeddings_initializer=\"uniform\",\n",
        "                     input_length=max_length,\n",
        "                     name=\"embedding_2\")(x)\n",
        "\n",
        "# Bidirectional LSTM\n",
        "x = layers.Bidirectional(layers.LSTM(64, return_sequences=True))(x)\n",
        "# Another LSTM Layer\n",
        "x = layers.Bidirectional(layers.LSTM(64))(x)\n",
        "# Dense layer\n",
        "x = layers.Dense(512, activation='relu')(x)\n",
        "# Output layer\n",
        "outputs = layers.Dense(1, activation='sigmoid')(x)\n",
        "# Create the model\n",
        "model_lstm = tf.keras.Model(inputs, outputs)"
      ],
      "metadata": {
        "execution": {
          "iopub.status.busy": "2023-10-01T06:51:33.390179Z",
          "iopub.execute_input": "2023-10-01T06:51:33.391Z",
          "iopub.status.idle": "2023-10-01T06:51:34.641172Z",
          "shell.execute_reply.started": "2023-10-01T06:51:33.390966Z",
          "shell.execute_reply": "2023-10-01T06:51:34.640054Z"
        },
        "trusted": true,
        "id": "_SXyqia9IEJl"
      },
      "execution_count": null,
      "outputs": []
    },
    {
      "cell_type": "code",
      "source": [
        "model_lstm.compile(loss='binary_crossentropy',optimizer='adam',metrics=['accuracy'])\n",
        "\n",
        "# Print the model summary\n",
        "model_lstm.summary()"
      ],
      "metadata": {
        "execution": {
          "iopub.status.busy": "2023-10-01T06:51:36.340007Z",
          "iopub.execute_input": "2023-10-01T06:51:36.340797Z",
          "iopub.status.idle": "2023-10-01T06:51:36.38195Z",
          "shell.execute_reply.started": "2023-10-01T06:51:36.340754Z",
          "shell.execute_reply": "2023-10-01T06:51:36.381203Z"
        },
        "trusted": true,
        "id": "Blew1mGYIEJl"
      },
      "execution_count": null,
      "outputs": []
    },
    {
      "cell_type": "code",
      "source": [
        "checkpoint_path = \"best_model_Bi-LSTM\"\n",
        "\n",
        "cc = create_checkpoint_callback(checkpoint_path)"
      ],
      "metadata": {
        "execution": {
          "iopub.status.busy": "2023-10-01T06:51:38.558058Z",
          "iopub.execute_input": "2023-10-01T06:51:38.558679Z",
          "iopub.status.idle": "2023-10-01T06:51:38.563736Z",
          "shell.execute_reply.started": "2023-10-01T06:51:38.558648Z",
          "shell.execute_reply": "2023-10-01T06:51:38.562661Z"
        },
        "trusted": true,
        "id": "JY3RlcaeIEJm"
      },
      "execution_count": null,
      "outputs": []
    },
    {
      "cell_type": "code",
      "source": [
        "NUM_EPOCHS = 10\n",
        "\n",
        "# Train the model\n",
        "history_lstm = model_lstm.fit(X_train, y_train, epochs=NUM_EPOCHS, validation_data=(X_valid, y_valid),callbacks=[cc])"
      ],
      "metadata": {
        "execution": {
          "iopub.status.busy": "2023-10-01T06:51:41.790001Z",
          "iopub.execute_input": "2023-10-01T06:51:41.790392Z",
          "iopub.status.idle": "2023-10-01T07:48:11.77895Z",
          "shell.execute_reply.started": "2023-10-01T06:51:41.790362Z",
          "shell.execute_reply": "2023-10-01T07:48:11.777897Z"
        },
        "trusted": true,
        "id": "hC6rEOOcIEJm"
      },
      "execution_count": null,
      "outputs": []
    },
    {
      "cell_type": "code",
      "source": [
        "def plot_graphs(history, string):\n",
        "  plt.plot(history.history[string])\n",
        "  plt.plot(history.history['val_'+string])\n",
        "  plt.xlabel(\"Epochs\")\n",
        "  plt.ylabel(string)\n",
        "  plt.legend([string, 'val_'+string])\n",
        "  plt.show()\n",
        "\n",
        "# Plot the accuracy and loss history\n",
        "plot_graphs(history_lstm, 'accuracy')\n",
        "plot_graphs(history_lstm, 'loss')"
      ],
      "metadata": {
        "execution": {
          "iopub.status.busy": "2023-10-01T08:27:44.335824Z",
          "iopub.execute_input": "2023-10-01T08:27:44.336614Z",
          "iopub.status.idle": "2023-10-01T08:27:44.860294Z",
          "shell.execute_reply.started": "2023-10-01T08:27:44.336579Z",
          "shell.execute_reply": "2023-10-01T08:27:44.859152Z"
        },
        "trusted": true,
        "id": "Iv5QrkGEIEJn"
      },
      "execution_count": null,
      "outputs": []
    },
    {
      "cell_type": "code",
      "source": [
        "model_lstm = load_model(checkpoint_path)"
      ],
      "metadata": {
        "execution": {
          "iopub.status.busy": "2023-10-01T08:27:48.442825Z",
          "iopub.execute_input": "2023-10-01T08:27:48.443175Z",
          "iopub.status.idle": "2023-10-01T08:28:00.025216Z",
          "shell.execute_reply.started": "2023-10-01T08:27:48.443149Z",
          "shell.execute_reply": "2023-10-01T08:28:00.024142Z"
        },
        "trusted": true,
        "id": "wyeDTspuIEJn"
      },
      "execution_count": null,
      "outputs": []
    },
    {
      "cell_type": "code",
      "source": [
        "model_lstm.evaluate(X_valid, y_valid)"
      ],
      "metadata": {
        "execution": {
          "iopub.status.busy": "2023-10-01T08:28:03.337949Z",
          "iopub.execute_input": "2023-10-01T08:28:03.338411Z",
          "iopub.status.idle": "2023-10-01T08:28:15.069652Z",
          "shell.execute_reply.started": "2023-10-01T08:28:03.338375Z",
          "shell.execute_reply": "2023-10-01T08:28:15.068377Z"
        },
        "trusted": true,
        "id": "9X0FsKVVIEJn"
      },
      "execution_count": null,
      "outputs": []
    },
    {
      "cell_type": "code",
      "source": [
        "model_lstm_pred_probs = model_lstm.predict(X_valid)\n",
        "model_lstm_pred_probs[:10]"
      ],
      "metadata": {
        "execution": {
          "iopub.status.busy": "2023-10-01T08:28:15.071677Z",
          "iopub.execute_input": "2023-10-01T08:28:15.072074Z",
          "iopub.status.idle": "2023-10-01T08:28:24.424448Z",
          "shell.execute_reply.started": "2023-10-01T08:28:15.072036Z",
          "shell.execute_reply": "2023-10-01T08:28:24.423562Z"
        },
        "trusted": true,
        "id": "RP89ZRr9IEJo"
      },
      "execution_count": null,
      "outputs": []
    },
    {
      "cell_type": "code",
      "source": [
        "model_lstm_preds = tf.squeeze(tf.round(model_lstm_pred_probs))\n",
        "model_lstm_preds[:10]"
      ],
      "metadata": {
        "execution": {
          "iopub.status.busy": "2023-10-01T08:28:25.924392Z",
          "iopub.execute_input": "2023-10-01T08:28:25.924782Z",
          "iopub.status.idle": "2023-10-01T08:28:25.937843Z",
          "shell.execute_reply.started": "2023-10-01T08:28:25.924751Z",
          "shell.execute_reply": "2023-10-01T08:28:25.936822Z"
        },
        "trusted": true,
        "id": "IPaZQbRTIEJo"
      },
      "execution_count": null,
      "outputs": []
    },
    {
      "cell_type": "code",
      "source": [
        "model_lstm_results = calculate_results(y_valid, model_lstm_preds)\n",
        "model_lstm_results"
      ],
      "metadata": {
        "execution": {
          "iopub.status.busy": "2023-10-01T08:28:28.097002Z",
          "iopub.execute_input": "2023-10-01T08:28:28.097425Z",
          "iopub.status.idle": "2023-10-01T08:28:28.111058Z",
          "shell.execute_reply.started": "2023-10-01T08:28:28.09739Z",
          "shell.execute_reply": "2023-10-01T08:28:28.109671Z"
        },
        "trusted": true,
        "id": "gvziQBMYIEJo"
      },
      "execution_count": null,
      "outputs": []
    },
    {
      "cell_type": "code",
      "source": [
        "compare_baseline_to_new_results(baseline_results, model_1LSTM_results)"
      ],
      "metadata": {
        "execution": {
          "iopub.status.busy": "2023-10-01T08:28:30.052408Z",
          "iopub.execute_input": "2023-10-01T08:28:30.052823Z",
          "iopub.status.idle": "2023-10-01T08:28:30.058365Z",
          "shell.execute_reply.started": "2023-10-01T08:28:30.052789Z",
          "shell.execute_reply": "2023-10-01T08:28:30.057542Z"
        },
        "trusted": true,
        "id": "MrWSHrDIIEJp"
      },
      "execution_count": null,
      "outputs": []
    },
    {
      "cell_type": "code",
      "source": [
        "y_true = y_valid.tolist()  # Convert labels to a list\n",
        "preds = model_lstm.predict(X_valid)\n",
        "y_probs = preds.squeeze().tolist()  # Store the prediction probabilities as a list\n",
        "y_preds = tf.round(y_probs).numpy().tolist()"
      ],
      "metadata": {
        "execution": {
          "iopub.status.busy": "2023-10-01T08:28:31.851494Z",
          "iopub.execute_input": "2023-10-01T08:28:31.851865Z",
          "iopub.status.idle": "2023-10-01T08:28:39.941749Z",
          "shell.execute_reply.started": "2023-10-01T08:28:31.851837Z",
          "shell.execute_reply": "2023-10-01T08:28:39.94059Z"
        },
        "trusted": true,
        "id": "QRzI2ZjIIEJp"
      },
      "execution_count": null,
      "outputs": []
    },
    {
      "cell_type": "code",
      "source": [
        "from sklearn.metrics import confusion_matrix\n",
        "confusion_matrix(y_true=y_true,\n",
        "                 y_pred=y_preds)"
      ],
      "metadata": {
        "execution": {
          "iopub.status.busy": "2023-10-01T08:28:41.565229Z",
          "iopub.execute_input": "2023-10-01T08:28:41.566Z",
          "iopub.status.idle": "2023-10-01T08:28:41.576222Z",
          "shell.execute_reply.started": "2023-10-01T08:28:41.565964Z",
          "shell.execute_reply": "2023-10-01T08:28:41.575408Z"
        },
        "trusted": true,
        "id": "xEJdNxihIEJp"
      },
      "execution_count": null,
      "outputs": []
    },
    {
      "cell_type": "code",
      "source": [
        "make_confusion_matrix(y_true=y_true,\n",
        "                      y_pred=y_preds,\n",
        "                      classes=class_names,\n",
        "                      figsize=(15, 15),\n",
        "                      text_size=10)"
      ],
      "metadata": {
        "execution": {
          "iopub.status.busy": "2023-10-01T08:28:43.288489Z",
          "iopub.execute_input": "2023-10-01T08:28:43.288886Z",
          "iopub.status.idle": "2023-10-01T08:28:43.766469Z",
          "shell.execute_reply.started": "2023-10-01T08:28:43.288854Z",
          "shell.execute_reply": "2023-10-01T08:28:43.765277Z"
        },
        "trusted": true,
        "id": "W2HhTQ1zIEJq"
      },
      "execution_count": null,
      "outputs": []
    },
    {
      "cell_type": "code",
      "source": [
        "random_predictions(model_lstm,\n",
        "                   X_valid,\n",
        "                   y_valid,\n",
        "                   num_samples=20,\n",
        "                   class_names=class_names)"
      ],
      "metadata": {
        "execution": {
          "iopub.status.busy": "2023-10-01T08:28:47.829735Z",
          "iopub.execute_input": "2023-10-01T08:28:47.830146Z",
          "iopub.status.idle": "2023-10-01T08:28:47.976393Z",
          "shell.execute_reply.started": "2023-10-01T08:28:47.830112Z",
          "shell.execute_reply": "2023-10-01T08:28:47.975093Z"
        },
        "trusted": true,
        "id": "KF1uOtFyIEJq"
      },
      "execution_count": null,
      "outputs": []
    },
    {
      "cell_type": "code",
      "source": [
        "tf.random.set_seed(42)\n",
        "\n",
        "from tensorflow.keras import layers\n",
        "model_GRU_embedding = layers.Embedding(input_dim=max_vocab_length,\n",
        "                                     output_dim=128,\n",
        "                                     embeddings_initializer=\"uniform\",\n",
        "                                     input_length=max_length,\n",
        "                                     name=\"embedding_GRU\")\n",
        "\n",
        "# Build an RNN using the GRU cell\n",
        "inputs = layers.Input(shape=(1,), dtype=\"string\")\n",
        "x = text_vectorizer(inputs)\n",
        "x = model_GRU_embedding(x)\n",
        "x = layers.GRU(64, return_sequences=True)(x)  # Add parentheses here\n",
        "x = layers.GRU(64)(x)\n",
        "x = layers.Dense(64, activation=\"relu\")(x) # optional dense layer after GRU cell\n",
        "outputs = layers.Dense(1, activation=\"sigmoid\")(x)\n",
        "model_GRU = tf.keras.Model(inputs, outputs, name=\"model_GRU\")"
      ],
      "metadata": {
        "execution": {
          "iopub.status.busy": "2023-10-01T08:28:52.467343Z",
          "iopub.execute_input": "2023-10-01T08:28:52.467713Z",
          "iopub.status.idle": "2023-10-01T08:28:53.174017Z",
          "shell.execute_reply.started": "2023-10-01T08:28:52.467679Z",
          "shell.execute_reply": "2023-10-01T08:28:53.172834Z"
        },
        "trusted": true,
        "id": "LhVyI8OwIEJq"
      },
      "execution_count": null,
      "outputs": []
    },
    {
      "cell_type": "code",
      "source": [
        "model_GRU.compile(loss=\"binary_crossentropy\",\n",
        "                optimizer=tf.keras.optimizers.Adam(),\n",
        "                metrics=[\"accuracy\"])"
      ],
      "metadata": {
        "execution": {
          "iopub.status.busy": "2023-10-01T08:28:58.358292Z",
          "iopub.execute_input": "2023-10-01T08:28:58.358693Z",
          "iopub.status.idle": "2023-10-01T08:28:58.375798Z",
          "shell.execute_reply.started": "2023-10-01T08:28:58.358663Z",
          "shell.execute_reply": "2023-10-01T08:28:58.374527Z"
        },
        "trusted": true,
        "id": "7_FCJFCNIEJr"
      },
      "execution_count": null,
      "outputs": []
    },
    {
      "cell_type": "code",
      "source": [
        "model_GRU.summary()"
      ],
      "metadata": {
        "execution": {
          "iopub.status.busy": "2023-10-01T08:29:00.872077Z",
          "iopub.execute_input": "2023-10-01T08:29:00.872984Z",
          "iopub.status.idle": "2023-10-01T08:29:00.901392Z",
          "shell.execute_reply.started": "2023-10-01T08:29:00.872941Z",
          "shell.execute_reply": "2023-10-01T08:29:00.900176Z"
        },
        "trusted": true,
        "id": "qrJXquVDIEJr"
      },
      "execution_count": null,
      "outputs": []
    },
    {
      "cell_type": "code",
      "source": [
        "checkpoint_path = \"best_model_GRU\"\n",
        "\n",
        "cc = create_checkpoint_callback(checkpoint_path)"
      ],
      "metadata": {
        "execution": {
          "iopub.status.busy": "2023-10-01T08:29:03.155567Z",
          "iopub.execute_input": "2023-10-01T08:29:03.155917Z",
          "iopub.status.idle": "2023-10-01T08:29:03.160633Z",
          "shell.execute_reply.started": "2023-10-01T08:29:03.155891Z",
          "shell.execute_reply": "2023-10-01T08:29:03.159458Z"
        },
        "trusted": true,
        "id": "A5eYdIyiIEJr"
      },
      "execution_count": null,
      "outputs": []
    },
    {
      "cell_type": "code",
      "source": [
        "model_GRU_history = model_GRU.fit(X_train, y_train,\n",
        "                              epochs=10,\n",
        "                              validation_data=(X_valid, y_valid),\n",
        "                              callbacks=[cc])"
      ],
      "metadata": {
        "execution": {
          "iopub.status.busy": "2023-10-01T08:29:05.755121Z",
          "iopub.execute_input": "2023-10-01T08:29:05.756425Z",
          "iopub.status.idle": "2023-10-01T09:06:31.65804Z",
          "shell.execute_reply.started": "2023-10-01T08:29:05.756364Z",
          "shell.execute_reply": "2023-10-01T09:06:31.657045Z"
        },
        "trusted": true,
        "id": "T1g-x1LgIEJs"
      },
      "execution_count": null,
      "outputs": []
    },
    {
      "cell_type": "code",
      "source": [
        "def plot_graphs(history, string):\n",
        "  plt.plot(history.history[string])\n",
        "  plt.plot(history.history['val_'+string])\n",
        "  plt.xlabel(\"Epochs\")\n",
        "  plt.ylabel(string)\n",
        "  plt.legend([string, 'val_'+string])\n",
        "  plt.show()\n",
        "\n",
        "# Plot the accuracy and loss history\n",
        "plot_graphs(model_GRU_history, 'accuracy')\n",
        "plot_graphs(model_GRU_history, 'loss')"
      ],
      "metadata": {
        "execution": {
          "iopub.status.busy": "2023-10-01T09:21:18.246017Z",
          "iopub.execute_input": "2023-10-01T09:21:18.246336Z",
          "iopub.status.idle": "2023-10-01T09:21:18.742275Z",
          "shell.execute_reply.started": "2023-10-01T09:21:18.246291Z",
          "shell.execute_reply": "2023-10-01T09:21:18.741054Z"
        },
        "trusted": true,
        "id": "S0nKiKdxIEJs"
      },
      "execution_count": null,
      "outputs": []
    },
    {
      "cell_type": "code",
      "source": [
        "model_GRU = load_model(checkpoint_path)"
      ],
      "metadata": {
        "execution": {
          "iopub.status.busy": "2023-10-01T09:21:23.257656Z",
          "iopub.execute_input": "2023-10-01T09:21:23.258204Z",
          "iopub.status.idle": "2023-10-01T09:21:26.80219Z",
          "shell.execute_reply.started": "2023-10-01T09:21:23.258177Z",
          "shell.execute_reply": "2023-10-01T09:21:26.801131Z"
        },
        "trusted": true,
        "id": "kDWJ5KKfIEJs"
      },
      "execution_count": null,
      "outputs": []
    },
    {
      "cell_type": "code",
      "source": [
        "model_GRU.evaluate(X_valid, y_valid)"
      ],
      "metadata": {
        "execution": {
          "iopub.status.busy": "2023-10-01T09:21:31.566239Z",
          "iopub.execute_input": "2023-10-01T09:21:31.566679Z",
          "iopub.status.idle": "2023-10-01T09:21:37.767687Z",
          "shell.execute_reply.started": "2023-10-01T09:21:31.566647Z",
          "shell.execute_reply": "2023-10-01T09:21:37.766817Z"
        },
        "trusted": true,
        "id": "G7kwtYjOIEJt"
      },
      "execution_count": null,
      "outputs": []
    },
    {
      "cell_type": "code",
      "source": [
        "model_GRU_pred_probs = model_GRU.predict(X_valid)\n",
        "model_GRU_pred_probs.shape, model_GRU_pred_probs[:10]"
      ],
      "metadata": {
        "execution": {
          "iopub.status.busy": "2023-10-01T09:21:41.681368Z",
          "iopub.execute_input": "2023-10-01T09:21:41.68234Z",
          "iopub.status.idle": "2023-10-01T09:21:52.61094Z",
          "shell.execute_reply.started": "2023-10-01T09:21:41.682291Z",
          "shell.execute_reply": "2023-10-01T09:21:52.610172Z"
        },
        "trusted": true,
        "id": "wlE8Z1edIEJt"
      },
      "execution_count": null,
      "outputs": []
    },
    {
      "cell_type": "code",
      "source": [
        "model_GRU_preds = tf.squeeze(tf.round(model_GRU_pred_probs))\n",
        "model_GRU_preds[:10]"
      ],
      "metadata": {
        "execution": {
          "iopub.status.busy": "2023-10-01T09:21:52.612423Z",
          "iopub.execute_input": "2023-10-01T09:21:52.613259Z",
          "iopub.status.idle": "2023-10-01T09:21:52.625153Z",
          "shell.execute_reply.started": "2023-10-01T09:21:52.613231Z",
          "shell.execute_reply": "2023-10-01T09:21:52.624173Z"
        },
        "trusted": true,
        "id": "6I5Z1YVVIEJt"
      },
      "execution_count": null,
      "outputs": []
    },
    {
      "cell_type": "code",
      "source": [
        "model_GRU_results = calculate_results(y_true=y_valid,\n",
        "                                    y_pred=model_GRU_preds)\n",
        "model_GRU_results"
      ],
      "metadata": {
        "execution": {
          "iopub.status.busy": "2023-10-01T09:21:55.766611Z",
          "iopub.execute_input": "2023-10-01T09:21:55.766984Z",
          "iopub.status.idle": "2023-10-01T09:21:55.778464Z",
          "shell.execute_reply.started": "2023-10-01T09:21:55.766955Z",
          "shell.execute_reply": "2023-10-01T09:21:55.777379Z"
        },
        "trusted": true,
        "id": "eZth7DzTIEJu"
      },
      "execution_count": null,
      "outputs": []
    },
    {
      "cell_type": "code",
      "source": [
        "compare_baseline_to_new_results(baseline_results, model_GRU_results)"
      ],
      "metadata": {
        "execution": {
          "iopub.status.busy": "2023-10-01T09:21:58.182283Z",
          "iopub.execute_input": "2023-10-01T09:21:58.182708Z",
          "iopub.status.idle": "2023-10-01T09:21:58.187139Z",
          "shell.execute_reply.started": "2023-10-01T09:21:58.182677Z",
          "shell.execute_reply": "2023-10-01T09:21:58.186407Z"
        },
        "trusted": true,
        "id": "W66mIqPFIEJu"
      },
      "execution_count": null,
      "outputs": []
    },
    {
      "cell_type": "code",
      "source": [
        "y_true = y_valid.tolist()  # Convert labels to a list\n",
        "preds = model_GRU.predict(X_valid)\n",
        "y_probs = preds.squeeze().tolist()  # Store the prediction probabilities as a list\n",
        "y_preds = tf.round(y_probs).numpy().tolist()"
      ],
      "metadata": {
        "execution": {
          "iopub.status.busy": "2023-10-01T09:22:00.270375Z",
          "iopub.execute_input": "2023-10-01T09:22:00.270768Z",
          "iopub.status.idle": "2023-10-01T09:22:05.639538Z",
          "shell.execute_reply.started": "2023-10-01T09:22:00.27074Z",
          "shell.execute_reply": "2023-10-01T09:22:05.638646Z"
        },
        "trusted": true,
        "id": "a90CvHe_IEJu"
      },
      "execution_count": null,
      "outputs": []
    },
    {
      "cell_type": "code",
      "source": [
        "from sklearn.metrics import confusion_matrix\n",
        "confusion_matrix(y_true=y_true,\n",
        "                 y_pred=y_preds)"
      ],
      "metadata": {
        "execution": {
          "iopub.status.busy": "2023-10-01T09:22:18.073847Z",
          "iopub.execute_input": "2023-10-01T09:22:18.074493Z",
          "iopub.status.idle": "2023-10-01T09:22:18.085405Z",
          "shell.execute_reply.started": "2023-10-01T09:22:18.074458Z",
          "shell.execute_reply": "2023-10-01T09:22:18.083889Z"
        },
        "trusted": true,
        "id": "y5bT5AtFIEJv"
      },
      "execution_count": null,
      "outputs": []
    },
    {
      "cell_type": "code",
      "source": [
        "make_confusion_matrix(y_true=y_true,\n",
        "                      y_pred=y_preds,\n",
        "                      classes=class_names,\n",
        "                      figsize=(15, 15),\n",
        "                      text_size=10)"
      ],
      "metadata": {
        "execution": {
          "iopub.status.busy": "2023-10-01T09:22:20.063487Z",
          "iopub.execute_input": "2023-10-01T09:22:20.063885Z",
          "iopub.status.idle": "2023-10-01T09:22:20.56177Z",
          "shell.execute_reply.started": "2023-10-01T09:22:20.063855Z",
          "shell.execute_reply": "2023-10-01T09:22:20.560502Z"
        },
        "trusted": true,
        "id": "PtJ2HNILIEJv"
      },
      "execution_count": null,
      "outputs": []
    },
    {
      "cell_type": "code",
      "source": [
        "random_predictions(model_GRU,\n",
        "                   X_valid,\n",
        "                   y_valid,\n",
        "                   num_samples=20,\n",
        "                   class_names=class_names)"
      ],
      "metadata": {
        "execution": {
          "iopub.status.busy": "2023-10-01T09:22:24.54397Z",
          "iopub.execute_input": "2023-10-01T09:22:24.544885Z",
          "iopub.status.idle": "2023-10-01T09:22:24.669244Z",
          "shell.execute_reply.started": "2023-10-01T09:22:24.544852Z",
          "shell.execute_reply": "2023-10-01T09:22:24.668149Z"
        },
        "trusted": true,
        "id": "fiiYJg2lIEJw"
      },
      "execution_count": null,
      "outputs": []
    },
    {
      "cell_type": "code",
      "source": [
        "tf.random.set_seed(42)\n",
        "\n",
        "from tensorflow.keras import layers\n",
        "model_GRU_embedding = layers.Embedding(input_dim=max_vocab_length,\n",
        "                                       output_dim=128,\n",
        "                                       embeddings_initializer=\"uniform\",\n",
        "                                       input_length=max_length,\n",
        "                                       name=\"embedding_GRU\")\n",
        "\n",
        "# Build a bidirectional RNN using the GRU cell\n",
        "inputs = layers.Input(shape=(1,), dtype=\"string\")\n",
        "x = text_vectorizer(inputs)\n",
        "x = model_GRU_embedding(x)\n",
        "x = layers.Bidirectional(layers.GRU(64, return_sequences=True))(x)\n",
        "x = layers.Bidirectional(layers.GRU(64))(x)\n",
        "x = layers.Dense(64, activation=\"relu\")(x)\n",
        "outputs = layers.Dense(1, activation=\"sigmoid\")(x)\n",
        "model_bi_GRU = tf.keras.Model(inputs, outputs, name=\"model_bi_GRU\")"
      ],
      "metadata": {
        "execution": {
          "iopub.status.busy": "2023-10-01T09:22:28.940615Z",
          "iopub.execute_input": "2023-10-01T09:22:28.941114Z",
          "iopub.status.idle": "2023-10-01T09:22:30.121081Z",
          "shell.execute_reply.started": "2023-10-01T09:22:28.941085Z",
          "shell.execute_reply": "2023-10-01T09:22:30.119849Z"
        },
        "trusted": true,
        "id": "QaSXxCs1IEJw"
      },
      "execution_count": null,
      "outputs": []
    },
    {
      "cell_type": "code",
      "source": [
        "model_bi_GRU.compile(loss=\"binary_crossentropy\",\n",
        "                     optimizer=tf.keras.optimizers.Adam(),\n",
        "                     metrics=[\"accuracy\"])"
      ],
      "metadata": {
        "execution": {
          "iopub.status.busy": "2023-10-01T09:22:31.977842Z",
          "iopub.execute_input": "2023-10-01T09:22:31.978242Z",
          "iopub.status.idle": "2023-10-01T09:22:31.99489Z",
          "shell.execute_reply.started": "2023-10-01T09:22:31.978209Z",
          "shell.execute_reply": "2023-10-01T09:22:31.993714Z"
        },
        "trusted": true,
        "id": "dk3xNiuGIEJw"
      },
      "execution_count": null,
      "outputs": []
    },
    {
      "cell_type": "code",
      "source": [
        "model_bi_GRU.summary()"
      ],
      "metadata": {
        "execution": {
          "iopub.status.busy": "2023-10-01T09:22:35.2191Z",
          "iopub.execute_input": "2023-10-01T09:22:35.219694Z",
          "iopub.status.idle": "2023-10-01T09:22:35.246382Z",
          "shell.execute_reply.started": "2023-10-01T09:22:35.219663Z",
          "shell.execute_reply": "2023-10-01T09:22:35.245706Z"
        },
        "trusted": true,
        "id": "6Exb-4-1IEJx"
      },
      "execution_count": null,
      "outputs": []
    },
    {
      "cell_type": "code",
      "source": [
        "checkpoint_path = \"best_model_bi_GRU\"\n",
        "\n",
        "cc = create_checkpoint_callback(checkpoint_path)"
      ],
      "metadata": {
        "execution": {
          "iopub.status.busy": "2023-10-01T09:22:38.328643Z",
          "iopub.execute_input": "2023-10-01T09:22:38.329001Z",
          "iopub.status.idle": "2023-10-01T09:22:38.334383Z",
          "shell.execute_reply.started": "2023-10-01T09:22:38.328975Z",
          "shell.execute_reply": "2023-10-01T09:22:38.33353Z"
        },
        "trusted": true,
        "id": "OoYFaZTNIEJx"
      },
      "execution_count": null,
      "outputs": []
    },
    {
      "cell_type": "code",
      "source": [
        "model_bi_GRU_history = model_bi_GRU.fit(X_train, y_train,\n",
        "                                        epochs=10,\n",
        "                                        validation_data=(X_valid, y_valid),\n",
        "                                        callbacks=[cc])"
      ],
      "metadata": {
        "execution": {
          "iopub.status.busy": "2023-10-01T09:22:40.886521Z",
          "iopub.execute_input": "2023-10-01T09:22:40.8869Z",
          "iopub.status.idle": "2023-10-01T10:16:10.054143Z",
          "shell.execute_reply.started": "2023-10-01T09:22:40.886871Z",
          "shell.execute_reply": "2023-10-01T10:16:10.05298Z"
        },
        "trusted": true,
        "id": "gcbOCrIEIEJx"
      },
      "execution_count": null,
      "outputs": []
    },
    {
      "cell_type": "code",
      "source": [
        "def plot_graphs(history, string):\n",
        "  plt.plot(history.history[string])\n",
        "  plt.plot(history.history['val_'+string])\n",
        "  plt.xlabel(\"Epochs\")\n",
        "  plt.ylabel(string)\n",
        "  plt.legend([string, 'val_'+string])\n",
        "  plt.show()\n",
        "\n",
        "# Plot the accuracy and loss history\n",
        "plot_graphs(model_GRU_history, 'accuracy')\n",
        "plot_graphs(model_GRU_history, 'loss')"
      ],
      "metadata": {
        "execution": {
          "iopub.status.busy": "2023-10-01T10:25:16.542489Z",
          "iopub.execute_input": "2023-10-01T10:25:16.542955Z",
          "iopub.status.idle": "2023-10-01T10:25:17.079374Z",
          "shell.execute_reply.started": "2023-10-01T10:25:16.542922Z",
          "shell.execute_reply": "2023-10-01T10:25:17.078398Z"
        },
        "trusted": true,
        "id": "sgxA1cnTIEJy"
      },
      "execution_count": null,
      "outputs": []
    },
    {
      "cell_type": "code",
      "source": [
        "model_bi_GRU = load_model(checkpoint_path)"
      ],
      "metadata": {
        "execution": {
          "iopub.status.busy": "2023-10-01T10:25:20.256592Z",
          "iopub.execute_input": "2023-10-01T10:25:20.256951Z",
          "iopub.status.idle": "2023-10-01T10:25:32.079996Z",
          "shell.execute_reply.started": "2023-10-01T10:25:20.256926Z",
          "shell.execute_reply": "2023-10-01T10:25:32.078783Z"
        },
        "trusted": true,
        "id": "b1Rc8P9XIEJy"
      },
      "execution_count": null,
      "outputs": []
    },
    {
      "cell_type": "code",
      "source": [
        "model_bi_GRU.evaluate(X_valid, y_valid)"
      ],
      "metadata": {
        "execution": {
          "iopub.status.busy": "2023-10-01T10:25:34.187932Z",
          "iopub.execute_input": "2023-10-01T10:25:34.188347Z",
          "iopub.status.idle": "2023-10-01T10:25:45.859656Z",
          "shell.execute_reply.started": "2023-10-01T10:25:34.188302Z",
          "shell.execute_reply": "2023-10-01T10:25:45.858536Z"
        },
        "trusted": true,
        "id": "lluwFzlwIEJy"
      },
      "execution_count": null,
      "outputs": []
    },
    {
      "cell_type": "code",
      "source": [
        "model_bi_GRU_pred_probs = model_bi_GRU.predict(X_valid)\n",
        "model_bi_GRU_pred_probs.shape, model_bi_GRU_pred_probs[:10]"
      ],
      "metadata": {
        "execution": {
          "iopub.status.busy": "2023-10-01T10:25:45.861159Z",
          "iopub.execute_input": "2023-10-01T10:25:45.861516Z",
          "iopub.status.idle": "2023-10-01T10:25:53.771311Z",
          "shell.execute_reply.started": "2023-10-01T10:25:45.861488Z",
          "shell.execute_reply": "2023-10-01T10:25:53.770369Z"
        },
        "trusted": true,
        "id": "IiGr04WkIEJz"
      },
      "execution_count": null,
      "outputs": []
    },
    {
      "cell_type": "code",
      "source": [
        "model_bi_GRU_preds = tf.squeeze(tf.round(model_bi_GRU_pred_probs))\n",
        "model_bi_GRU_preds[:10]"
      ],
      "metadata": {
        "execution": {
          "iopub.status.busy": "2023-10-01T10:25:55.388874Z",
          "iopub.execute_input": "2023-10-01T10:25:55.389273Z",
          "iopub.status.idle": "2023-10-01T10:25:55.403675Z",
          "shell.execute_reply.started": "2023-10-01T10:25:55.389241Z",
          "shell.execute_reply": "2023-10-01T10:25:55.402401Z"
        },
        "trusted": true,
        "id": "QCYQKzgnIEJz"
      },
      "execution_count": null,
      "outputs": []
    },
    {
      "cell_type": "code",
      "source": [
        "model_bi_GRU_results = calculate_results(y_true=y_valid,\n",
        "                                    y_pred=model_bi_GRU_preds)\n",
        "model_bi_GRU_results"
      ],
      "metadata": {
        "execution": {
          "iopub.status.busy": "2023-10-01T10:25:57.562468Z",
          "iopub.execute_input": "2023-10-01T10:25:57.562858Z",
          "iopub.status.idle": "2023-10-01T10:25:57.575893Z",
          "shell.execute_reply.started": "2023-10-01T10:25:57.562828Z",
          "shell.execute_reply": "2023-10-01T10:25:57.574422Z"
        },
        "trusted": true,
        "id": "A-JA8CN4IEJz"
      },
      "execution_count": null,
      "outputs": []
    },
    {
      "cell_type": "code",
      "source": [
        "compare_baseline_to_new_results(baseline_results, model_bi_GRU_results)"
      ],
      "metadata": {
        "execution": {
          "iopub.status.busy": "2023-10-01T10:26:01.519163Z",
          "iopub.execute_input": "2023-10-01T10:26:01.519609Z",
          "iopub.status.idle": "2023-10-01T10:26:01.525644Z",
          "shell.execute_reply.started": "2023-10-01T10:26:01.519575Z",
          "shell.execute_reply": "2023-10-01T10:26:01.524297Z"
        },
        "trusted": true,
        "id": "nkvlr5fiIEJz"
      },
      "execution_count": null,
      "outputs": []
    },
    {
      "cell_type": "code",
      "source": [
        "y_true = y_valid.tolist()  # Convert labels to a list\n",
        "preds = model_bi_GRU.predict(X_valid)\n",
        "y_probs = preds.squeeze().tolist()  # Store the prediction probabilities as a list\n",
        "y_preds = tf.round(y_probs).numpy().tolist()"
      ],
      "metadata": {
        "execution": {
          "iopub.status.busy": "2023-10-01T10:26:03.546207Z",
          "iopub.execute_input": "2023-10-01T10:26:03.546585Z",
          "iopub.status.idle": "2023-10-01T10:26:10.108541Z",
          "shell.execute_reply.started": "2023-10-01T10:26:03.546559Z",
          "shell.execute_reply": "2023-10-01T10:26:10.107493Z"
        },
        "trusted": true,
        "id": "hNyEmXFbIEJ0"
      },
      "execution_count": null,
      "outputs": []
    },
    {
      "cell_type": "code",
      "source": [
        "from sklearn.metrics import confusion_matrix\n",
        "confusion_matrix(y_true=y_true,\n",
        "                 y_pred=y_preds)"
      ],
      "metadata": {
        "execution": {
          "iopub.status.busy": "2023-10-01T10:26:11.639845Z",
          "iopub.execute_input": "2023-10-01T10:26:11.641117Z",
          "iopub.status.idle": "2023-10-01T10:26:11.65356Z",
          "shell.execute_reply.started": "2023-10-01T10:26:11.641068Z",
          "shell.execute_reply": "2023-10-01T10:26:11.652255Z"
        },
        "trusted": true,
        "id": "OsdS5FbnIEJ0"
      },
      "execution_count": null,
      "outputs": []
    },
    {
      "cell_type": "code",
      "source": [
        "make_confusion_matrix(y_true=y_true,\n",
        "                      y_pred=y_preds,\n",
        "                      classes=class_names,\n",
        "                      figsize=(15, 15),\n",
        "                      text_size=10)"
      ],
      "metadata": {
        "execution": {
          "iopub.status.busy": "2023-10-01T10:26:13.444862Z",
          "iopub.execute_input": "2023-10-01T10:26:13.445764Z",
          "iopub.status.idle": "2023-10-01T10:26:13.930278Z",
          "shell.execute_reply.started": "2023-10-01T10:26:13.445726Z",
          "shell.execute_reply": "2023-10-01T10:26:13.92914Z"
        },
        "trusted": true,
        "id": "ZIUQLz2uIEJ0"
      },
      "execution_count": null,
      "outputs": []
    },
    {
      "cell_type": "code",
      "source": [
        "random_predictions(model_bi_GRU,\n",
        "                   X_valid,\n",
        "                   y_valid,\n",
        "                   num_samples=20,\n",
        "                   class_names=class_names)"
      ],
      "metadata": {
        "execution": {
          "iopub.status.busy": "2023-10-01T10:26:17.470263Z",
          "iopub.execute_input": "2023-10-01T10:26:17.470645Z",
          "iopub.status.idle": "2023-10-01T10:26:17.606922Z",
          "shell.execute_reply.started": "2023-10-01T10:26:17.470618Z",
          "shell.execute_reply": "2023-10-01T10:26:17.606132Z"
        },
        "trusted": true,
        "id": "acG_RRxxIEJ1"
      },
      "execution_count": null,
      "outputs": []
    },
    {
      "cell_type": "code",
      "source": [
        "from tensorflow.keras import layers\n",
        "\n",
        "# Parameters\n",
        "embedding_dim = 128\n",
        "filters = 64\n",
        "kernel_size = 5\n",
        "\n",
        "tf.random.set_seed(42)\n",
        "\n",
        "# Input layer\n",
        "inputs = layers.Input(shape=(1,), dtype=\"string\")\n",
        "# Turn the input text into numbers\n",
        "x = text_vectorizer(inputs)\n",
        "# Create an embedding of the numerized numbers\n",
        "x = layers.Embedding(input_dim=max_vocab_length,\n",
        "                     output_dim=embedding_dim,\n",
        "                     embeddings_initializer=\"uniform\",\n",
        "                     input_length=max_length,\n",
        "                     name=\"embedding_2\")(x)\n",
        "# Conv1D layer\n",
        "x = layers.Conv1D(filters, kernel_size, activation='relu')(x)\n",
        "# GlobalMaxPooling1D layer\n",
        "x = layers.GlobalMaxPooling1D()(x)\n",
        "# Dense layer\n",
        "x = layers.Dense(512, activation='relu')(x)\n",
        "# Output layer\n",
        "outputs = layers.Dense(1, activation='sigmoid')(x)\n",
        "# Create the model\n",
        "model_conv = tf.keras.Model(inputs, outputs)"
      ],
      "metadata": {
        "execution": {
          "iopub.status.busy": "2023-10-01T10:26:22.405712Z",
          "iopub.execute_input": "2023-10-01T10:26:22.406094Z",
          "iopub.status.idle": "2023-10-01T10:26:22.64795Z",
          "shell.execute_reply.started": "2023-10-01T10:26:22.406062Z",
          "shell.execute_reply": "2023-10-01T10:26:22.64673Z"
        },
        "trusted": true,
        "id": "OZhzUIS_IEJ1"
      },
      "execution_count": null,
      "outputs": []
    },
    {
      "cell_type": "code",
      "source": [
        "model_conv.compile(loss='binary_crossentropy', optimizer='adam', metrics=['accuracy'])\n",
        "\n",
        "# Print the model summary\n",
        "model_conv.summary()"
      ],
      "metadata": {
        "execution": {
          "iopub.status.busy": "2023-10-01T10:26:26.079294Z",
          "iopub.execute_input": "2023-10-01T10:26:26.079985Z",
          "iopub.status.idle": "2023-10-01T10:26:26.122037Z",
          "shell.execute_reply.started": "2023-10-01T10:26:26.079952Z",
          "shell.execute_reply": "2023-10-01T10:26:26.121368Z"
        },
        "trusted": true,
        "id": "fTbvCeoqIEJ2"
      },
      "execution_count": null,
      "outputs": []
    },
    {
      "cell_type": "code",
      "source": [
        "checkpoint_path = \"best_model_conv\"\n",
        "\n",
        "cc = create_checkpoint_callback(checkpoint_path)"
      ],
      "metadata": {
        "execution": {
          "iopub.status.busy": "2023-10-01T10:26:28.818251Z",
          "iopub.execute_input": "2023-10-01T10:26:28.81869Z",
          "iopub.status.idle": "2023-10-01T10:26:28.824457Z",
          "shell.execute_reply.started": "2023-10-01T10:26:28.818659Z",
          "shell.execute_reply": "2023-10-01T10:26:28.823076Z"
        },
        "trusted": true,
        "id": "kprDqqfMIEJ3"
      },
      "execution_count": null,
      "outputs": []
    },
    {
      "cell_type": "code",
      "source": [
        "NUM_EPOCHS = 10\n",
        "\n",
        "# Train the model\n",
        "history_conv1d = model_conv.fit(X_train, y_train, epochs=NUM_EPOCHS, validation_data=(X_valid, y_valid),callbacks=[cc])"
      ],
      "metadata": {
        "execution": {
          "iopub.status.busy": "2023-10-01T10:26:31.755838Z",
          "iopub.execute_input": "2023-10-01T10:26:31.756198Z",
          "iopub.status.idle": "2023-10-01T10:37:48.26722Z",
          "shell.execute_reply.started": "2023-10-01T10:26:31.75617Z",
          "shell.execute_reply": "2023-10-01T10:37:48.266188Z"
        },
        "trusted": true,
        "id": "Ub8drWAeIEJ3"
      },
      "execution_count": null,
      "outputs": []
    },
    {
      "cell_type": "code",
      "source": [
        "def plot_graphs(history, string):\n",
        "  plt.plot(history.history[string])\n",
        "  plt.plot(history.history['val_'+string])\n",
        "  plt.xlabel(\"Epochs\")\n",
        "  plt.ylabel(string)\n",
        "  plt.legend([string, 'val_'+string])\n",
        "  plt.show()\n",
        "\n",
        "# Plot the accuracy and loss history\n",
        "plot_graphs(history_conv1d, 'accuracy')\n",
        "plot_graphs(history_conv1d, 'loss')"
      ],
      "metadata": {
        "execution": {
          "iopub.status.busy": "2023-10-01T10:50:48.890719Z",
          "iopub.execute_input": "2023-10-01T10:50:48.891234Z",
          "iopub.status.idle": "2023-10-01T10:50:49.320557Z",
          "shell.execute_reply.started": "2023-10-01T10:50:48.891205Z",
          "shell.execute_reply": "2023-10-01T10:50:49.319404Z"
        },
        "trusted": true,
        "id": "NK34nSsoIEJ3"
      },
      "execution_count": null,
      "outputs": []
    },
    {
      "cell_type": "code",
      "source": [
        "model_conv = load_model(checkpoint_path)"
      ],
      "metadata": {
        "execution": {
          "iopub.status.busy": "2023-10-01T10:50:52.925191Z",
          "iopub.execute_input": "2023-10-01T10:50:52.92613Z",
          "iopub.status.idle": "2023-10-01T10:50:53.699979Z",
          "shell.execute_reply.started": "2023-10-01T10:50:52.926096Z",
          "shell.execute_reply": "2023-10-01T10:50:53.699014Z"
        },
        "trusted": true,
        "id": "9MexGDtHIEJ4"
      },
      "execution_count": null,
      "outputs": []
    },
    {
      "cell_type": "code",
      "source": [
        "model_conv.evaluate(X_valid, y_valid)"
      ],
      "metadata": {
        "execution": {
          "iopub.status.busy": "2023-10-01T10:50:55.573095Z",
          "iopub.execute_input": "2023-10-01T10:50:55.573497Z",
          "iopub.status.idle": "2023-10-01T10:50:57.08476Z",
          "shell.execute_reply.started": "2023-10-01T10:50:55.573469Z",
          "shell.execute_reply": "2023-10-01T10:50:57.083926Z"
        },
        "trusted": true,
        "id": "MU5xpdNGIEJ4"
      },
      "execution_count": null,
      "outputs": []
    },
    {
      "cell_type": "code",
      "source": [
        "model_conv_pred_probs = model_conv.predict(X_valid)\n",
        "model_conv_pred_probs[:10]"
      ],
      "metadata": {
        "execution": {
          "iopub.status.busy": "2023-10-01T10:50:58.217107Z",
          "iopub.execute_input": "2023-10-01T10:50:58.218331Z",
          "iopub.status.idle": "2023-10-01T10:50:59.247951Z",
          "shell.execute_reply.started": "2023-10-01T10:50:58.218273Z",
          "shell.execute_reply": "2023-10-01T10:50:59.247073Z"
        },
        "trusted": true,
        "id": "hhPO4_HbIEJ4"
      },
      "execution_count": null,
      "outputs": []
    },
    {
      "cell_type": "code",
      "source": [
        "model_conv_preds = tf.squeeze(tf.round(model_conv_pred_probs))\n",
        "model_conv_preds[:10]"
      ],
      "metadata": {
        "execution": {
          "iopub.status.busy": "2023-10-01T10:51:00.789991Z",
          "iopub.execute_input": "2023-10-01T10:51:00.790385Z",
          "iopub.status.idle": "2023-10-01T10:51:00.802801Z",
          "shell.execute_reply.started": "2023-10-01T10:51:00.790355Z",
          "shell.execute_reply": "2023-10-01T10:51:00.801762Z"
        },
        "trusted": true,
        "id": "RrlbncN8IEJ5"
      },
      "execution_count": null,
      "outputs": []
    },
    {
      "cell_type": "code",
      "source": [
        "model_conv_results = calculate_results(y_valid, model_conv_preds)\n",
        "model_conv_results"
      ],
      "metadata": {
        "execution": {
          "iopub.status.busy": "2023-10-01T10:51:02.761161Z",
          "iopub.execute_input": "2023-10-01T10:51:02.762226Z",
          "iopub.status.idle": "2023-10-01T10:51:02.774885Z",
          "shell.execute_reply.started": "2023-10-01T10:51:02.762176Z",
          "shell.execute_reply": "2023-10-01T10:51:02.773895Z"
        },
        "trusted": true,
        "id": "faAcDAW1IEJ5"
      },
      "execution_count": null,
      "outputs": []
    },
    {
      "cell_type": "code",
      "source": [
        "compare_baseline_to_new_results(baseline_results, model_conv_results)"
      ],
      "metadata": {
        "execution": {
          "iopub.status.busy": "2023-10-01T10:51:04.845773Z",
          "iopub.execute_input": "2023-10-01T10:51:04.846344Z",
          "iopub.status.idle": "2023-10-01T10:51:04.85143Z",
          "shell.execute_reply.started": "2023-10-01T10:51:04.846299Z",
          "shell.execute_reply": "2023-10-01T10:51:04.850416Z"
        },
        "trusted": true,
        "id": "FbvjUmhlIEJ5"
      },
      "execution_count": null,
      "outputs": []
    },
    {
      "cell_type": "code",
      "source": [
        "y_true = y_valid.tolist()  # Convert labels to a list\n",
        "preds = model_conv.predict(X_valid)\n",
        "y_probs = preds.squeeze().tolist()  # Store the prediction probabilities as a list\n",
        "y_preds = tf.round(y_probs).numpy().tolist()"
      ],
      "metadata": {
        "execution": {
          "iopub.status.busy": "2023-10-01T10:51:06.595067Z",
          "iopub.execute_input": "2023-10-01T10:51:06.595518Z",
          "iopub.status.idle": "2023-10-01T10:51:07.518048Z",
          "shell.execute_reply.started": "2023-10-01T10:51:06.595484Z",
          "shell.execute_reply": "2023-10-01T10:51:07.516859Z"
        },
        "trusted": true,
        "id": "i1mr6MCxIEJ6"
      },
      "execution_count": null,
      "outputs": []
    },
    {
      "cell_type": "code",
      "source": [
        "from sklearn.metrics import confusion_matrix\n",
        "confusion_matrix(y_true=y_true,\n",
        "                 y_pred=y_preds)"
      ],
      "metadata": {
        "execution": {
          "iopub.status.busy": "2023-10-01T10:51:08.410197Z",
          "iopub.execute_input": "2023-10-01T10:51:08.411401Z",
          "iopub.status.idle": "2023-10-01T10:51:08.420701Z",
          "shell.execute_reply.started": "2023-10-01T10:51:08.411359Z",
          "shell.execute_reply": "2023-10-01T10:51:08.41974Z"
        },
        "trusted": true,
        "id": "VDDAE_OzIEJ6"
      },
      "execution_count": null,
      "outputs": []
    },
    {
      "cell_type": "code",
      "source": [
        "make_confusion_matrix(y_true=y_true,\n",
        "                      y_pred=y_preds,\n",
        "                      classes=class_names,\n",
        "                      figsize=(15, 15),\n",
        "                      text_size=10)"
      ],
      "metadata": {
        "execution": {
          "iopub.status.busy": "2023-10-01T10:51:11.082477Z",
          "iopub.execute_input": "2023-10-01T10:51:11.082831Z",
          "iopub.status.idle": "2023-10-01T10:51:11.52781Z",
          "shell.execute_reply.started": "2023-10-01T10:51:11.082805Z",
          "shell.execute_reply": "2023-10-01T10:51:11.526619Z"
        },
        "trusted": true,
        "id": "Ntcx0K_JIEJ7"
      },
      "execution_count": null,
      "outputs": []
    },
    {
      "cell_type": "code",
      "source": [
        "random_predictions(model_conv,\n",
        "                   X_valid,\n",
        "                   y_valid,\n",
        "                   num_samples=20,\n",
        "                   class_names=class_names)"
      ],
      "metadata": {
        "execution": {
          "iopub.status.busy": "2023-10-01T10:51:14.905705Z",
          "iopub.execute_input": "2023-10-01T10:51:14.906274Z",
          "iopub.status.idle": "2023-10-01T10:51:14.99331Z",
          "shell.execute_reply.started": "2023-10-01T10:51:14.906244Z",
          "shell.execute_reply": "2023-10-01T10:51:14.992213Z"
        },
        "trusted": true,
        "id": "3FNS3UqbIEJ7"
      },
      "execution_count": null,
      "outputs": []
    },
    {
      "cell_type": "code",
      "source": [
        "sentence_encoder_layer = hub.KerasLayer(\"https://tfhub.dev/google/universal-sentence-encoder/4\",\n",
        "                                        input_shape=[], # shape of inputs coming to our model\n",
        "                                        dtype=tf.string, # data type of inputs coming to the USE layer\n",
        "                                        trainable=False, # keep the pretrained weights (we'll create a feature extractor)\n",
        "                                        name=\"USE\")"
      ],
      "metadata": {
        "execution": {
          "iopub.status.busy": "2023-10-01T10:51:19.328887Z",
          "iopub.execute_input": "2023-10-01T10:51:19.329262Z",
          "iopub.status.idle": "2023-10-01T10:51:56.720348Z",
          "shell.execute_reply.started": "2023-10-01T10:51:19.329233Z",
          "shell.execute_reply": "2023-10-01T10:51:56.719232Z"
        },
        "trusted": true,
        "id": "LV9jG52_IEJ7"
      },
      "execution_count": null,
      "outputs": []
    },
    {
      "cell_type": "code",
      "source": [
        "tf.random.set_seed(42)\n",
        "\n",
        "# Create model using the Sequential API\n",
        "model_USE = tf.keras.Sequential([\n",
        "sentence_encoder_layer, # take in sentences and then encode them into an embedding\n",
        "layers.Dense(512, activation=\"relu\"),\n",
        "layers.Dense(1, activation=\"sigmoid\")\n",
        "], name=\"model_USE\")\n",
        "\n",
        "# Compile model\n",
        "model_USE.compile(loss=\"binary_crossentropy\",\n",
        "              optimizer=tf.keras.optimizers.Adam(),\n",
        "              metrics=[\"accuracy\"])\n",
        "\n",
        "model_USE.summary()"
      ],
      "metadata": {
        "execution": {
          "iopub.status.busy": "2023-10-01T10:52:13.821114Z",
          "iopub.execute_input": "2023-10-01T10:52:13.821548Z",
          "iopub.status.idle": "2023-10-01T10:52:14.532265Z",
          "shell.execute_reply.started": "2023-10-01T10:52:13.821516Z",
          "shell.execute_reply": "2023-10-01T10:52:14.531112Z"
        },
        "trusted": true,
        "id": "_DQc6_lzIEJ8"
      },
      "execution_count": null,
      "outputs": []
    },
    {
      "cell_type": "code",
      "source": [
        "checkpoint_path = \"best_model_USE\"\n",
        "\n",
        "# Create a ModelCheckpoint callback that saves the model's weights only when the validation accuracy improves\n",
        "cc = ModelCheckpoint(filepath=checkpoint_path,\n",
        "                                      monitor='val_accuracy',\n",
        "                                      mode='max',\n",
        "                                      save_best_only=True,\n",
        "                                      verbose=1)"
      ],
      "metadata": {
        "execution": {
          "iopub.status.busy": "2023-10-01T10:52:17.621694Z",
          "iopub.execute_input": "2023-10-01T10:52:17.622097Z",
          "iopub.status.idle": "2023-10-01T10:52:17.627962Z",
          "shell.execute_reply.started": "2023-10-01T10:52:17.622064Z",
          "shell.execute_reply": "2023-10-01T10:52:17.626306Z"
        },
        "trusted": true,
        "id": "0_Rje6w9IEJ8"
      },
      "execution_count": null,
      "outputs": []
    },
    {
      "cell_type": "code",
      "source": [
        "model_USE_history = model_USE.fit(X_train,\n",
        "                              y_train,\n",
        "                              epochs=10,\n",
        "                              validation_data=(X_valid, y_valid),\n",
        "                              callbacks=[cc])"
      ],
      "metadata": {
        "execution": {
          "iopub.status.busy": "2023-10-01T10:52:21.160222Z",
          "iopub.execute_input": "2023-10-01T10:52:21.160677Z",
          "iopub.status.idle": "2023-10-01T10:56:53.660407Z",
          "shell.execute_reply.started": "2023-10-01T10:52:21.160645Z",
          "shell.execute_reply": "2023-10-01T10:56:53.65917Z"
        },
        "trusted": true,
        "id": "JpfDEqW2IEJ8"
      },
      "execution_count": null,
      "outputs": []
    },
    {
      "cell_type": "code",
      "source": [
        "model_USE = load_model(checkpoint_path)"
      ],
      "metadata": {
        "execution": {
          "iopub.status.busy": "2023-10-01T10:59:51.178178Z",
          "iopub.execute_input": "2023-10-01T10:59:51.178703Z",
          "iopub.status.idle": "2023-10-01T10:59:58.664843Z",
          "shell.execute_reply.started": "2023-10-01T10:59:51.178668Z",
          "shell.execute_reply": "2023-10-01T10:59:58.663609Z"
        },
        "trusted": true,
        "id": "ycGEnfu3IEJ9"
      },
      "execution_count": null,
      "outputs": []
    },
    {
      "cell_type": "code",
      "source": [
        "model_USE.evaluate(X_valid, y_valid)"
      ],
      "metadata": {
        "execution": {
          "iopub.status.busy": "2023-10-01T11:00:03.15793Z",
          "iopub.execute_input": "2023-10-01T11:00:03.158391Z",
          "iopub.status.idle": "2023-10-01T11:00:06.288562Z",
          "shell.execute_reply.started": "2023-10-01T11:00:03.158346Z",
          "shell.execute_reply": "2023-10-01T11:00:06.287193Z"
        },
        "trusted": true,
        "id": "veoBFTSuIEJ9"
      },
      "execution_count": null,
      "outputs": []
    },
    {
      "cell_type": "code",
      "source": [
        "def plot_graphs(history, string):\n",
        "  plt.plot(history.history[string])\n",
        "  plt.plot(history.history['val_'+string])\n",
        "  plt.xlabel(\"Epochs\")\n",
        "  plt.ylabel(string)\n",
        "  plt.legend([string, 'val_'+string])\n",
        "  plt.show()\n",
        "\n",
        "# Plot the accuracy and loss history\n",
        "plot_graphs(model_USE_history, 'accuracy')\n",
        "plot_graphs(model_USE_history, 'loss')"
      ],
      "metadata": {
        "execution": {
          "iopub.status.busy": "2023-10-01T11:00:07.52813Z",
          "iopub.execute_input": "2023-10-01T11:00:07.528551Z",
          "iopub.status.idle": "2023-10-01T11:00:07.915553Z",
          "shell.execute_reply.started": "2023-10-01T11:00:07.528519Z",
          "shell.execute_reply": "2023-10-01T11:00:07.914363Z"
        },
        "trusted": true,
        "id": "X3NOf93QIEJ-"
      },
      "execution_count": null,
      "outputs": []
    },
    {
      "cell_type": "code",
      "source": [
        "model_USE_pred_probs = model_USE.predict(X_valid)\n",
        "model_USE_pred_probs[:10]"
      ],
      "metadata": {
        "execution": {
          "iopub.status.busy": "2023-10-01T11:00:10.827503Z",
          "iopub.execute_input": "2023-10-01T11:00:10.827926Z",
          "iopub.status.idle": "2023-10-01T11:00:13.864919Z",
          "shell.execute_reply.started": "2023-10-01T11:00:10.827895Z",
          "shell.execute_reply": "2023-10-01T11:00:13.863532Z"
        },
        "trusted": true,
        "id": "C7dLKkVwIEJ-"
      },
      "execution_count": null,
      "outputs": []
    },
    {
      "cell_type": "code",
      "source": [
        "model_USE_preds = tf.squeeze(tf.round(model_USE_pred_probs))\n",
        "model_USE_preds[:10]"
      ],
      "metadata": {
        "execution": {
          "iopub.status.busy": "2023-10-01T11:00:14.137953Z",
          "iopub.execute_input": "2023-10-01T11:00:14.138558Z",
          "iopub.status.idle": "2023-10-01T11:00:14.150956Z",
          "shell.execute_reply.started": "2023-10-01T11:00:14.138526Z",
          "shell.execute_reply": "2023-10-01T11:00:14.150153Z"
        },
        "trusted": true,
        "id": "nZtQNXgsIEJ-"
      },
      "execution_count": null,
      "outputs": []
    },
    {
      "cell_type": "code",
      "source": [
        "model_USE_results = calculate_results(y_valid, model_USE_preds)\n",
        "model_USE_results"
      ],
      "metadata": {
        "execution": {
          "iopub.status.busy": "2023-10-01T11:00:16.893441Z",
          "iopub.execute_input": "2023-10-01T11:00:16.893859Z",
          "iopub.status.idle": "2023-10-01T11:00:16.907105Z",
          "shell.execute_reply.started": "2023-10-01T11:00:16.893826Z",
          "shell.execute_reply": "2023-10-01T11:00:16.905748Z"
        },
        "trusted": true,
        "id": "vafrl5hGIEJ-"
      },
      "execution_count": null,
      "outputs": []
    },
    {
      "cell_type": "code",
      "source": [
        "compare_baseline_to_new_results(baseline_results, model_USE_results)"
      ],
      "metadata": {
        "execution": {
          "iopub.status.busy": "2023-10-01T11:00:38.438643Z",
          "iopub.execute_input": "2023-10-01T11:00:38.439519Z",
          "iopub.status.idle": "2023-10-01T11:00:38.445667Z",
          "shell.execute_reply.started": "2023-10-01T11:00:38.439479Z",
          "shell.execute_reply": "2023-10-01T11:00:38.444526Z"
        },
        "trusted": true,
        "id": "vkDnMz4xIEJ_"
      },
      "execution_count": null,
      "outputs": []
    },
    {
      "cell_type": "code",
      "source": [
        "y_true = y_valid.tolist()  # Convert labels to a list\n",
        "preds = model_USE.predict(X_valid)\n",
        "y_probs = preds.squeeze().tolist()  # Store the prediction probabilities as a list\n",
        "y_preds = tf.round(y_probs).numpy().tolist()"
      ],
      "metadata": {
        "execution": {
          "iopub.status.busy": "2023-10-01T11:00:40.923973Z",
          "iopub.execute_input": "2023-10-01T11:00:40.924578Z",
          "iopub.status.idle": "2023-10-01T11:00:43.538689Z",
          "shell.execute_reply.started": "2023-10-01T11:00:40.924543Z",
          "shell.execute_reply": "2023-10-01T11:00:43.537509Z"
        },
        "trusted": true,
        "id": "_e9W8bFMIEJ_"
      },
      "execution_count": null,
      "outputs": []
    },
    {
      "cell_type": "code",
      "source": [
        "from sklearn.metrics import confusion_matrix\n",
        "confusion_matrix(y_true=y_true,\n",
        "                 y_pred=y_preds)"
      ],
      "metadata": {
        "execution": {
          "iopub.status.busy": "2023-10-01T11:00:43.966721Z",
          "iopub.execute_input": "2023-10-01T11:00:43.967109Z",
          "iopub.status.idle": "2023-10-01T11:00:43.978556Z",
          "shell.execute_reply.started": "2023-10-01T11:00:43.967078Z",
          "shell.execute_reply": "2023-10-01T11:00:43.977488Z"
        },
        "trusted": true,
        "id": "vx66o7QEIEKA"
      },
      "execution_count": null,
      "outputs": []
    },
    {
      "cell_type": "code",
      "source": [
        "make_confusion_matrix(y_true=y_true,\n",
        "                      y_pred=y_preds,\n",
        "                      classes=class_names,\n",
        "                      figsize=(15, 15),\n",
        "                      text_size=10)"
      ],
      "metadata": {
        "execution": {
          "iopub.status.busy": "2023-10-01T11:00:45.705956Z",
          "iopub.execute_input": "2023-10-01T11:00:45.707166Z",
          "iopub.status.idle": "2023-10-01T11:00:46.123664Z",
          "shell.execute_reply.started": "2023-10-01T11:00:45.707108Z",
          "shell.execute_reply": "2023-10-01T11:00:46.12242Z"
        },
        "trusted": true,
        "id": "fzlb-Sb-IEKA"
      },
      "execution_count": null,
      "outputs": []
    },
    {
      "cell_type": "code",
      "source": [
        "random_predictions(model_USE,\n",
        "                   X_valid,\n",
        "                   y_valid,\n",
        "                   num_samples=20,\n",
        "                   class_names=class_names)"
      ],
      "metadata": {
        "execution": {
          "iopub.status.busy": "2023-10-01T11:00:50.521078Z",
          "iopub.execute_input": "2023-10-01T11:00:50.522461Z",
          "iopub.status.idle": "2023-10-01T11:00:50.620905Z",
          "shell.execute_reply.started": "2023-10-01T11:00:50.522412Z",
          "shell.execute_reply": "2023-10-01T11:00:50.619705Z"
        },
        "trusted": true,
        "id": "bvHa21RhIEKB"
      },
      "execution_count": null,
      "outputs": []
    },
    {
      "cell_type": "code",
      "source": [
        "all_model_results = pd.DataFrame({\"baseline\": baseline_results,\n",
        "                                  \"Simple Dense\": model_dense_results,\n",
        "                                  \"LSTM\": model_1LSTM_results,\n",
        "                                  \"Bidirectional LSTM\": model_lstm_results,\n",
        "                                  \"GRU\": model_GRU_results,\n",
        "                                  \"Bidirectional GRU\": model_bi_GRU_results,\n",
        "                                  \"Conv1D\": model_conv_results,\n",
        "                                  \"USE\": model_USE_results,\n",
        "                                  })\n",
        "\n",
        "all_model_results = all_model_results.transpose()\n",
        "all_model_results[\"accuracy\"] = all_model_results[\"accuracy\"]/100\n",
        "all_model_results"
      ],
      "metadata": {
        "execution": {
          "iopub.status.busy": "2023-10-01T11:00:55.997677Z",
          "iopub.execute_input": "2023-10-01T11:00:55.998663Z",
          "iopub.status.idle": "2023-10-01T11:00:56.017249Z",
          "shell.execute_reply.started": "2023-10-01T11:00:55.998619Z",
          "shell.execute_reply": "2023-10-01T11:00:56.015936Z"
        },
        "trusted": true,
        "id": "ULKhZjx_IEKB"
      },
      "execution_count": null,
      "outputs": []
    },
    {
      "cell_type": "code",
      "source": [
        "import matplotlib.pyplot as plt\n",
        "\n",
        "def plot_graphs(history, string, model_name):\n",
        "  plt.figure(figsize=(12, 4))\n",
        "  plt.subplot(1, 2, 1)\n",
        "  plt.plot(history.history[string])\n",
        "  plt.plot(history.history['val_'+string])\n",
        "  plt.xlabel(\"Epochs\")\n",
        "  plt.ylabel(string)\n",
        "  plt.legend([string, 'val_'+string])\n",
        "  plt.title(f\"{model_name} - {string} vs. Validation {string}\")\n",
        "\n",
        "  plt.subplot(1, 2, 2)\n",
        "  plt.plot(history.history['loss'])\n",
        "  plt.plot(history.history['val_loss'])\n",
        "  plt.xlabel(\"Epochs\")\n",
        "  plt.ylabel('Loss')\n",
        "  plt.legend(['loss', 'val_loss'])\n",
        "  plt.title(f\"{model_name} - Loss vs. Validation Loss\")\n",
        "\n",
        "  plt.tight_layout()\n",
        "  plt.show()\n",
        "\n",
        "# Call the function for each model's history\n",
        "plot_graphs(model_dense_history, 'accuracy', 'Dense Network')\n",
        "plot_graphs(model_1LSTM_history, 'accuracy', 'LSTM')\n",
        "plot_graphs(history_lstm, 'accuracy', 'Bidirectional LSTM')\n",
        "plot_graphs(model_GRU_history, 'accuracy', 'GRU')\n",
        "plot_graphs(model_bi_GRU_history, 'accuracy', 'Bidirectional GRU')\n",
        "plot_graphs(history_conv1d, 'accuracy', 'Conv1D')\n",
        "plot_graphs(model_USE_history, 'accuracy', 'USE')"
      ],
      "metadata": {
        "execution": {
          "iopub.status.busy": "2023-10-01T13:25:30.223369Z",
          "iopub.execute_input": "2023-10-01T13:25:30.223863Z",
          "iopub.status.idle": "2023-10-01T13:25:34.446918Z",
          "shell.execute_reply.started": "2023-10-01T13:25:30.223829Z",
          "shell.execute_reply": "2023-10-01T13:25:34.445778Z"
        },
        "trusted": true,
        "id": "AN4KInr_IEKC"
      },
      "execution_count": null,
      "outputs": []
    },
    {
      "cell_type": "code",
      "source": [
        "all_model_results_sorted = all_model_results.sort_values(\"f1\", ascending=False)\n",
        "all_model_results_sorted"
      ],
      "metadata": {
        "execution": {
          "iopub.status.busy": "2023-10-01T11:01:04.124962Z",
          "iopub.execute_input": "2023-10-01T11:01:04.12537Z",
          "iopub.status.idle": "2023-10-01T11:01:04.139576Z",
          "shell.execute_reply.started": "2023-10-01T11:01:04.125338Z",
          "shell.execute_reply": "2023-10-01T11:01:04.138198Z"
        },
        "trusted": true,
        "id": "SEJF_O9qIEKC"
      },
      "execution_count": null,
      "outputs": []
    },
    {
      "cell_type": "code",
      "source": [
        "all_model_results.plot(kind=\"bar\", figsize=(10, 7)).legend(bbox_to_anchor=(1.0, 1.0));"
      ],
      "metadata": {
        "execution": {
          "iopub.status.busy": "2023-10-01T11:01:09.966145Z",
          "iopub.execute_input": "2023-10-01T11:01:09.966545Z",
          "iopub.status.idle": "2023-10-01T11:01:10.276671Z",
          "shell.execute_reply.started": "2023-10-01T11:01:09.966515Z",
          "shell.execute_reply": "2023-10-01T11:01:10.275418Z"
        },
        "trusted": true,
        "id": "tZDYspeCIEKC"
      },
      "execution_count": null,
      "outputs": []
    },
    {
      "cell_type": "code",
      "source": [
        "all_model_results.sort_values(\"f1\", ascending=False)[\"f1\"].plot(kind=\"bar\", figsize=(10, 7));"
      ],
      "metadata": {
        "execution": {
          "iopub.status.busy": "2023-10-01T11:01:14.468179Z",
          "iopub.execute_input": "2023-10-01T11:01:14.468618Z",
          "iopub.status.idle": "2023-10-01T11:01:14.73849Z",
          "shell.execute_reply.started": "2023-10-01T11:01:14.468584Z",
          "shell.execute_reply": "2023-10-01T11:01:14.737375Z"
        },
        "trusted": true,
        "id": "euVmWEN1IEKD"
      },
      "execution_count": null,
      "outputs": []
    },
    {
      "cell_type": "code",
      "source": [
        "y_true = y_valid.tolist()  # Convert labels to a list\n",
        "preds = model_GRU.predict(X_valid)\n",
        "y_probs = preds.squeeze().tolist()  # Store the prediction probabilities as a list\n",
        "y_preds = tf.round(y_probs).numpy().tolist()"
      ],
      "metadata": {
        "execution": {
          "iopub.status.busy": "2023-10-01T11:01:17.448725Z",
          "iopub.execute_input": "2023-10-01T11:01:17.449413Z",
          "iopub.status.idle": "2023-10-01T11:01:27.923175Z",
          "shell.execute_reply.started": "2023-10-01T11:01:17.449377Z",
          "shell.execute_reply": "2023-10-01T11:01:27.92215Z"
        },
        "trusted": true,
        "id": "vo2pTcSuIEKD"
      },
      "execution_count": null,
      "outputs": []
    },
    {
      "cell_type": "code",
      "source": [
        "from sklearn.metrics import classification_report, accuracy_score, f1_score, recall_score, precision_score\n",
        "\n",
        "report = classification_report(y_true, y_preds)\n",
        "print(report)"
      ],
      "metadata": {
        "execution": {
          "iopub.status.busy": "2023-10-01T11:01:27.924938Z",
          "iopub.execute_input": "2023-10-01T11:01:27.925238Z",
          "iopub.status.idle": "2023-10-01T11:01:27.94756Z",
          "shell.execute_reply.started": "2023-10-01T11:01:27.925213Z",
          "shell.execute_reply": "2023-10-01T11:01:27.94639Z"
        },
        "trusted": true,
        "id": "-6Ys6lSKIEKD"
      },
      "execution_count": null,
      "outputs": []
    },
    {
      "cell_type": "code",
      "source": [
        "textx = \"pretty much decided kill repent thing done way place selfpity feel remorseful \""
      ],
      "metadata": {
        "execution": {
          "iopub.status.busy": "2023-10-01T11:01:31.203384Z",
          "iopub.execute_input": "2023-10-01T11:01:31.204443Z",
          "iopub.status.idle": "2023-10-01T11:01:31.20926Z",
          "shell.execute_reply.started": "2023-10-01T11:01:31.204395Z",
          "shell.execute_reply": "2023-10-01T11:01:31.208511Z"
        },
        "trusted": true,
        "id": "ABLSocGYIEKD"
      },
      "execution_count": null,
      "outputs": []
    },
    {
      "cell_type": "code",
      "source": [
        "textx2 = \"i love my birthday\""
      ],
      "metadata": {
        "execution": {
          "iopub.status.busy": "2023-10-01T11:01:34.226188Z",
          "iopub.execute_input": "2023-10-01T11:01:34.226622Z",
          "iopub.status.idle": "2023-10-01T11:01:34.231484Z",
          "shell.execute_reply.started": "2023-10-01T11:01:34.226589Z",
          "shell.execute_reply": "2023-10-01T11:01:34.230312Z"
        },
        "trusted": true,
        "id": "jOI_NwhoIEKE"
      },
      "execution_count": null,
      "outputs": []
    },
    {
      "cell_type": "code",
      "source": [
        "textx3 = \"Hmm not really sure about this one,i'm so depressed\""
      ],
      "metadata": {
        "execution": {
          "iopub.status.busy": "2023-10-01T11:01:36.40497Z",
          "iopub.execute_input": "2023-10-01T11:01:36.405551Z",
          "iopub.status.idle": "2023-10-01T11:01:36.410017Z",
          "shell.execute_reply.started": "2023-10-01T11:01:36.405516Z",
          "shell.execute_reply": "2023-10-01T11:01:36.409248Z"
        },
        "trusted": true,
        "id": "jfaxLf1AIEKE"
      },
      "execution_count": null,
      "outputs": []
    },
    {
      "cell_type": "code",
      "source": [
        "def predict_on_sentence(model, sentence, category_reverse_mapping):\n",
        "    \"\"\"\n",
        "    Uses model to make a prediction on sentence.\n",
        "\n",
        "    Returns the sentence, the predicted labels and the prediction probabilities.\n",
        "    \"\"\"\n",
        "    pred_prob = model.predict([sentence])\n",
        "    pred_label = np.round(pred_prob).astype(int)[0]  # Converting to int to match the format of your labels\n",
        "\n",
        "    # Get the label names of the predicted class\n",
        "    pred_label_str = category_reverse_mapping[pred_label[0]]  # Use the first element of pred_label\n",
        "    pred_prob_str = pred_prob[0][0]\n",
        "\n",
        "    print(f\"Prediction: {pred_label_str}\")  # Print the predicted label\n",
        "    print(f\"Prediction probability: {pred_prob_str}\")  # Print the prediction probabilities\n",
        "    print(f\"Text:\\n{sentence}\")"
      ],
      "metadata": {
        "execution": {
          "iopub.status.busy": "2023-10-01T11:01:39.177415Z",
          "iopub.execute_input": "2023-10-01T11:01:39.17809Z",
          "iopub.status.idle": "2023-10-01T11:01:39.185013Z",
          "shell.execute_reply.started": "2023-10-01T11:01:39.178045Z",
          "shell.execute_reply": "2023-10-01T11:01:39.184048Z"
        },
        "trusted": true,
        "id": "I5rZzsdfIEKE"
      },
      "execution_count": null,
      "outputs": []
    },
    {
      "cell_type": "code",
      "source": [
        "predict_on_sentence(model=model_GRU, # use the GRU model\n",
        "                    sentence=textx,\n",
        "                    category_reverse_mapping=class_names)"
      ],
      "metadata": {
        "execution": {
          "iopub.status.busy": "2023-10-01T11:01:42.111941Z",
          "iopub.execute_input": "2023-10-01T11:01:42.112374Z",
          "iopub.status.idle": "2023-10-01T11:01:42.234347Z",
          "shell.execute_reply.started": "2023-10-01T11:01:42.112307Z",
          "shell.execute_reply": "2023-10-01T11:01:42.233063Z"
        },
        "trusted": true,
        "id": "cm6UBfb8IEKF"
      },
      "execution_count": null,
      "outputs": []
    },
    {
      "cell_type": "code",
      "source": [
        "predict_on_sentence(model=model_GRU, # use the GRU model\n",
        "                    sentence=textx2,\n",
        "                    category_reverse_mapping=class_names)"
      ],
      "metadata": {
        "execution": {
          "iopub.status.busy": "2023-10-01T11:01:55.629547Z",
          "iopub.execute_input": "2023-10-01T11:01:55.629931Z",
          "iopub.status.idle": "2023-10-01T11:01:55.743466Z",
          "shell.execute_reply.started": "2023-10-01T11:01:55.629904Z",
          "shell.execute_reply": "2023-10-01T11:01:55.742351Z"
        },
        "trusted": true,
        "id": "LsHU7zuKIEKF"
      },
      "execution_count": null,
      "outputs": []
    },
    {
      "cell_type": "code",
      "source": [
        "predict_on_sentence(model=model_GRU, # use the GRU model\n",
        "                    sentence=textx3,\n",
        "                    category_reverse_mapping=class_names)"
      ],
      "metadata": {
        "execution": {
          "iopub.status.busy": "2023-10-01T11:01:58.313522Z",
          "iopub.execute_input": "2023-10-01T11:01:58.313898Z",
          "iopub.status.idle": "2023-10-01T11:01:58.440626Z",
          "shell.execute_reply.started": "2023-10-01T11:01:58.313871Z",
          "shell.execute_reply": "2023-10-01T11:01:58.439566Z"
        },
        "trusted": true,
        "id": "mMB5tTpHIEKF"
      },
      "execution_count": null,
      "outputs": []
    },
    {
      "cell_type": "code",
      "source": [
        "val_df = pd.DataFrame({\n",
        "    \"text\": X_valid,\n",
        "    \"target\": [class_names[np.argmax(arr)] for arr in y_valid],\n",
        "    \"target_label\": [np.argmax(arr) for arr in y_valid],\n",
        "    \"pred\": [class_names[np.round(prob).astype(int)] for prob in y_preds],\n",
        "    \"pred_label\": [np.round(prob).astype(int) for prob in y_preds],\n",
        "    \"pred_prob\": y_preds\n",
        "})\n",
        "\n",
        "val_df.head()"
      ],
      "metadata": {
        "execution": {
          "iopub.status.busy": "2023-10-01T11:02:01.704871Z",
          "iopub.execute_input": "2023-10-01T11:02:01.705346Z",
          "iopub.status.idle": "2023-10-01T11:02:01.788482Z",
          "shell.execute_reply.started": "2023-10-01T11:02:01.705286Z",
          "shell.execute_reply": "2023-10-01T11:02:01.787391Z"
        },
        "trusted": true,
        "id": "xszz_RCQIEKF"
      },
      "execution_count": null,
      "outputs": []
    },
    {
      "cell_type": "code",
      "source": [
        "most_wrong = val_df[val_df[\"target\"] != val_df[\"pred\"]].sort_values(\"pred_prob\", ascending=False)\n",
        "most_wrong[:10]"
      ],
      "metadata": {
        "execution": {
          "iopub.status.busy": "2023-10-01T11:02:06.87354Z",
          "iopub.execute_input": "2023-10-01T11:02:06.873926Z",
          "iopub.status.idle": "2023-10-01T11:02:06.89118Z",
          "shell.execute_reply.started": "2023-10-01T11:02:06.873896Z",
          "shell.execute_reply": "2023-10-01T11:02:06.889976Z"
        },
        "trusted": true,
        "id": "IOURuh17IEKG"
      },
      "execution_count": null,
      "outputs": []
    },
    {
      "cell_type": "code",
      "source": [
        "for row in most_wrong[:10].itertuples(): # loop through the top 10 rows (change the index to view different rows)\n",
        "  _, text, target, target_label, pred, pred_label, prob = row\n",
        "  print(f\"Target: {target}, Pred: {pred}, Prob: {prob}\")\n",
        "  print(f\"Text:\\n{text}\\n\")\n",
        "  print(\"----\\n\")"
      ],
      "metadata": {
        "execution": {
          "iopub.status.busy": "2023-10-01T11:02:09.724979Z",
          "iopub.execute_input": "2023-10-01T11:02:09.7254Z",
          "iopub.status.idle": "2023-10-01T11:02:09.732793Z",
          "shell.execute_reply.started": "2023-10-01T11:02:09.725367Z",
          "shell.execute_reply": "2023-10-01T11:02:09.731414Z"
        },
        "trusted": true,
        "id": "SNNZV9BKIEKG"
      },
      "execution_count": null,
      "outputs": []
    },
    {
      "cell_type": "code",
      "source": [
        "for row in most_wrong[-10:].itertuples():\n",
        "  _, text, target, target_label, pred, pred_label, prob = row\n",
        "  print(f\"Target: {target}, Pred: {pred}, Prob: {prob}\")\n",
        "  print(f\"Text:\\n{text}\\n\")\n",
        "  print(\"----\\n\")"
      ],
      "metadata": {
        "execution": {
          "iopub.status.busy": "2023-10-01T11:02:14.910081Z",
          "iopub.execute_input": "2023-10-01T11:02:14.91072Z",
          "iopub.status.idle": "2023-10-01T11:02:14.919398Z",
          "shell.execute_reply.started": "2023-10-01T11:02:14.910677Z",
          "shell.execute_reply": "2023-10-01T11:02:14.918334Z"
        },
        "trusted": true,
        "id": "6RpiyOVaIEKH"
      },
      "execution_count": null,
      "outputs": []
    },
    {
      "cell_type": "code",
      "source": [
        "import time\n",
        "def pred_timer(model, samples):\n",
        "  \"\"\"\n",
        "  Times how long a model takes to make predictions on samples.\n",
        "\n",
        "  Args:\n",
        "  ----\n",
        "  model = a trained model\n",
        "  sample = a list of samples\n",
        "\n",
        "  Returns:\n",
        "  ----\n",
        "  total_time = total elapsed time for model to make predictions on samples\n",
        "  time_per_pred = time in seconds per single sample\n",
        "  \"\"\"\n",
        "  start_time = time.perf_counter() # get start time\n",
        "  model.predict(samples) # make predictions\n",
        "  end_time = time.perf_counter() # get finish time\n",
        "  total_time = end_time-start_time # calculate how long predictions took to make\n",
        "  time_per_pred = total_time/len(X_valid) # find prediction time per sample\n",
        "  return total_time, time_per_pred"
      ],
      "metadata": {
        "execution": {
          "iopub.status.busy": "2023-10-01T11:02:18.164804Z",
          "iopub.execute_input": "2023-10-01T11:02:18.165174Z",
          "iopub.status.idle": "2023-10-01T11:02:18.171768Z",
          "shell.execute_reply.started": "2023-10-01T11:02:18.165148Z",
          "shell.execute_reply": "2023-10-01T11:02:18.170425Z"
        },
        "trusted": true,
        "id": "ZIIJRxyUIEKH"
      },
      "execution_count": null,
      "outputs": []
    },
    {
      "cell_type": "code",
      "source": [
        "model_total_pred_time, model_time_per_pred = pred_timer(model_GRU, X_valid)\n",
        "model_total_pred_time, model_time_per_pred"
      ],
      "metadata": {
        "execution": {
          "iopub.status.busy": "2023-10-01T11:02:20.891644Z",
          "iopub.execute_input": "2023-10-01T11:02:20.892032Z",
          "iopub.status.idle": "2023-10-01T11:02:31.191807Z",
          "shell.execute_reply.started": "2023-10-01T11:02:20.892004Z",
          "shell.execute_reply": "2023-10-01T11:02:31.190524Z"
        },
        "trusted": true,
        "id": "CzuftlwVIEKI"
      },
      "execution_count": null,
      "outputs": []
    },
    {
      "cell_type": "code",
      "source": [
        "baseline_total_pred_time, baseline_time_per_pred = pred_timer(model_0, X_valid)\n",
        "baseline_total_pred_time, baseline_time_per_pred"
      ],
      "metadata": {
        "execution": {
          "iopub.status.busy": "2023-10-01T11:02:34.332303Z",
          "iopub.execute_input": "2023-10-01T11:02:34.332782Z",
          "iopub.status.idle": "2023-10-01T11:02:34.527658Z",
          "shell.execute_reply.started": "2023-10-01T11:02:34.332749Z",
          "shell.execute_reply": "2023-10-01T11:02:34.526221Z"
        },
        "trusted": true,
        "id": "twlYL44_IEKJ"
      },
      "execution_count": null,
      "outputs": []
    },
    {
      "cell_type": "code",
      "source": [
        "plt.figure(figsize=(10, 7))\n",
        "plt.scatter(baseline_time_per_pred, baseline_results[\"f1\"], label=\"baseline\")\n",
        "plt.scatter(model_time_per_pred, model_GRU_results[\"f1\"], label=\"model GRU\")\n",
        "plt.legend()\n",
        "plt.title(\"F1-score versus time per prediction\")\n",
        "plt.xlabel(\"Time per prediction\")\n",
        "plt.ylabel(\"F1-Score\");"
      ],
      "metadata": {
        "execution": {
          "iopub.status.busy": "2023-10-01T11:02:38.146546Z",
          "iopub.execute_input": "2023-10-01T11:02:38.147821Z",
          "iopub.status.idle": "2023-10-01T11:02:38.553637Z",
          "shell.execute_reply.started": "2023-10-01T11:02:38.147772Z",
          "shell.execute_reply": "2023-10-01T11:02:38.552162Z"
        },
        "trusted": true,
        "id": "-uGYceW-IEKJ"
      },
      "execution_count": null,
      "outputs": []
    },
    {
      "cell_type": "code",
      "source": [
        "baseline_pred_probs = np.max(model_0.predict_proba(X_valid), axis=1) # get the prediction probabilities from baseline model\n",
        "combined_pred_probs = baseline_pred_probs + tf.squeeze(model_dense_pred_probs, axis=1) + tf.squeeze(model_lstm_pred_probs)\n",
        "combined_preds = tf.round(combined_pred_probs/3) # average and round the prediction probabilities to get prediction classes\n",
        "combined_preds[:20]"
      ],
      "metadata": {
        "execution": {
          "iopub.status.busy": "2023-10-01T11:02:47.355052Z",
          "iopub.execute_input": "2023-10-01T11:02:47.355788Z",
          "iopub.status.idle": "2023-10-01T11:02:47.546538Z",
          "shell.execute_reply.started": "2023-10-01T11:02:47.355739Z",
          "shell.execute_reply": "2023-10-01T11:02:47.54542Z"
        },
        "trusted": true,
        "id": "0r2TvtxPIEKJ"
      },
      "execution_count": null,
      "outputs": []
    },
    {
      "cell_type": "code",
      "source": [
        "combined_pred_probs = tf.squeeze(model_GRU_pred_probs, axis=1) + tf.squeeze(model_USE_pred_probs, axis=1) + tf.squeeze(model_lstm_pred_probs)\n",
        "combined_preds = tf.round(combined_pred_probs/3) # average and round the prediction probabilities to get prediction classes\n",
        "combined_preds[:20]"
      ],
      "metadata": {
        "execution": {
          "iopub.status.busy": "2023-10-01T11:02:50.046919Z",
          "iopub.execute_input": "2023-10-01T11:02:50.047288Z",
          "iopub.status.idle": "2023-10-01T11:02:50.058196Z",
          "shell.execute_reply.started": "2023-10-01T11:02:50.047262Z",
          "shell.execute_reply": "2023-10-01T11:02:50.056993Z"
        },
        "trusted": true,
        "id": "YC5lQR04IEKJ"
      },
      "execution_count": null,
      "outputs": []
    },
    {
      "cell_type": "code",
      "source": [
        "ensemble_results = calculate_results(y_valid, combined_preds)\n",
        "ensemble_results"
      ],
      "metadata": {
        "execution": {
          "iopub.status.busy": "2023-10-01T11:02:52.00241Z",
          "iopub.execute_input": "2023-10-01T11:02:52.003361Z",
          "iopub.status.idle": "2023-10-01T11:02:52.01531Z",
          "shell.execute_reply.started": "2023-10-01T11:02:52.003289Z",
          "shell.execute_reply": "2023-10-01T11:02:52.014239Z"
        },
        "trusted": true,
        "id": "yRoE9-NlIEKK"
      },
      "execution_count": null,
      "outputs": []
    },
    {
      "cell_type": "code",
      "source": [
        "all_model_results.loc[\"ensemble_results\"] = ensemble_results"
      ],
      "metadata": {
        "execution": {
          "iopub.status.busy": "2023-10-01T11:02:55.541241Z",
          "iopub.execute_input": "2023-10-01T11:02:55.541881Z",
          "iopub.status.idle": "2023-10-01T11:02:55.550187Z",
          "shell.execute_reply.started": "2023-10-01T11:02:55.541842Z",
          "shell.execute_reply": "2023-10-01T11:02:55.548841Z"
        },
        "trusted": true,
        "id": "YA_v6TW6IEKL"
      },
      "execution_count": null,
      "outputs": []
    },
    {
      "cell_type": "code",
      "source": [
        "all_model_results.loc[\"ensemble_results\"][\"accuracy\"] = all_model_results.loc[\"ensemble_results\"][\"accuracy\"]/100\n",
        "all_model_results"
      ],
      "metadata": {
        "execution": {
          "iopub.status.busy": "2023-10-01T11:03:05.903979Z",
          "iopub.execute_input": "2023-10-01T11:03:05.904407Z",
          "iopub.status.idle": "2023-10-01T11:03:05.918843Z",
          "shell.execute_reply.started": "2023-10-01T11:03:05.904374Z",
          "shell.execute_reply": "2023-10-01T11:03:05.917735Z"
        },
        "trusted": true,
        "id": "luYWBmL_IEKM"
      },
      "execution_count": null,
      "outputs": []
    },
    {
      "cell_type": "code",
      "source": [
        "import pandas as pd\n",
        "import matplotlib.pyplot as plt\n",
        "import numpy as np\n",
        "\n",
        "# Assuming you have a DataFrame named 'all_model_results' with accuracy, precision, recall, and F1 values\n",
        "\n",
        "# Define custom colors for each model\n",
        "model_colors = {\n",
        "    \"baseline\": '#1f77b4',\n",
        "    \"Simple Dense\": '#ff7f0e',\n",
        "    \"LSTM\": '#2ca02c',\n",
        "    \"Bidirectional LSTM\": '#d62728',\n",
        "    \"GRU\": '#9467bd',\n",
        "    \"Bidirectional GRU\": '#8c564b',\n",
        "    \"Conv1D\": '#e377c2',\n",
        "    \"USE\": '#7f7f7f',\n",
        "    \"ensemble_results\": '#17becf'\n",
        "}\n",
        "\n",
        "# Create a horizontal bar plot for each metric\n",
        "metrics = ['accuracy', 'precision', 'recall', 'f1']\n",
        "\n",
        "for metric in metrics:\n",
        "    fig, ax = plt.subplots(figsize=(10, 6))  # Adjust figure size as needed\n",
        "    index = range(len(all_model_results))\n",
        "\n",
        "    # Plot the selected metric\n",
        "    ax.barh([pos for pos in index], all_model_results[metric], color=[model_colors[model] for model in all_model_results.index])\n",
        "\n",
        "    # Annotate the values on the bars with custom formatting\n",
        "    for j, value in enumerate(all_model_results[metric]):\n",
        "        ax.text(value + 0.01, j, f'{value:.2f}', ha='center', va='center', fontsize=12, fontweight='bold', color='black')\n",
        "\n",
        "    # Set the y-axis labels to be the model names with improved formatting\n",
        "    ax.set_yticks(index)\n",
        "    ax.set_yticklabels(all_model_results.index, fontsize=12, fontweight='bold')\n",
        "\n",
        "    plt.title(f'{metric.capitalize()} Scores For Various Models', fontsize=16, fontweight='bold')\n",
        "    plt.xlabel('Percentage', fontsize=14, fontweight='bold')\n",
        "    plt.ylabel('Models', fontsize=14, fontweight='bold')\n",
        "    plt.grid(axis='x', linestyle='--', alpha=0.6)\n",
        "    plt.gca().invert_yaxis()  # Invert the y-axis for better readability\n",
        "    plt.tight_layout()\n",
        "\n",
        "    # Save or display the individual metric graphs\n",
        "    plt.show()"
      ],
      "metadata": {
        "execution": {
          "iopub.status.busy": "2023-10-01T12:17:56.267465Z",
          "iopub.execute_input": "2023-10-01T12:17:56.267883Z",
          "iopub.status.idle": "2023-10-01T12:17:57.453442Z",
          "shell.execute_reply.started": "2023-10-01T12:17:56.267854Z",
          "shell.execute_reply": "2023-10-01T12:17:57.451956Z"
        },
        "trusted": true,
        "id": "22x7pBkYIEKM"
      },
      "execution_count": null,
      "outputs": []
    },
    {
      "cell_type": "code",
      "source": [
        "import pandas as pd\n",
        "import matplotlib.pyplot as plt\n",
        "\n",
        "# Assuming you have a DataFrame named 'all_model_results' with accuracy, precision, recall, and F1 values\n",
        "\n",
        "# Create a horizontal bar plot with more spacing between bars\n",
        "fig, ax = plt.subplots(figsize=(10, 8))\n",
        "bar_width = 0.2\n",
        "index = range(len(all_model_results))\n",
        "\n",
        "# Plot each evaluation metric separately\n",
        "for i, metric in enumerate(['accuracy', 'precision', 'recall', 'f1']):\n",
        "    ax.barh([pos + i * bar_width for pos in index], all_model_results[metric], bar_width, label=metric.capitalize())\n",
        "\n",
        "# Annotate the values on the bars\n",
        "for i, metric in enumerate(['accuracy', 'precision', 'recall', 'f1']):\n",
        "    for j, value in enumerate(all_model_results[metric]):\n",
        "        ax.text(value + 0.01, j + i * bar_width, f'{value:.2f}', ha='center', va='center')\n",
        "\n",
        "# Set the y-axis labels to be the model names\n",
        "ax.set_yticks([pos + 1.5 * bar_width for pos in index])\n",
        "ax.set_yticklabels(all_model_results.index)\n",
        "\n",
        "plt.title('Evaluation Scores For Various Models')\n",
        "plt.xlabel('Percentage')\n",
        "plt.ylabel('Models')\n",
        "plt.legend(loc='upper left')\n",
        "plt.grid(axis='x', linestyle='--', alpha=0.6)\n",
        "plt.gca().invert_yaxis()  # Invert the y-axis for better readability\n",
        "plt.tight_layout()\n",
        "plt.show()\n"
      ],
      "metadata": {
        "execution": {
          "iopub.status.busy": "2023-10-01T12:12:54.414493Z",
          "iopub.execute_input": "2023-10-01T12:12:54.414917Z",
          "iopub.status.idle": "2023-10-01T12:12:54.931855Z",
          "shell.execute_reply.started": "2023-10-01T12:12:54.414891Z",
          "shell.execute_reply": "2023-10-01T12:12:54.930736Z"
        },
        "trusted": true,
        "id": "1xE0eenEIEKN"
      },
      "execution_count": null,
      "outputs": []
    },
    {
      "cell_type": "markdown",
      "source": [
        "# **Depression and Anxiety Prediction**"
      ],
      "metadata": {
        "id": "y42XOJCmIEKN"
      }
    },
    {
      "cell_type": "code",
      "source": [
        "from sklearn.model_selection import train_test_split,cross_val_score\n",
        "from sklearn.preprocessing import MinMaxScaler\n",
        "from sklearn.ensemble import RandomForestClassifier\n",
        "from sklearn.linear_model import LogisticRegression\n",
        "from sklearn.naive_bayes import GaussianNB\n",
        "from sklearn.tree import DecisionTreeClassifier\n",
        "from sklearn.neighbors import KNeighborsClassifier\n",
        "from sklearn import svm\n",
        "from sklearn.metrics import confusion_matrix,accuracy_score,precision_score, recall_score, f1_score,roc_auc_score,classification_report,mean_squared_error"
      ],
      "metadata": {
        "execution": {
          "iopub.status.busy": "2023-10-01T11:32:22.247603Z",
          "iopub.execute_input": "2023-10-01T11:32:22.24803Z",
          "iopub.status.idle": "2023-10-01T11:32:22.254806Z",
          "shell.execute_reply.started": "2023-10-01T11:32:22.248Z",
          "shell.execute_reply": "2023-10-01T11:32:22.253678Z"
        },
        "trusted": true,
        "id": "dyEnGYzAIEKO"
      },
      "execution_count": null,
      "outputs": []
    },
    {
      "cell_type": "code",
      "source": [
        "data=pd.read_csv('/kaggle/input/depression-anxiety-stress-scales-responses/data.csv',delimiter='\\t')\n",
        "data.head()"
      ],
      "metadata": {
        "execution": {
          "iopub.status.busy": "2023-10-01T11:20:07.602959Z",
          "iopub.execute_input": "2023-10-01T11:20:07.603838Z",
          "iopub.status.idle": "2023-10-01T11:20:08.254153Z",
          "shell.execute_reply.started": "2023-10-01T11:20:07.603797Z",
          "shell.execute_reply": "2023-10-01T11:20:08.252993Z"
        },
        "trusted": true,
        "id": "Hzh7iQPLIEKO"
      },
      "execution_count": null,
      "outputs": []
    },
    {
      "cell_type": "code",
      "source": [
        "data_1=data.copy()\n",
        "data_1['major']=data_1['major'].replace(np.nan,'No Degree')\n",
        "time = [i for i in data_1.iloc[:,0:126] if  'E' in i]\n",
        "position = [i for i in data_1.iloc[:,0:126] if  'I' in i]\n",
        "data_1=data_1.drop(position,axis=1)\n",
        "data_1=data_1.drop(time,axis=1)\n",
        "data_1=data_1.drop(data_1.iloc[:,43:47],axis=1)\n",
        "data_2=data_1.copy()\n",
        "data_2=data_2.drop(data_2.iloc[:,53:69],axis=1)\n",
        "data_2=data_2.replace(to_replace=0,value=3)\n",
        "data_2=data_2.rename(columns={'TIPI1':'Extraverted-enthusiastic','TIPI2':'Critical-quarrelsome',\n",
        "                            'TIPI3':'Dependable-self_disciplined','TIPI4':'Anxious-easily upset',\n",
        "                            'TIPI5':'Open to new experiences-complex','TIPI6':'Reserved-quiet',\n",
        "                            'TIPI7':'Sympathetic-warm','TIPI8':'Disorganized-careless','TIPI9':'Calm-emotionally_stable',\n",
        "                            'TIPI10':'Conventional-uncreative'})\n",
        "print('Shape',data_2.shape)\n",
        "print('Attributes',data_2.columns)"
      ],
      "metadata": {
        "execution": {
          "iopub.status.busy": "2023-10-01T11:20:14.455395Z",
          "iopub.execute_input": "2023-10-01T11:20:14.455788Z",
          "iopub.status.idle": "2023-10-01T11:20:14.595051Z",
          "shell.execute_reply.started": "2023-10-01T11:20:14.455758Z",
          "shell.execute_reply": "2023-10-01T11:20:14.593823Z"
        },
        "trusted": true,
        "id": "rbHlaWJeIEKO"
      },
      "execution_count": null,
      "outputs": []
    },
    {
      "cell_type": "code",
      "source": [
        "data_2=data_2.replace([np.inf, -np.inf], np.nan)\n",
        "data_2=data_2.dropna()"
      ],
      "metadata": {
        "execution": {
          "iopub.status.busy": "2023-10-01T11:20:59.827289Z",
          "iopub.execute_input": "2023-10-01T11:20:59.828149Z",
          "iopub.status.idle": "2023-10-01T11:20:59.868812Z",
          "shell.execute_reply.started": "2023-10-01T11:20:59.828101Z",
          "shell.execute_reply": "2023-10-01T11:20:59.868Z"
        },
        "trusted": true,
        "id": "9GQzevz4IEKO"
      },
      "execution_count": null,
      "outputs": []
    },
    {
      "cell_type": "code",
      "source": [
        "def condition(x):\n",
        "    if x<=10:\n",
        "        return 'Under 10'\n",
        "    if  10<=x<=16:\n",
        "        return ' Primary Children'\n",
        "    if 17<=x<=21:\n",
        "        return 'Secondary Children'\n",
        "    if 21<=x<=35:\n",
        "        return 'Adults'\n",
        "    if 36<=x<=48:\n",
        "        return 'Elder Adults'\n",
        "    if x>=49:\n",
        "        return 'Older People'\n",
        "\n",
        "data_2['Age_Groups']=data_2['age'].apply(condition)\n",
        "data_2.head()"
      ],
      "metadata": {
        "execution": {
          "iopub.status.busy": "2023-10-01T11:21:21.190881Z",
          "iopub.execute_input": "2023-10-01T11:21:21.191728Z",
          "iopub.status.idle": "2023-10-01T11:21:21.235399Z",
          "shell.execute_reply.started": "2023-10-01T11:21:21.191682Z",
          "shell.execute_reply": "2023-10-01T11:21:21.234217Z"
        },
        "trusted": true,
        "id": "g9sm225UIEKP"
      },
      "execution_count": null,
      "outputs": []
    },
    {
      "cell_type": "code",
      "source": [
        "new_data=data_2.iloc[:,42:]\n",
        "data_3=data_2.filter(regex='Q\\d{1,2}A')\n",
        "data_3.head()"
      ],
      "metadata": {
        "execution": {
          "iopub.status.busy": "2023-10-01T11:21:32.474435Z",
          "iopub.execute_input": "2023-10-01T11:21:32.474848Z",
          "iopub.status.idle": "2023-10-01T11:21:32.504127Z",
          "shell.execute_reply.started": "2023-10-01T11:21:32.474816Z",
          "shell.execute_reply": "2023-10-01T11:21:32.503242Z"
        },
        "trusted": true,
        "id": "O1reljShIEKP"
      },
      "execution_count": null,
      "outputs": []
    },
    {
      "cell_type": "code",
      "source": [
        "def sub(data_3):\n",
        "    return data_3.subtract(1,axis=1)\n",
        "data_3=sub(data_3)\n",
        "DASS_keys = {'Depression': [3, 5, 10, 13, 16, 17, 21, 24, 26, 31, 34, 37, 38, 42],\n",
        "             'Anxiety': [2, 4, 7, 9, 15, 19, 20, 23, 25, 28, 30, 36, 40, 41],\n",
        "             'Stress': [1, 6, 8, 11, 12, 14, 18, 22, 27, 29, 32, 33, 35, 39]}\n",
        "Dep = []\n",
        "for i in DASS_keys[\"Depression\"]:\n",
        "    Dep.append('Q'+str(i)+'A')\n",
        "Stress = []\n",
        "for i in DASS_keys[\"Stress\"]:\n",
        "    Stress.append('Q'+str(i)+'A')\n",
        "Anx = []\n",
        "for i in DASS_keys[\"Anxiety\"]:\n",
        "    Anx.append('Q'+str(i)+'A')\n",
        "depression= data_3.filter(Dep)\n",
        "stress = data_3.filter(Stress)\n",
        "anxiety = data_3.filter(Anx)"
      ],
      "metadata": {
        "execution": {
          "iopub.status.busy": "2023-10-01T11:21:44.304244Z",
          "iopub.execute_input": "2023-10-01T11:21:44.304838Z",
          "iopub.status.idle": "2023-10-01T11:21:44.323175Z",
          "shell.execute_reply.started": "2023-10-01T11:21:44.304806Z",
          "shell.execute_reply": "2023-10-01T11:21:44.32192Z"
        },
        "trusted": true,
        "id": "O4BQBjjrIEKP"
      },
      "execution_count": null,
      "outputs": []
    },
    {
      "cell_type": "code",
      "source": [
        "def scores(source):\n",
        "    col=list(source)\n",
        "    source['Total_Count']=source[col].sum(axis=1)\n",
        "    return source\n",
        "depression=scores(depression)\n",
        "stress=scores(stress)\n",
        "anxiety=scores(anxiety)"
      ],
      "metadata": {
        "execution": {
          "iopub.status.busy": "2023-10-01T11:21:57.593632Z",
          "iopub.execute_input": "2023-10-01T11:21:57.594528Z",
          "iopub.status.idle": "2023-10-01T11:21:57.626066Z",
          "shell.execute_reply.started": "2023-10-01T11:21:57.594494Z",
          "shell.execute_reply": "2023-10-01T11:21:57.624929Z"
        },
        "trusted": true,
        "id": "qGi9NH_-IEKP"
      },
      "execution_count": null,
      "outputs": []
    },
    {
      "cell_type": "code",
      "source": [
        "Depression=pd.merge(depression,new_data,how='left',left_index=True,right_index=True)\n",
        "Depression.head()"
      ],
      "metadata": {
        "execution": {
          "iopub.status.busy": "2023-10-01T11:22:40.433307Z",
          "iopub.execute_input": "2023-10-01T11:22:40.433709Z",
          "iopub.status.idle": "2023-10-01T11:22:40.464982Z",
          "shell.execute_reply.started": "2023-10-01T11:22:40.433681Z",
          "shell.execute_reply": "2023-10-01T11:22:40.463825Z"
        },
        "trusted": true,
        "id": "3vswY6dbIEKQ"
      },
      "execution_count": null,
      "outputs": []
    },
    {
      "cell_type": "code",
      "source": [
        "Stress=pd.merge(stress,new_data,how='inner',left_index=True,right_index=True)\n",
        "Stress.head()"
      ],
      "metadata": {
        "execution": {
          "iopub.status.busy": "2023-10-01T11:23:04.010141Z",
          "iopub.execute_input": "2023-10-01T11:23:04.01059Z",
          "iopub.status.idle": "2023-10-01T11:23:04.039512Z",
          "shell.execute_reply.started": "2023-10-01T11:23:04.010558Z",
          "shell.execute_reply": "2023-10-01T11:23:04.038351Z"
        },
        "trusted": true,
        "id": "6eIVvLi4IEKQ"
      },
      "execution_count": null,
      "outputs": []
    },
    {
      "cell_type": "code",
      "source": [
        "Anxiety=pd.merge(anxiety,new_data,how='inner',left_index=True,right_index=True)\n",
        "Anxiety.head()"
      ],
      "metadata": {
        "execution": {
          "iopub.status.busy": "2023-10-01T11:23:24.013496Z",
          "iopub.execute_input": "2023-10-01T11:23:24.013881Z",
          "iopub.status.idle": "2023-10-01T11:23:24.043604Z",
          "shell.execute_reply.started": "2023-10-01T11:23:24.013853Z",
          "shell.execute_reply": "2023-10-01T11:23:24.042801Z"
        },
        "trusted": true,
        "id": "6nveIh-IIEKQ"
      },
      "execution_count": null,
      "outputs": []
    },
    {
      "cell_type": "code",
      "source": [
        "def condition(x):\n",
        "    if x<=9:\n",
        "        return 'Normal'\n",
        "    if  10<=x<=13:\n",
        "        return 'Mild'\n",
        "    if 14<=x<=20:\n",
        "        return 'Moderate'\n",
        "    if 21<=x<=27:\n",
        "        return 'Severe'\n",
        "    if x>28:\n",
        "        return 'Extremely Severe'\n",
        "\n",
        "Depression['Condition']=Depression['Total_Count'].apply(condition)\n",
        "Depression.head()"
      ],
      "metadata": {
        "execution": {
          "iopub.status.busy": "2023-10-01T11:24:07.009578Z",
          "iopub.execute_input": "2023-10-01T11:24:07.01Z",
          "iopub.status.idle": "2023-10-01T11:24:07.046716Z",
          "shell.execute_reply.started": "2023-10-01T11:24:07.009971Z",
          "shell.execute_reply": "2023-10-01T11:24:07.045087Z"
        },
        "trusted": true,
        "id": "QI3LhN8cIEKQ"
      },
      "execution_count": null,
      "outputs": []
    },
    {
      "cell_type": "code",
      "source": [
        "def condition(x):\n",
        "    if x<=14:\n",
        "        return 'Normal'\n",
        "    if  15<=x<=18:\n",
        "        return 'Mild'\n",
        "    if 19<=x<=25:\n",
        "        return 'Moderate'\n",
        "    if 26<=x<=33:\n",
        "        return 'Severe'\n",
        "    if x>=34:\n",
        "        return 'Extremely Severe'\n",
        "\n",
        "Stress['Condition']=Stress['Total_Count'].apply(condition)\n",
        "\n",
        "Stress.head()"
      ],
      "metadata": {
        "execution": {
          "iopub.status.busy": "2023-10-01T11:24:43.762284Z",
          "iopub.execute_input": "2023-10-01T11:24:43.763421Z",
          "iopub.status.idle": "2023-10-01T11:24:43.797989Z",
          "shell.execute_reply.started": "2023-10-01T11:24:43.763383Z",
          "shell.execute_reply": "2023-10-01T11:24:43.797171Z"
        },
        "trusted": true,
        "id": "eCUoCzn4IEKQ"
      },
      "execution_count": null,
      "outputs": []
    },
    {
      "cell_type": "code",
      "source": [
        "def condition(x):\n",
        "    if x<=7:\n",
        "        return 'Normal'\n",
        "    if  8<=x<=9:\n",
        "        return 'Mild'\n",
        "    if 10<=x<=14:\n",
        "        return 'Moderate'\n",
        "    if 15<=x<=19:\n",
        "        return 'Severe'\n",
        "    if x>19:\n",
        "        return 'Extremely Severe'\n",
        "\n",
        "Anxiety['Condition']=Anxiety['Total_Count'].apply(condition)\n",
        "Anxiety.head()"
      ],
      "metadata": {
        "execution": {
          "iopub.status.busy": "2023-10-01T11:25:04.651619Z",
          "iopub.execute_input": "2023-10-01T11:25:04.652279Z",
          "iopub.status.idle": "2023-10-01T11:25:04.688567Z",
          "shell.execute_reply.started": "2023-10-01T11:25:04.652246Z",
          "shell.execute_reply": "2023-10-01T11:25:04.687281Z"
        },
        "trusted": true,
        "id": "BYpEFS3HIEKQ"
      },
      "execution_count": null,
      "outputs": []
    },
    {
      "cell_type": "code",
      "source": [
        "def change_var(x):\n",
        "    if x=='Primary Children':\n",
        "        return 0\n",
        "    elif x=='Secondary Children':\n",
        "        return 1\n",
        "    elif x=='Adults':\n",
        "        return 2\n",
        "    elif x=='Elder Adults':\n",
        "        return 3\n",
        "    elif x=='Older People':\n",
        "        return 4\n",
        "\n",
        "\n",
        "\n",
        "Depression['Age_Groups']=Depression['Age_Groups'].apply(change_var)\n",
        "Stress['Age_Groups']=Stress['Age_Groups'].apply(change_var)\n",
        "Anxiety['Age_Groups']=Anxiety['Age_Groups'].apply(change_var)"
      ],
      "metadata": {
        "execution": {
          "iopub.status.busy": "2023-10-01T11:25:51.872962Z",
          "iopub.execute_input": "2023-10-01T11:25:51.873366Z",
          "iopub.status.idle": "2023-10-01T11:25:51.922221Z",
          "shell.execute_reply.started": "2023-10-01T11:25:51.873335Z",
          "shell.execute_reply": "2023-10-01T11:25:51.920797Z"
        },
        "trusted": true,
        "id": "tUYbIq8lIEKR"
      },
      "execution_count": null,
      "outputs": []
    },
    {
      "cell_type": "code",
      "source": [
        "Depression=Depression.dropna()\n",
        "Stress=Stress.dropna()\n",
        "Anxiety=Anxiety.dropna()"
      ],
      "metadata": {
        "execution": {
          "iopub.status.busy": "2023-10-01T11:26:02.987751Z",
          "iopub.execute_input": "2023-10-01T11:26:02.988174Z",
          "iopub.status.idle": "2023-10-01T11:26:03.040906Z",
          "shell.execute_reply.started": "2023-10-01T11:26:02.988146Z",
          "shell.execute_reply": "2023-10-01T11:26:03.039617Z"
        },
        "trusted": true,
        "id": "YCOnRAigIEKR"
      },
      "execution_count": null,
      "outputs": []
    },
    {
      "cell_type": "code",
      "source": [
        "Depression=Depression.drop(columns=['Total_Count','country','age'])\n",
        "Stress=Stress.drop(columns=['Total_Count','country','age'])\n",
        "Anxiety=Anxiety.drop(columns=['Total_Count','country','age'])"
      ],
      "metadata": {
        "execution": {
          "iopub.status.busy": "2023-10-01T11:26:13.916143Z",
          "iopub.execute_input": "2023-10-01T11:26:13.916902Z",
          "iopub.status.idle": "2023-10-01T11:26:13.949061Z",
          "shell.execute_reply.started": "2023-10-01T11:26:13.916836Z",
          "shell.execute_reply": "2023-10-01T11:26:13.94792Z"
        },
        "trusted": true,
        "id": "HL5hBccYIEKR"
      },
      "execution_count": null,
      "outputs": []
    },
    {
      "cell_type": "code",
      "source": [
        "scaler=MinMaxScaler()\n",
        "X=Depression[['Q3A', 'Q5A', 'Q10A', 'Q13A', 'Q16A', 'Q17A', 'Q21A', 'Q24A', 'Q26A',\n",
        "       'Q31A', 'Q34A', 'Q37A', 'Q38A', 'Q42A',\n",
        "       'Extraverted-enthusiastic', 'Critical-quarrelsome',\n",
        "       'Dependable-self_disciplined', 'Anxious-easily upset',\n",
        "        'Open to new experiences-complex', 'Reserved-quiet', 'Sympathetic-warm',\n",
        "        'Disorganized-careless', 'Calm-emotionally_stable',\n",
        "        'Conventional-uncreative', 'education', 'urban', 'gender', 'engnat',\n",
        "        'screensize', 'uniquenetworklocation', 'hand', 'religion',\n",
        "        'orientation', 'race', 'voted', 'married', 'familysize',\n",
        "        'Age_Groups']]\n",
        "y=Depression[['Condition']]\n",
        "X_train,X_test,y_train,y_test=train_test_split(X,y,test_size=0.10,random_state=0)\n",
        "X_train_scaled = scaler.fit_transform(X_train)\n",
        "X_test_scaled = scaler.transform(X_test)"
      ],
      "metadata": {
        "execution": {
          "iopub.status.busy": "2023-10-01T11:26:20.669666Z",
          "iopub.execute_input": "2023-10-01T11:26:20.670046Z",
          "iopub.status.idle": "2023-10-01T11:26:20.733375Z",
          "shell.execute_reply.started": "2023-10-01T11:26:20.670016Z",
          "shell.execute_reply": "2023-10-01T11:26:20.732449Z"
        },
        "trusted": true,
        "id": "7aA0DybHIEKR"
      },
      "execution_count": null,
      "outputs": []
    },
    {
      "cell_type": "code",
      "source": [
        "print('Training Set:',X_train.shape,y_train.shape)\n",
        "print('Test Set:',X_test.shape,y_test.shape)"
      ],
      "metadata": {
        "execution": {
          "iopub.status.busy": "2023-10-01T11:26:31.263413Z",
          "iopub.execute_input": "2023-10-01T11:26:31.264012Z",
          "iopub.status.idle": "2023-10-01T11:26:31.269753Z",
          "shell.execute_reply.started": "2023-10-01T11:26:31.263981Z",
          "shell.execute_reply": "2023-10-01T11:26:31.268421Z"
        },
        "trusted": true,
        "id": "sYehwm-aIEKR"
      },
      "execution_count": null,
      "outputs": []
    },
    {
      "cell_type": "code",
      "source": [
        "sns.displot(X_train_scaled)"
      ],
      "metadata": {
        "execution": {
          "iopub.status.busy": "2023-10-01T11:26:41.741506Z",
          "iopub.execute_input": "2023-10-01T11:26:41.742196Z",
          "iopub.status.idle": "2023-10-01T11:26:49.392734Z",
          "shell.execute_reply.started": "2023-10-01T11:26:41.742161Z",
          "shell.execute_reply": "2023-10-01T11:26:49.391566Z"
        },
        "trusted": true,
        "id": "kI6sk7I8IEKR"
      },
      "execution_count": null,
      "outputs": []
    },
    {
      "cell_type": "code",
      "source": [
        "sns.displot(X_test_scaled)"
      ],
      "metadata": {
        "execution": {
          "iopub.status.busy": "2023-10-01T11:27:02.628475Z",
          "iopub.execute_input": "2023-10-01T11:27:02.628879Z",
          "iopub.status.idle": "2023-10-01T11:27:06.631222Z",
          "shell.execute_reply.started": "2023-10-01T11:27:02.62885Z",
          "shell.execute_reply": "2023-10-01T11:27:06.630459Z"
        },
        "trusted": true,
        "id": "ZZGe1VkhIEKS"
      },
      "execution_count": null,
      "outputs": []
    },
    {
      "cell_type": "code",
      "source": [
        "RanFor=RandomForestClassifier(n_estimators=190,min_samples_split=3,min_samples_leaf=1,max_depth=160,max_features='auto').fit(X_train_scaled,y_train)\n",
        "Acc_ran=round(accuracy_score(y_test,RanFor.predict(X_test_scaled)),3)\n",
        "f1_ran=round(f1_score(y_test,RanFor.predict(X_test_scaled),average='weighted'),3)\n",
        "recall_ran=round(recall_score(y_test,RanFor.predict(X_test_scaled),average='weighted'),3)\n",
        "precision_ran=round(precision_score(y_test,RanFor.predict(X_test_scaled),average='weighted'),3)\n",
        "print('Accuracy:',Acc_ran)\n",
        "print('F1_Score:',f1_ran)\n",
        "print('Recall_Score:',recall_ran)\n",
        "print('Precision_Score:',precision_ran)\n",
        "print('Cross Validation Score:',round(np.mean(cross_val_score(RanFor, X_train_scaled, y_train, cv = 6)),3))\n",
        "classification=classification_report(\n",
        "    digits=4,\n",
        "    y_true=y_test,\n",
        "    y_pred=RanFor.predict(X_test_scaled))\n",
        "print(classification)\n",
        "confusion = confusion_matrix(y_test, RanFor.predict(X_test_scaled))\n",
        "\n",
        "\n",
        "fig, ax = plt.subplots(figsize=(10, 10))\n",
        "im = ax.imshow(confusion, cmap=plt.cm.Blues)\n",
        "for i in range(len(confusion)):\n",
        "    for j in range(len(confusion[i])):\n",
        "        text = ax.text(j, i, str(confusion[i, j]),\n",
        "                       ha=\"center\", va=\"center\", color=\"black\")\n",
        "\n",
        "plt.colorbar(im)\n",
        "plt.title('Confusion Matrix')\n",
        "plt.xlabel('Predicted')\n",
        "plt.ylabel('Actual')\n",
        "plt.show()"
      ],
      "metadata": {
        "execution": {
          "iopub.status.busy": "2023-10-01T11:46:28.732032Z",
          "iopub.execute_input": "2023-10-01T11:46:28.733296Z",
          "iopub.status.idle": "2023-10-01T11:47:19.685079Z",
          "shell.execute_reply.started": "2023-10-01T11:46:28.733251Z",
          "shell.execute_reply": "2023-10-01T11:47:19.683802Z"
        },
        "trusted": true,
        "id": "EwW1wgdhIEKS"
      },
      "execution_count": null,
      "outputs": []
    },
    {
      "cell_type": "code",
      "source": [
        "DT=DecisionTreeClassifier(criterion='entropy',splitter='best',min_samples_split=9,min_samples_leaf=2,max_depth=100).fit(X_train_scaled,y_train)\n",
        "Acc_dt=round(accuracy_score(y_test,DT.predict(X_test_scaled)),3)\n",
        "f1_dt=round(f1_score(y_test,DT.predict(X_test_scaled),average='weighted'),3)\n",
        "recall_dt=round(recall_score(y_test,DT.predict(X_test_scaled),average='weighted'),3)\n",
        "precision_dt=round(precision_score(y_test,DT.predict(X_test_scaled),average='weighted'),3)\n",
        "print('Accuracy:',Acc_dt)\n",
        "print('F1_Score:',f1_dt)\n",
        "print('Recall_Score:',recall_dt)\n",
        "print('Precision_Score:',precision_dt)\n",
        "print('Cross Validation Score:',round(np.mean(cross_val_score(DT, X_train_scaled, y_train, cv = 6)),3))\n",
        "classification=classification_report(\n",
        "    digits=4,\n",
        "    y_true=y_test,\n",
        "    y_pred=DT.predict(X_test_scaled))\n",
        "print(classification)\n",
        "fig, ax = plt.subplots(figsize=(10, 10))\n",
        "im = ax.imshow(confusion, cmap=plt.cm.Blues)\n",
        "for i in range(len(confusion)):\n",
        "    for j in range(len(confusion[i])):\n",
        "        text = ax.text(j, i, str(confusion[i, j]),\n",
        "                       ha=\"center\", va=\"center\", color=\"black\")\n",
        "\n",
        "plt.colorbar(im)\n",
        "plt.title('Confusion Matrix')\n",
        "plt.xlabel('Predicted')\n",
        "plt.ylabel('Actual')\n",
        "plt.show()"
      ],
      "metadata": {
        "execution": {
          "iopub.status.busy": "2023-10-01T11:45:56.332957Z",
          "iopub.execute_input": "2023-10-01T11:45:56.333742Z",
          "iopub.status.idle": "2023-10-01T11:45:58.692553Z",
          "shell.execute_reply.started": "2023-10-01T11:45:56.333691Z",
          "shell.execute_reply": "2023-10-01T11:45:58.691234Z"
        },
        "trusted": true,
        "id": "ZM6c-PviIEKS"
      },
      "execution_count": null,
      "outputs": []
    },
    {
      "cell_type": "code",
      "source": [
        "gb=GaussianNB().fit(X_train_scaled,y_train)\n",
        "Acc_gb=round(accuracy_score(y_test,gb.predict(X_test_scaled)),3)\n",
        "f1_gb=round(f1_score(y_test,gb.predict(X_test_scaled),average='weighted'),3)\n",
        "recall_gb=round(recall_score(y_test,gb.predict(X_test_scaled),average='weighted'),3)\n",
        "precision_gb=round(precision_score(y_test,gb.predict(X_test_scaled),average='weighted'),3)\n",
        "print('Accuracy:',Acc_gb)\n",
        "print('F1_Score:',f1_gb)\n",
        "print('Recall_Score:',recall_gb)\n",
        "print('Precision_Score:',precision_gb)\n",
        "print('Cross Validation Score:',round(np.mean(cross_val_score(gb, X_train_scaled, y_train, cv = 6)),3))\n",
        "classification=classification_report(\n",
        "    digits=4,\n",
        "    y_true=y_test,\n",
        "    y_pred=gb.predict(X_test_scaled))\n",
        "print(classification)\n",
        "fig, ax = plt.subplots(figsize=(10, 10))\n",
        "im = ax.imshow(confusion, cmap=plt.cm.Blues)\n",
        "for i in range(len(confusion)):\n",
        "    for j in range(len(confusion[i])):\n",
        "        text = ax.text(j, i, str(confusion[i, j]),\n",
        "                       ha=\"center\", va=\"center\", color=\"black\")\n",
        "\n",
        "plt.colorbar(im)\n",
        "plt.title('Confusion Matrix')\n",
        "plt.xlabel('Predicted')\n",
        "plt.ylabel('Actual')\n",
        "plt.show()"
      ],
      "metadata": {
        "execution": {
          "iopub.status.busy": "2023-10-01T11:48:09.051651Z",
          "iopub.execute_input": "2023-10-01T11:48:09.051994Z",
          "iopub.status.idle": "2023-10-01T11:48:10.188555Z",
          "shell.execute_reply.started": "2023-10-01T11:48:09.051964Z",
          "shell.execute_reply": "2023-10-01T11:48:10.18719Z"
        },
        "trusted": true,
        "id": "Wxc3wsiwIEKS"
      },
      "execution_count": null,
      "outputs": []
    },
    {
      "cell_type": "code",
      "source": [
        "knn=KNeighborsClassifier(n_neighbors=15).fit(X_train_scaled,y_train)\n",
        "Acc_knn=round(accuracy_score(y_test,knn.predict(X_test_scaled)),3)\n",
        "f1_knn=round(f1_score(y_test,knn.predict(X_test_scaled),average='weighted'),3)\n",
        "recall_knn=round(recall_score(y_test,knn.predict(X_test_scaled),average='weighted'),3)\n",
        "precision_knn=round(precision_score(y_test,knn.predict(X_test_scaled),average='weighted'),3)\n",
        "print('Accuracy:',Acc_knn)\n",
        "print('F1_Score:',f1_knn)\n",
        "print('Recall_Score:',recall_knn)\n",
        "print('Precision_Score:',precision_knn)\n",
        "print('Cross Validation Score:',round(np.mean(cross_val_score(knn, X_train_scaled, y_train, cv = 6)),3))\n",
        "classification=classification_report(\n",
        "    digits=4,\n",
        "    y_true=y_test,\n",
        "    y_pred=knn.predict(X_test_scaled))\n",
        "print(classification)\n",
        "fig, ax = plt.subplots(figsize=(10, 10))\n",
        "im = ax.imshow(confusion, cmap=plt.cm.Blues)\n",
        "for i in range(len(confusion)):\n",
        "    for j in range(len(confusion[i])):\n",
        "        text = ax.text(j, i, str(confusion[i, j]),\n",
        "                       ha=\"center\", va=\"center\", color=\"black\")\n",
        "\n",
        "plt.colorbar(im)\n",
        "plt.title('Confusion Matrix')\n",
        "plt.xlabel('Predicted')\n",
        "plt.ylabel('Actual')\n",
        "plt.show()"
      ],
      "metadata": {
        "execution": {
          "iopub.status.busy": "2023-10-01T11:48:39.045041Z",
          "iopub.execute_input": "2023-10-01T11:48:39.04548Z",
          "iopub.status.idle": "2023-10-01T11:48:46.489505Z",
          "shell.execute_reply.started": "2023-10-01T11:48:39.045448Z",
          "shell.execute_reply": "2023-10-01T11:48:46.488502Z"
        },
        "trusted": true,
        "id": "-MH4x5bpIEKT"
      },
      "execution_count": null,
      "outputs": []
    },
    {
      "cell_type": "code",
      "source": [
        "from sklearn.svm import SVC\n",
        "svm=SVC(C=100,gamma=0.1,kernel='rbf').fit(X_train_scaled,y_train)\n",
        "Acc_svm=round(accuracy_score(y_test,svm.predict(X_test_scaled)),3)\n",
        "f1_svm=round(f1_score(y_test,svm.predict(X_test_scaled),average='weighted'),3)\n",
        "recall_svm=round(recall_score(y_test,svm.predict(X_test_scaled),average='weighted'),3)\n",
        "precision_svm=round(precision_score(y_test,svm.predict(X_test_scaled),average='weighted'),3)\n",
        "print('Accuracy:',Acc_svm)\n",
        "print('F1_Score:',f1_svm)\n",
        "print('Recall_Score:',recall_svm)\n",
        "print('Precision_Score:',precision_svm)\n",
        "print('Cross Validation Score:',round(np.mean(cross_val_score(svm, X_train_scaled, y_train, cv = 6)),3))\n",
        "classification=classification_report(\n",
        "    digits=4,\n",
        "    y_true=y_test,\n",
        "    y_pred=svm.predict(X_test_scaled))\n",
        "print(classification)\n",
        "fig, ax = plt.subplots(figsize=(10, 10))\n",
        "im = ax.imshow(confusion, cmap=plt.cm.Blues)\n",
        "for i in range(len(confusion)):\n",
        "    for j in range(len(confusion[i])):\n",
        "        text = ax.text(j, i, str(confusion[i, j]),\n",
        "                       ha=\"center\", va=\"center\", color=\"black\")\n",
        "\n",
        "plt.colorbar(im)\n",
        "plt.title('Confusion Matrix')\n",
        "plt.xlabel('Predicted')\n",
        "plt.ylabel('Actual')\n",
        "plt.show()"
      ],
      "metadata": {
        "execution": {
          "iopub.status.busy": "2023-10-01T11:49:14.407949Z",
          "iopub.execute_input": "2023-10-01T11:49:14.408354Z",
          "iopub.status.idle": "2023-10-01T11:50:05.899239Z",
          "shell.execute_reply.started": "2023-10-01T11:49:14.408306Z",
          "shell.execute_reply": "2023-10-01T11:50:05.898118Z"
        },
        "trusted": true,
        "id": "XSzFZY4oIEKT"
      },
      "execution_count": null,
      "outputs": []
    },
    {
      "cell_type": "code",
      "source": [
        "Result={\n",
        "                  'Model':['Random-Forest','Decision-Tree','GaussianNB','Nearest-Neighbors','SVM'],\n",
        "                  'Accuracy(%)':[Acc_ran*100,Acc_dt*100,Acc_gb*100,Acc_knn*100,Acc_svm*100],\n",
        "                  'F1_Score(%)':[f1_ran*100,f1_dt*100,f1_gb*100,f1_knn*100,f1_svm*100],\n",
        "                  'Precision(%)':[precision_ran*100,precision_dt*100,precision_gb*100,precision_knn*100,precision_svm*100],\n",
        "                  'Recall(%)':[recall_ran*100,recall_dt*100,recall_gb*100,recall_knn*100,recall_svm*100],\n",
        "                    }\n",
        "Result_Depression=pd.DataFrame(Result)"
      ],
      "metadata": {
        "execution": {
          "iopub.status.busy": "2023-10-01T11:51:15.145649Z",
          "iopub.execute_input": "2023-10-01T11:51:15.146072Z",
          "iopub.status.idle": "2023-10-01T11:51:15.154427Z",
          "shell.execute_reply.started": "2023-10-01T11:51:15.14604Z",
          "shell.execute_reply": "2023-10-01T11:51:15.153184Z"
        },
        "trusted": true,
        "id": "KO66fdsyIEKU"
      },
      "execution_count": null,
      "outputs": []
    },
    {
      "cell_type": "code",
      "source": [
        "scaler=MinMaxScaler()\n",
        "X=Stress[['Q1A', 'Q6A', 'Q8A', 'Q11A', 'Q12A', 'Q14A', 'Q18A', 'Q22A', 'Q27A',\n",
        "       'Q29A', 'Q32A', 'Q33A', 'Q35A', 'Q39A',\n",
        "       'Extraverted-enthusiastic', 'Critical-quarrelsome',\n",
        "       'Dependable-self_disciplined', 'Anxious-easily upset',\n",
        "        'Open to new experiences-complex', 'Reserved-quiet', 'Sympathetic-warm',\n",
        "        'Disorganized-careless', 'Calm-emotionally_stable',\n",
        "        'Conventional-uncreative', 'education', 'urban', 'gender', 'engnat',\n",
        "        'screensize', 'uniquenetworklocation', 'hand', 'religion',\n",
        "        'orientation', 'race', 'voted', 'married', 'familysize',\n",
        "        'Age_Groups']]\n",
        "y=Stress[['Condition']]\n",
        "X_train,X_test,y_train,y_test=train_test_split(X,y,test_size=0.10,random_state=0)\n",
        "X_train_scaled = scaler.fit_transform(X_train)\n",
        "X_test_scaled = scaler.transform(X_test)"
      ],
      "metadata": {
        "execution": {
          "iopub.status.busy": "2023-10-01T11:51:17.551431Z",
          "iopub.execute_input": "2023-10-01T11:51:17.551841Z",
          "iopub.status.idle": "2023-10-01T11:51:17.602388Z",
          "shell.execute_reply.started": "2023-10-01T11:51:17.551811Z",
          "shell.execute_reply": "2023-10-01T11:51:17.601298Z"
        },
        "trusted": true,
        "id": "1H5ltQRGIEKU"
      },
      "execution_count": null,
      "outputs": []
    },
    {
      "cell_type": "code",
      "source": [
        "ran=RandomForestClassifier().fit(X_train_scaled,y_train)\n",
        "acc_ran=round(accuracy_score(y_test,ran.predict(X_test_scaled)),3)\n",
        "F1_ran=round(f1_score(y_test,ran.predict(X_test_scaled),average='weighted'),3)\n",
        "prec_ran=round(precision_score(y_test,ran.predict(X_test_scaled),average='weighted'),3)\n",
        "rec_ran=round(recall_score(y_test,ran.predict(X_test_scaled),average='weighted'),3)\n",
        "print('Accuracy:',acc_ran)\n",
        "print('F1_Score:',F1_ran)\n",
        "print('Recall_Score:',rec_ran)\n",
        "print('Precision_Score:',prec_ran)\n",
        "print('Cross Validation Score:',(np.mean(cross_val_score(ran, X_train_scaled, y_train, cv = 6))))\n",
        "classification=classification_report(\n",
        "    digits=4,\n",
        "    y_true=y_test,\n",
        "    y_pred=ran.predict(X_test_scaled))\n",
        "print(classification)\n",
        "fig, ax = plt.subplots(figsize=(10, 10))\n",
        "im = ax.imshow(confusion, cmap=plt.cm.Blues)\n",
        "for i in range(len(confusion)):\n",
        "    for j in range(len(confusion[i])):\n",
        "        text = ax.text(j, i, str(confusion[i, j]),\n",
        "                       ha=\"center\", va=\"center\", color=\"black\")\n",
        "\n",
        "plt.colorbar(im)\n",
        "plt.title('Confusion Matrix')\n",
        "plt.xlabel('Predicted')\n",
        "plt.ylabel('Actual')\n",
        "plt.show()"
      ],
      "metadata": {
        "execution": {
          "iopub.status.busy": "2023-10-01T11:51:21.41844Z",
          "iopub.execute_input": "2023-10-01T11:51:21.418805Z",
          "iopub.status.idle": "2023-10-01T11:51:52.719981Z",
          "shell.execute_reply.started": "2023-10-01T11:51:21.418778Z",
          "shell.execute_reply": "2023-10-01T11:51:52.718747Z"
        },
        "trusted": true,
        "id": "Fv2LUDshIEKV"
      },
      "execution_count": null,
      "outputs": []
    },
    {
      "cell_type": "code",
      "source": [
        "dt=DecisionTreeClassifier(criterion= 'entropy',max_depth= 80, min_samples_leaf= 9, min_samples_split=9).fit(X_train_scaled,y_train)\n",
        "acc_dt=round(accuracy_score(y_test,dt.predict(X_test_scaled)),3)\n",
        "F1_dt=round(f1_score(y_test,dt.predict(X_test_scaled),average='weighted'),3)\n",
        "prec_dt=round(precision_score(y_test,dt.predict(X_test_scaled),average='weighted'),3)\n",
        "rec_dt=round(recall_score(y_test,dt.predict(X_test_scaled),average='weighted'),3)\n",
        "print('Accuracy:',acc_dt)\n",
        "print('F1_Score:',F1_dt)\n",
        "print('Recall_Score:',rec_dt)\n",
        "print('Precision_Score:',prec_dt)\n",
        "print('Cross Validation Score:',(np.mean(cross_val_score(dt, X_train_scaled, y_train, cv = 6))))\n",
        "classification=classification_report(\n",
        "    digits=4,\n",
        "    y_true=y_test,\n",
        "    y_pred=dt.predict(X_test_scaled))\n",
        "print(classification)\n",
        "fig, ax = plt.subplots(figsize=(10, 10))\n",
        "im = ax.imshow(confusion, cmap=plt.cm.Blues)\n",
        "for i in range(len(confusion)):\n",
        "    for j in range(len(confusion[i])):\n",
        "        text = ax.text(j, i, str(confusion[i, j]),\n",
        "                       ha=\"center\", va=\"center\", color=\"black\")\n",
        "\n",
        "plt.colorbar(im)\n",
        "plt.title('Confusion Matrix')\n",
        "plt.xlabel('Predicted')\n",
        "plt.ylabel('Actual')\n",
        "plt.show()"
      ],
      "metadata": {
        "execution": {
          "iopub.status.busy": "2023-10-01T11:58:00.528476Z",
          "iopub.execute_input": "2023-10-01T11:58:00.529831Z",
          "iopub.status.idle": "2023-10-01T11:58:02.985801Z",
          "shell.execute_reply.started": "2023-10-01T11:58:00.529792Z",
          "shell.execute_reply": "2023-10-01T11:58:02.984527Z"
        },
        "trusted": true,
        "id": "pNRaAgt8IEKV"
      },
      "execution_count": null,
      "outputs": []
    },
    {
      "cell_type": "code",
      "source": [
        "Gb=GaussianNB().fit(X_train_scaled,y_train)\n",
        "acc_gb=round(accuracy_score(y_test,Gb.predict(X_test_scaled)),3)\n",
        "F1_gb=round(f1_score(y_test,Gb.predict(X_test_scaled),average='weighted'),3)\n",
        "prec_gb=round(precision_score(y_test,Gb.predict(X_test_scaled),average='weighted'),3)\n",
        "rec_gb=round(recall_score(y_test,Gb.predict(X_test_scaled),average='weighted'),3)\n",
        "print('Accuracy:',acc_gb)\n",
        "print('F1_Score:',F1_gb)\n",
        "print('Recall_Score:',rec_gb)\n",
        "print('Precision_Score:',prec_gb)\n",
        "print('Cross Validation Score:',(np.mean(cross_val_score(Gb, X_train_scaled, y_train, cv = 6))))\n",
        "classification=classification_report(\n",
        "    digits=4,\n",
        "    y_true=y_test,\n",
        "    y_pred=Gb.predict(X_test_scaled))\n",
        "print(classification)\n",
        "fig, ax = plt.subplots(figsize=(10, 10))\n",
        "im = ax.imshow(confusion, cmap=plt.cm.Blues)\n",
        "for i in range(len(confusion)):\n",
        "    for j in range(len(confusion[i])):\n",
        "        text = ax.text(j, i, str(confusion[i, j]),\n",
        "                       ha=\"center\", va=\"center\", color=\"black\")\n",
        "\n",
        "plt.colorbar(im)\n",
        "plt.title('Confusion Matrix')\n",
        "plt.xlabel('Predicted')\n",
        "plt.ylabel('Actual')\n",
        "plt.show()"
      ],
      "metadata": {
        "execution": {
          "iopub.status.busy": "2023-10-01T11:58:06.748504Z",
          "iopub.execute_input": "2023-10-01T11:58:06.748947Z",
          "iopub.status.idle": "2023-10-01T11:58:07.861883Z",
          "shell.execute_reply.started": "2023-10-01T11:58:06.748915Z",
          "shell.execute_reply": "2023-10-01T11:58:07.86076Z"
        },
        "trusted": true,
        "id": "yt-YsvtYIEKV"
      },
      "execution_count": null,
      "outputs": []
    },
    {
      "cell_type": "code",
      "source": [
        "Knn=KNeighborsClassifier(n_neighbors=15).fit(X_train_scaled,y_train)\n",
        "acc_knn=round(accuracy_score(y_test,Knn.predict(X_test_scaled)),3)\n",
        "F1_knn=round(f1_score(y_test,Knn.predict(X_test_scaled),average='weighted'),3)\n",
        "prec_knn=round(precision_score(y_test,Knn.predict(X_test_scaled),average='weighted'),3)\n",
        "rec_knn=round(recall_score(y_test,Knn.predict(X_test_scaled),average='weighted'),3)\n",
        "print('Accuracy:',acc_knn)\n",
        "print('F1_Score:',F1_knn)\n",
        "print('Recall_Score:',rec_knn)\n",
        "print('Precision_Score:',prec_knn)\n",
        "print('Cross Validation Score:',(np.mean(cross_val_score(Knn, X_train_scaled, y_train, cv = 6))))\n",
        "classification=classification_report(\n",
        "    digits=4,\n",
        "    y_true=y_test,\n",
        "    y_pred=Knn.predict(X_test_scaled))\n",
        "print(classification)\n",
        "fig, ax = plt.subplots(figsize=(10, 10))\n",
        "im = ax.imshow(confusion, cmap=plt.cm.Blues)\n",
        "for i in range(len(confusion)):\n",
        "    for j in range(len(confusion[i])):\n",
        "        text = ax.text(j, i, str(confusion[i, j]),\n",
        "                       ha=\"center\", va=\"center\", color=\"black\")\n",
        "\n",
        "plt.colorbar(im)\n",
        "plt.title('Confusion Matrix')\n",
        "plt.xlabel('Predicted')\n",
        "plt.ylabel('Actual')\n",
        "plt.show()"
      ],
      "metadata": {
        "execution": {
          "iopub.status.busy": "2023-10-01T11:58:12.907492Z",
          "iopub.execute_input": "2023-10-01T11:58:12.908565Z",
          "iopub.status.idle": "2023-10-01T11:58:21.364092Z",
          "shell.execute_reply.started": "2023-10-01T11:58:12.908515Z",
          "shell.execute_reply": "2023-10-01T11:58:21.362914Z"
        },
        "trusted": true,
        "id": "blqcla01IEKW"
      },
      "execution_count": null,
      "outputs": []
    },
    {
      "cell_type": "code",
      "source": [
        "Svm=SVC(C=10, gamma=0.01, kernel='sigmoid').fit(X_train_scaled,y_train)\n",
        "acc_svm=round(accuracy_score(y_test,Svm.predict(X_test_scaled)),3)\n",
        "F1_svm=round(f1_score(y_test,Svm.predict(X_test_scaled),average='weighted'),3)\n",
        "prec_svm=round(precision_score(y_test,Svm.predict(X_test_scaled),average='weighted'),3)\n",
        "rec_svm=round(recall_score(y_test,Svm.predict(X_test_scaled),average='weighted'),3)\n",
        "print('Accuracy:',acc_svm)\n",
        "print('F1_Score:',F1_svm)\n",
        "print('Recall_Score:',rec_svm)\n",
        "print('Precision_Score:',prec_svm)\n",
        "print('Cross Validation Score:',(np.mean(cross_val_score(Svm, X_train_scaled, y_train, cv = 6))))\n",
        "classification=classification_report(\n",
        "    digits=4,\n",
        "    y_true=y_test,\n",
        "    y_pred=Svm.predict(X_test_scaled))\n",
        "print(classification)\n",
        "fig, ax = plt.subplots(figsize=(10, 10))\n",
        "im = ax.imshow(confusion, cmap=plt.cm.Blues)\n",
        "for i in range(len(confusion)):\n",
        "    for j in range(len(confusion[i])):\n",
        "        text = ax.text(j, i, str(confusion[i, j]),\n",
        "                       ha=\"center\", va=\"center\", color=\"black\")\n",
        "\n",
        "plt.colorbar(im)\n",
        "plt.title('Confusion Matrix')\n",
        "plt.xlabel('Predicted')\n",
        "plt.ylabel('Actual')\n",
        "plt.show()"
      ],
      "metadata": {
        "execution": {
          "iopub.status.busy": "2023-10-01T11:58:29.216072Z",
          "iopub.execute_input": "2023-10-01T11:58:29.216781Z",
          "iopub.status.idle": "2023-10-01T12:00:00.542635Z",
          "shell.execute_reply.started": "2023-10-01T11:58:29.216747Z",
          "shell.execute_reply": "2023-10-01T12:00:00.541153Z"
        },
        "trusted": true,
        "id": "CIl45WYjIEKW"
      },
      "execution_count": null,
      "outputs": []
    },
    {
      "cell_type": "code",
      "source": [
        "Result_1={\n",
        "                  'Model':['Random-Forest','Decision-Tree','GaussianNB','Nearest-Neighbors','SVM'],\n",
        "                  'Accuracy(%)':[acc_ran*100,acc_dt*100,acc_gb*100,acc_knn*100,acc_svm*100],\n",
        "                  'F1_Score(%)':[F1_ran*100,F1_dt*100,F1_gb*100,F1_knn*100,F1_svm*100],\n",
        "                  'Precision(%)':[prec_ran*100,prec_dt*100,prec_gb*100,prec_knn*100,prec_svm*100],\n",
        "                  'Recall(%)':[rec_ran*100,rec_dt*100,rec_gb*100,rec_knn*100,rec_svm*100]\n",
        "                    }\n",
        "Result_Stress=pd.DataFrame(Result_1)"
      ],
      "metadata": {
        "execution": {
          "iopub.status.busy": "2023-10-01T12:00:07.412079Z",
          "iopub.execute_input": "2023-10-01T12:00:07.412868Z",
          "iopub.status.idle": "2023-10-01T12:00:07.420731Z",
          "shell.execute_reply.started": "2023-10-01T12:00:07.412833Z",
          "shell.execute_reply": "2023-10-01T12:00:07.41958Z"
        },
        "trusted": true,
        "id": "HyRMuE_cIEKW"
      },
      "execution_count": null,
      "outputs": []
    },
    {
      "cell_type": "code",
      "source": [
        "scaler=MinMaxScaler()\n",
        "X=Anxiety[['Q2A', 'Q4A', 'Q7A', 'Q9A', 'Q15A', 'Q19A', 'Q20A', 'Q23A', 'Q25A',\n",
        "       'Q28A', 'Q30A', 'Q36A', 'Q40A', 'Q41A',\n",
        "       'Extraverted-enthusiastic', 'Critical-quarrelsome',\n",
        "       'Dependable-self_disciplined', 'Anxious-easily upset',\n",
        "        'Open to new experiences-complex', 'Reserved-quiet', 'Sympathetic-warm',\n",
        "        'Disorganized-careless', 'Calm-emotionally_stable',\n",
        "        'Conventional-uncreative', 'education', 'urban', 'gender', 'engnat',\n",
        "        'screensize', 'uniquenetworklocation', 'hand', 'religion',\n",
        "        'orientation', 'race', 'voted', 'married', 'familysize',\n",
        "        'Age_Groups']]\n",
        "y=Anxiety[['Condition']]\n",
        "X_train,X_test,y_train,y_test=train_test_split(X,y,test_size=0.10,random_state=0)\n",
        "X_train_scaled = scaler.fit_transform(X_train)\n",
        "X_test_scaled = scaler.transform(X_test)"
      ],
      "metadata": {
        "execution": {
          "iopub.status.busy": "2023-10-01T12:00:09.6013Z",
          "iopub.execute_input": "2023-10-01T12:00:09.602554Z",
          "iopub.status.idle": "2023-10-01T12:00:09.652098Z",
          "shell.execute_reply.started": "2023-10-01T12:00:09.602506Z",
          "shell.execute_reply": "2023-10-01T12:00:09.650855Z"
        },
        "trusted": true,
        "id": "6rWIsNTGIEKX"
      },
      "execution_count": null,
      "outputs": []
    },
    {
      "cell_type": "code",
      "source": [
        "rand=RandomForestClassifier(criterion='entropy').fit(X_train_scaled,y_train)\n",
        "accu_ran=round(accuracy_score(y_test,rand.predict(X_test_scaled)),3)\n",
        "f1_score_ran=round(f1_score(y_test,rand.predict(X_test_scaled),average='weighted'),3)\n",
        "Precision_ran=round(precision_score(y_test,rand.predict(X_test_scaled),average='weighted'),3)\n",
        "Recall_ran=round(recall_score(y_test,rand.predict(X_test_scaled),average='weighted'),3)\n",
        "print('Accuracy:',accu_ran)\n",
        "print('F1_Score:',f1_score_ran)\n",
        "print('Recall_Score:',Precision_ran)\n",
        "print('Precision_Score:',Recall_ran)\n",
        "print('Cross Validation Score:',(np.mean(cross_val_score(rand, X_train_scaled, y_train, cv = 6))))\n",
        "classification=classification_report(\n",
        "    digits=4,\n",
        "    y_true=y_test,\n",
        "    y_pred=rand.predict(X_test_scaled))\n",
        "print(classification)\n",
        "fig, ax = plt.subplots(figsize=(10, 10))\n",
        "im = ax.imshow(confusion, cmap=plt.cm.Blues)\n",
        "for i in range(len(confusion)):\n",
        "    for j in range(len(confusion[i])):\n",
        "        text = ax.text(j, i, str(confusion[i, j]),\n",
        "                       ha=\"center\", va=\"center\", color=\"black\")\n",
        "\n",
        "plt.colorbar(im)\n",
        "plt.title('Confusion Matrix')\n",
        "plt.xlabel('Predicted')\n",
        "plt.ylabel('Actual')\n",
        "plt.show()"
      ],
      "metadata": {
        "execution": {
          "iopub.status.busy": "2023-10-01T12:00:11.881522Z",
          "iopub.execute_input": "2023-10-01T12:00:11.88192Z",
          "iopub.status.idle": "2023-10-01T12:00:45.207491Z",
          "shell.execute_reply.started": "2023-10-01T12:00:11.881886Z",
          "shell.execute_reply": "2023-10-01T12:00:45.206404Z"
        },
        "trusted": true,
        "id": "s5AwLZm7IEKY"
      },
      "execution_count": null,
      "outputs": []
    },
    {
      "cell_type": "code",
      "source": [
        "Dt=DecisionTreeClassifier(criterion='entropy',max_depth=100,min_samples_leaf=9,min_samples_split=3).fit(X_train_scaled,y_train)\n",
        "accu_dt=round(accuracy_score(y_test,Dt.predict(X_test_scaled)),3)\n",
        "f1_score_dt=round(f1_score(y_test,Dt.predict(X_test_scaled),average='weighted'),3)\n",
        "Precision_dt=round(precision_score(y_test,Dt.predict(X_test_scaled),average='weighted'),3)\n",
        "Recall_dt=round(recall_score(y_test,Dt.predict(X_test_scaled),average='weighted'),3)\n",
        "print('Accuracy:',accu_dt)\n",
        "print('F1_Score:',f1_score_dt)\n",
        "print('Recall_Score:',Precision_dt)\n",
        "print('Precision_Score:',Recall_dt)\n",
        "print('Cross Validation Score:',(np.mean(cross_val_score(Dt, X_train_scaled, y_train, cv = 6))))\n",
        "classification=classification_report(\n",
        "    digits=4,\n",
        "    y_true=y_test,\n",
        "    y_pred=Dt.predict(X_test_scaled))\n",
        "print(classification)\n",
        "fig, ax = plt.subplots(figsize=(10, 10))\n",
        "im = ax.imshow(confusion, cmap=plt.cm.Blues)\n",
        "for i in range(len(confusion)):\n",
        "    for j in range(len(confusion[i])):\n",
        "        text = ax.text(j, i, str(confusion[i, j]),\n",
        "                       ha=\"center\", va=\"center\", color=\"black\")\n",
        "\n",
        "plt.colorbar(im)\n",
        "plt.title('Confusion Matrix')\n",
        "plt.xlabel('Predicted')\n",
        "plt.ylabel('Actual')\n",
        "plt.show()"
      ],
      "metadata": {
        "execution": {
          "iopub.status.busy": "2023-10-01T12:02:04.841699Z",
          "iopub.execute_input": "2023-10-01T12:02:04.842565Z",
          "iopub.status.idle": "2023-10-01T12:02:07.219501Z",
          "shell.execute_reply.started": "2023-10-01T12:02:04.842522Z",
          "shell.execute_reply": "2023-10-01T12:02:07.21868Z"
        },
        "trusted": true,
        "id": "fxlnQBjjIEKY"
      },
      "execution_count": null,
      "outputs": []
    },
    {
      "cell_type": "code",
      "source": [
        "GB=GaussianNB().fit(X_train_scaled,y_train)\n",
        "accu_gb=round(accuracy_score(y_test,GB.predict(X_test_scaled)),3)\n",
        "f1_score_gb=round(f1_score(y_test,GB.predict(X_test_scaled),average='weighted'),3)\n",
        "Precision_gb=round(precision_score(y_test,GB.predict(X_test_scaled),average='weighted'),3)\n",
        "Recall_gb=round(recall_score(y_test,GB.predict(X_test_scaled),average='weighted'),3)\n",
        "print('Accuracy:',accu_gb)\n",
        "print('F1_Score:',f1_score_gb)\n",
        "print('Recall_Score:',Precision_gb)\n",
        "print('Precision_Score:',Recall_gb)\n",
        "print('Cross Validation Score:',(np.mean(cross_val_score(GB, X_train_scaled, y_train, cv = 6))))\n",
        "classification=classification_report(\n",
        "    digits=4,\n",
        "    y_true=y_test,\n",
        "    y_pred=GB.predict(X_test_scaled))\n",
        "print(classification)\n",
        "fig, ax = plt.subplots(figsize=(10, 10))\n",
        "im = ax.imshow(confusion, cmap=plt.cm.Blues)\n",
        "for i in range(len(confusion)):\n",
        "    for j in range(len(confusion[i])):\n",
        "        text = ax.text(j, i, str(confusion[i, j]),\n",
        "                       ha=\"center\", va=\"center\", color=\"black\")\n",
        "\n",
        "plt.colorbar(im)\n",
        "plt.title('Confusion Matrix')\n",
        "plt.xlabel('Predicted')\n",
        "plt.ylabel('Actual')\n",
        "plt.show()"
      ],
      "metadata": {
        "execution": {
          "iopub.status.busy": "2023-10-01T12:02:18.02515Z",
          "iopub.execute_input": "2023-10-01T12:02:18.026161Z",
          "iopub.status.idle": "2023-10-01T12:02:19.152715Z",
          "shell.execute_reply.started": "2023-10-01T12:02:18.026124Z",
          "shell.execute_reply": "2023-10-01T12:02:19.151929Z"
        },
        "trusted": true,
        "id": "9ncE5uI5IEKZ"
      },
      "execution_count": null,
      "outputs": []
    },
    {
      "cell_type": "code",
      "source": [
        "Knnr=KNeighborsClassifier(n_neighbors=19,weights='distance').fit(X_train_scaled,y_train)\n",
        "accu_knn=round(accuracy_score(y_test,Knnr.predict(X_test_scaled)),3)\n",
        "f1_score_knn=round(f1_score(y_test,Knnr.predict(X_test_scaled),average='weighted'),3)\n",
        "Precision_knn=round(precision_score(y_test,Knnr.predict(X_test_scaled),average='weighted'),3)\n",
        "Recall_knn=round(recall_score(y_test,Knnr.predict(X_test_scaled),average='weighted'),3)\n",
        "print('Accuracy:',accu_knn)\n",
        "print('F1_Score:',f1_score_knn)\n",
        "print('Recall_Score:',Precision_knn)\n",
        "print('Precision_Score:',Recall_knn)\n",
        "print('Cross Validation Score:',(np.mean(cross_val_score(Knnr, X_train_scaled, y_train, cv = 6))))\n",
        "classification=classification_report(\n",
        "    digits=4,\n",
        "    y_true=y_test,\n",
        "    y_pred=Knnr.predict(X_test_scaled))\n",
        "print(classification)\n",
        "fig, ax = plt.subplots(figsize=(10, 10))\n",
        "im = ax.imshow(confusion, cmap=plt.cm.Blues)\n",
        "for i in range(len(confusion)):\n",
        "    for j in range(len(confusion[i])):\n",
        "        text = ax.text(j, i, str(confusion[i, j]),\n",
        "                       ha=\"center\", va=\"center\", color=\"black\")\n",
        "\n",
        "plt.colorbar(im)\n",
        "plt.title('Confusion Matrix')\n",
        "plt.xlabel('Predicted')\n",
        "plt.ylabel('Actual')\n",
        "plt.show()"
      ],
      "metadata": {
        "execution": {
          "iopub.status.busy": "2023-10-01T12:02:21.837374Z",
          "iopub.execute_input": "2023-10-01T12:02:21.838023Z",
          "iopub.status.idle": "2023-10-01T12:02:28.38461Z",
          "shell.execute_reply.started": "2023-10-01T12:02:21.837988Z",
          "shell.execute_reply": "2023-10-01T12:02:28.383513Z"
        },
        "trusted": true,
        "id": "RIBmnkH7IEKZ"
      },
      "execution_count": null,
      "outputs": []
    },
    {
      "cell_type": "code",
      "source": [
        "Svmc=SVC(C=10,gamma=0.1,kernel='rbf').fit(X_train_scaled,y_train)\n",
        "accu_svm=round(accuracy_score(y_test,Svmc.predict(X_test_scaled)),3)\n",
        "f1_score_svm=round(f1_score(y_test,Svmc.predict(X_test_scaled),average='weighted'),3)\n",
        "Precision_svm=round(precision_score(y_test,Svmc.predict(X_test_scaled),average='weighted'),3)\n",
        "Recall_svm=round(recall_score(y_test,Svmc.predict(X_test_scaled),average='weighted'),3)\n",
        "print('Accuracy:',accu_svm)\n",
        "print('F1_Score:',f1_score_svm)\n",
        "print('Recall_Score:',Precision_svm)\n",
        "print('Precision_Score:',Recall_svm)\n",
        "print('Cross Validation Score:',(np.mean(cross_val_score(Svmc, X_train_scaled, y_train, cv = 6))))\n",
        "classification=classification_report(\n",
        "    digits=4,\n",
        "    y_true=y_test,\n",
        "    y_pred=Svmc.predict(X_test_scaled))\n",
        "print(classification)\n",
        "fig, ax = plt.subplots(figsize=(10, 10))\n",
        "im = ax.imshow(confusion, cmap=plt.cm.Blues)\n",
        "for i in range(len(confusion)):\n",
        "    for j in range(len(confusion[i])):\n",
        "        text = ax.text(j, i, str(confusion[i, j]),\n",
        "                       ha=\"center\", va=\"center\", color=\"black\")\n",
        "\n",
        "plt.colorbar(im)\n",
        "plt.title('Confusion Matrix')\n",
        "plt.xlabel('Predicted')\n",
        "plt.ylabel('Actual')\n",
        "plt.show()"
      ],
      "metadata": {
        "execution": {
          "iopub.status.busy": "2023-10-01T12:02:32.057101Z",
          "iopub.execute_input": "2023-10-01T12:02:32.058232Z",
          "iopub.status.idle": "2023-10-01T12:03:53.422507Z",
          "shell.execute_reply.started": "2023-10-01T12:02:32.058194Z",
          "shell.execute_reply": "2023-10-01T12:03:53.42137Z"
        },
        "trusted": true,
        "id": "lTS1qtDBIEKa"
      },
      "execution_count": null,
      "outputs": []
    },
    {
      "cell_type": "code",
      "source": [
        "Result_2={\n",
        "                  'Model':['Random-Forest','Decision-Tree','GaussianNB','Nearest-Neighbors','SVM'],\n",
        "                  'Accuracy(%)':[accu_ran*100,accu_dt*100,accu_gb*100,accu_knn*100,accu_svm*100],\n",
        "                  'F1_Score(%)':[f1_score_ran*100,f1_score_dt*100,f1_score_gb*100,f1_score_knn*100,f1_score_svm*100],\n",
        "                  'Precision(%)':[Precision_ran*100,Precision_dt*100,Precision_gb*100,Precision_knn*100,Precision_svm*100],\n",
        "                  'Recall(%)':[Recall_ran*100,Recall_dt*100,Recall_gb*100,Recall_knn*100,Recall_svm*100]\n",
        "\n",
        "                    }\n",
        "Result_Anxiety=pd.DataFrame(Result_2)"
      ],
      "metadata": {
        "execution": {
          "iopub.status.busy": "2023-10-01T12:03:53.424954Z",
          "iopub.execute_input": "2023-10-01T12:03:53.425831Z",
          "iopub.status.idle": "2023-10-01T12:03:53.433289Z",
          "shell.execute_reply.started": "2023-10-01T12:03:53.425783Z",
          "shell.execute_reply": "2023-10-01T12:03:53.432381Z"
        },
        "trusted": true,
        "id": "ncs59HImIEKa"
      },
      "execution_count": null,
      "outputs": []
    },
    {
      "cell_type": "code",
      "source": [
        "Result_Depression"
      ],
      "metadata": {
        "execution": {
          "iopub.status.busy": "2023-10-01T12:04:00.887518Z",
          "iopub.execute_input": "2023-10-01T12:04:00.887928Z",
          "iopub.status.idle": "2023-10-01T12:04:00.902148Z",
          "shell.execute_reply.started": "2023-10-01T12:04:00.8879Z",
          "shell.execute_reply": "2023-10-01T12:04:00.900796Z"
        },
        "trusted": true,
        "id": "JsUarNfXIEKa"
      },
      "execution_count": null,
      "outputs": []
    },
    {
      "cell_type": "code",
      "source": [
        "Result_Stress"
      ],
      "metadata": {
        "execution": {
          "iopub.status.busy": "2023-10-01T12:04:03.700782Z",
          "iopub.execute_input": "2023-10-01T12:04:03.701236Z",
          "iopub.status.idle": "2023-10-01T12:04:03.716367Z",
          "shell.execute_reply.started": "2023-10-01T12:04:03.701201Z",
          "shell.execute_reply": "2023-10-01T12:04:03.715012Z"
        },
        "trusted": true,
        "id": "ewJoT-ByIEKa"
      },
      "execution_count": null,
      "outputs": []
    },
    {
      "cell_type": "code",
      "source": [
        "Result_Anxiety"
      ],
      "metadata": {
        "execution": {
          "iopub.status.busy": "2023-10-01T12:04:06.263482Z",
          "iopub.execute_input": "2023-10-01T12:04:06.263914Z",
          "iopub.status.idle": "2023-10-01T12:04:06.277944Z",
          "shell.execute_reply.started": "2023-10-01T12:04:06.263883Z",
          "shell.execute_reply": "2023-10-01T12:04:06.276819Z"
        },
        "trusted": true,
        "id": "NxWFotiSIEKa"
      },
      "execution_count": null,
      "outputs": []
    },
    {
      "cell_type": "code",
      "source": [
        "splot=Result_Depression.plot(x='Model',y=['Accuracy(%)','F1_Score(%)','Precision(%)','Recall(%)'],kind='bar',figsize=(15,10),cmap='Spectral',width=0.9)\n",
        "for p in splot.patches:\n",
        "    splot.annotate(format(round(p.get_height()), '.0f'),\n",
        "                   (p.get_x() + p.get_width() / 2., p.get_height()),\n",
        "                   ha='center', va='center',\n",
        "                   xytext=(0,7),\n",
        "                   textcoords='offset points')\n",
        "plt.title('Evaluation Scores For Depression Data for various Models')\n",
        "plt.ylabel('Percentage')\n",
        "plt.xlabel('Models')\n",
        "plt.legend(loc='upper left')\n",
        "for pos in ['right', 'top', 'bottom', 'left']:\n",
        "    plt.gca().spines[pos].set_visible(False)\n",
        "plt.show()"
      ],
      "metadata": {
        "execution": {
          "iopub.status.busy": "2023-10-01T12:06:24.584531Z",
          "iopub.execute_input": "2023-10-01T12:06:24.58499Z",
          "iopub.status.idle": "2023-10-01T12:06:25.004061Z",
          "shell.execute_reply.started": "2023-10-01T12:06:24.584959Z",
          "shell.execute_reply": "2023-10-01T12:06:25.002873Z"
        },
        "trusted": true,
        "id": "90wzU8ILIEKb"
      },
      "execution_count": null,
      "outputs": []
    },
    {
      "cell_type": "code",
      "source": [
        "slot=Result_Stress.plot(x='Model',y=['Accuracy(%)','F1_Score(%)','Precision(%)','Recall(%)'],kind='bar',figsize=(15,10),width=0.9)\n",
        "for p in slot.patches:\n",
        "    slot.annotate(format(round(p.get_height()), '.0f'),\n",
        "                   (p.get_x() + p.get_width() / 2., p.get_height()),\n",
        "                   ha='center', va='center',\n",
        "                   xytext=(0, 7),\n",
        "                   textcoords='offset points')\n",
        "plt.title('Evaluation Scores For Stress Data for various Models')\n",
        "plt.ylabel('Percentage')\n",
        "plt.xlabel('Models')\n",
        "for pos in ['right', 'top', 'bottom', 'left']:\n",
        "    plt.gca().spines[pos].set_visible(False)\n",
        "plt.show()"
      ],
      "metadata": {
        "execution": {
          "iopub.status.busy": "2023-10-01T12:06:30.919039Z",
          "iopub.execute_input": "2023-10-01T12:06:30.91981Z",
          "iopub.status.idle": "2023-10-01T12:06:31.347946Z",
          "shell.execute_reply.started": "2023-10-01T12:06:30.919771Z",
          "shell.execute_reply": "2023-10-01T12:06:31.346616Z"
        },
        "trusted": true,
        "id": "_8iwbegxIEKb"
      },
      "execution_count": null,
      "outputs": []
    },
    {
      "cell_type": "code",
      "source": [
        "slot=Result_Anxiety.plot(x='Model',y=['Accuracy(%)','F1_Score(%)','Precision(%)','Recall(%)'],kind='bar',figsize=(15,10),cmap='Accent',width=0.9)\n",
        "for p in slot.patches:\n",
        "    slot.annotate(format(round(p.get_height()), '.0f'),\n",
        "                   (p.get_x() + p.get_width() / 2., p.get_height()),\n",
        "                   ha='center', va='center',\n",
        "                   xytext=(0, 7),\n",
        "                   textcoords='offset points')\n",
        "plt.title('Evaluation Scores For Anxiety Data for various Models')\n",
        "plt.ylabel('Percentage')\n",
        "plt.xlabel('Models')\n",
        "for pos in ['right', 'top', 'bottom', 'left']:\n",
        "    plt.gca().spines[pos].set_visible(False)\n",
        "plt.show()"
      ],
      "metadata": {
        "execution": {
          "iopub.status.busy": "2023-10-01T12:06:34.224731Z",
          "iopub.execute_input": "2023-10-01T12:06:34.226079Z",
          "iopub.status.idle": "2023-10-01T12:06:34.64677Z",
          "shell.execute_reply.started": "2023-10-01T12:06:34.226038Z",
          "shell.execute_reply": "2023-10-01T12:06:34.645575Z"
        },
        "trusted": true,
        "id": "7gRdS1YvIEKb"
      },
      "execution_count": null,
      "outputs": []
    },
    {
      "cell_type": "code",
      "source": [
        "import numpy as np\n",
        "import matplotlib.pyplot as plt\n",
        "\n",
        "x = ['Random-Forest', 'Decision-Tree', 'GaussianNB', 'Nearest-Neighbors', 'SVM']\n",
        "width = 0.35\n",
        "X = np.arange(len(x))\n",
        "plt.figure(figsize=(10, 10))\n",
        "\n",
        "# Define different colors for Depression and Anxiety datasets\n",
        "depression_color = 'r'\n",
        "anxiety_color = 'b'\n",
        "\n",
        "# Plot the accuracy scores for Depression and Anxiety with different colors\n",
        "bar1 = plt.bar(X, Result_Depression['Accuracy(%)'], width, color=depression_color, label='Depression')\n",
        "bar2 = plt.bar(X + width, Result_Anxiety['Accuracy(%)'], width, color=anxiety_color, label='Anxiety', alpha=0.7)\n",
        "\n",
        "# Annotate the bars with the corresponding values\n",
        "for bar in bar1 + bar2:\n",
        "    plt.text(bar.get_x() + bar.get_width() / 2, bar.get_height() + 1, str(int(bar.get_height())),\n",
        "             ha='center', color='m', fontsize=11)\n",
        "\n",
        "plt.xticks(X + width / 2, x)\n",
        "plt.legend(loc='upper left')\n",
        "plt.title('Accuracy Scores for Different Models for the Depression and Anxiety Datasets')\n",
        "plt.ylabel('Percentage', fontsize=17, color='red')\n",
        "plt.xlabel('Models', fontsize=15, color='red')\n",
        "for pos in ['right', 'top', 'bottom', 'left']:\n",
        "    plt.gca().spines[pos].set_visible(False)\n",
        "plt.show()"
      ],
      "metadata": {
        "execution": {
          "iopub.status.busy": "2023-10-01T12:22:33.29573Z",
          "iopub.execute_input": "2023-10-01T12:22:33.296202Z",
          "iopub.status.idle": "2023-10-01T12:22:33.535752Z",
          "shell.execute_reply.started": "2023-10-01T12:22:33.296171Z",
          "shell.execute_reply": "2023-10-01T12:22:33.534611Z"
        },
        "trusted": true,
        "id": "sm72yvyuIEKb"
      },
      "execution_count": null,
      "outputs": []
    },
    {
      "cell_type": "code",
      "source": [
        "import numpy as np\n",
        "import matplotlib.pyplot as plt\n",
        "\n",
        "x = ['Random-Forest', 'Decision-Tree', 'GaussianNB', 'Nearest-Neighbors', 'SVM']\n",
        "width = 0.25\n",
        "X = np.arange(len(x))\n",
        "plt.figure(figsize=(10, 10))\n",
        "\n",
        "# Define different colors for Depression and Anxiety datasets\n",
        "depression_color = 'mistyrose'\n",
        "anxiety_color = 'plum'\n",
        "\n",
        "# Plot the F1 Score for Depression and Anxiety with different colors\n",
        "bar1 = plt.bar(X, Result_Depression['F1_Score(%)'], width, color=depression_color, label='Depression')\n",
        "bar2 = plt.bar(X - width, Result_Anxiety['F1_Score(%)'], width, color=anxiety_color, label='Anxiety')\n",
        "\n",
        "# Annotate the bars with the corresponding values\n",
        "for bar in bar1 + bar2:\n",
        "    plt.text(bar.get_x() + bar.get_width() / 2, bar.get_height() + 1, str(int(bar.get_height())),\n",
        "             ha='center', color='crimson', fontsize=11)\n",
        "\n",
        "plt.xticks(X, x)\n",
        "plt.legend(loc='upper left')\n",
        "plt.title('F1 Scores for Different Models for the Depression and Anxiety Datasets')\n",
        "plt.ylabel('Percentage', fontsize=17, color='red')\n",
        "plt.xlabel('Models', fontsize=15, color='red')\n",
        "for pos in ['right', 'top', 'bottom', 'left']:\n",
        "    plt.gca().spines[pos].set_visible(False)\n",
        "plt.show()"
      ],
      "metadata": {
        "execution": {
          "iopub.status.busy": "2023-10-01T12:24:43.478534Z",
          "iopub.execute_input": "2023-10-01T12:24:43.479009Z",
          "iopub.status.idle": "2023-10-01T12:24:45.630287Z",
          "shell.execute_reply.started": "2023-10-01T12:24:43.478978Z",
          "shell.execute_reply": "2023-10-01T12:24:45.628906Z"
        },
        "trusted": true,
        "id": "VczfwBzAIEKc"
      },
      "execution_count": null,
      "outputs": []
    },
    {
      "cell_type": "code",
      "source": [
        "import numpy as np\n",
        "import matplotlib.pyplot as plt\n",
        "\n",
        "x = ['Random-Forest', 'Decision-Tree', 'GaussianNB', 'Nearest-Neighbors', 'SVM']\n",
        "width = 0.25\n",
        "X = np.arange(len(x))\n",
        "plt.figure(figsize=(10, 10))\n",
        "\n",
        "# Define different colors for Depression and Anxiety datasets\n",
        "depression_color = 'black'\n",
        "anxiety_color = 'pink'\n",
        "\n",
        "# Plot the Precision Score for Depression and Anxiety with different colors\n",
        "bar1 = plt.bar(X, Result_Depression['Precision(%)'], width, color=depression_color, label='Depression')\n",
        "bar2 = plt.bar(X - width, Result_Anxiety['Precision(%)'], width, color=anxiety_color, label='Anxiety')\n",
        "\n",
        "# Annotate the bars with the corresponding values\n",
        "for bar in bar1 + bar2:\n",
        "    plt.text(bar.get_x() + bar.get_width() / 2, bar.get_height() + 1, str(int(bar.get_height())),\n",
        "             ha='center', color='gray', fontsize=11)\n",
        "\n",
        "plt.xticks(X, x)\n",
        "plt.legend(loc='upper left')\n",
        "plt.title('Precision Scores for Different Models for the Depression and Anxiety Datasets')\n",
        "plt.ylabel('Percentage', fontsize=17, color='red')\n",
        "plt.xlabel('Models', fontsize=15, color='red')\n",
        "for pos in ['right', 'top', 'bottom', 'left']:\n",
        "    plt.gca().spines[pos].set_visible(False)\n",
        "plt.show()"
      ],
      "metadata": {
        "execution": {
          "iopub.status.busy": "2023-10-01T12:25:27.604426Z",
          "iopub.execute_input": "2023-10-01T12:25:27.604843Z",
          "iopub.status.idle": "2023-10-01T12:25:27.863924Z",
          "shell.execute_reply.started": "2023-10-01T12:25:27.604812Z",
          "shell.execute_reply": "2023-10-01T12:25:27.862508Z"
        },
        "trusted": true,
        "id": "LSuZTMWlIEKc"
      },
      "execution_count": null,
      "outputs": []
    },
    {
      "cell_type": "code",
      "source": [
        "import numpy as np\n",
        "import matplotlib.pyplot as plt\n",
        "\n",
        "x = ['Random-Forest', 'Decision-Tree', 'GaussianNB', 'Nearest-Neighbors', 'SVM']\n",
        "width = 0.25\n",
        "X = np.arange(len(x))\n",
        "plt.figure(figsize=(10, 10))\n",
        "\n",
        "# Define different colors for Depression and Anxiety datasets\n",
        "depression_color = 'indigo'\n",
        "anxiety_color = 'violet'\n",
        "\n",
        "# Plot the Recall Score for Depression and Anxiety with different colors\n",
        "bar1 = plt.bar(X, Result_Depression['Recall(%)'], width, color=depression_color, label='Depression')\n",
        "bar2 = plt.bar(X - width, Result_Anxiety['Recall(%)'], width, color=anxiety_color, label='Anxiety')\n",
        "\n",
        "# Annotate the bars with the corresponding values\n",
        "for bar in bar1 + bar2:\n",
        "    plt.text(bar.get_x() + bar.get_width() / 2, bar.get_height() + 1, str(int(bar.get_height())),\n",
        "             ha='center', color='darkorange', fontsize=11)\n",
        "\n",
        "plt.xticks(X, x)\n",
        "plt.legend(loc='upper left')\n",
        "plt.title('Recall Scores for Different Models for the Depression and Anxiety Datasets')\n",
        "plt.ylabel('Percentage', fontsize=17, color='red')\n",
        "plt.xlabel('Models', fontsize=15, color='red')\n",
        "for pos in ['right', 'top', 'bottom', 'left']:\n",
        "    plt.gca().spines[pos].set_visible(False)\n",
        "plt.show()"
      ],
      "metadata": {
        "execution": {
          "iopub.status.busy": "2023-10-01T12:26:11.940853Z",
          "iopub.execute_input": "2023-10-01T12:26:11.941347Z",
          "iopub.status.idle": "2023-10-01T12:26:12.254882Z",
          "shell.execute_reply.started": "2023-10-01T12:26:11.941297Z",
          "shell.execute_reply": "2023-10-01T12:26:12.253524Z"
        },
        "trusted": true,
        "id": "6SFcyNKQIEKd"
      },
      "execution_count": null,
      "outputs": []
    },
    {
      "cell_type": "code",
      "source": [],
      "metadata": {
        "id": "I1S1nBCeIEKd"
      },
      "execution_count": null,
      "outputs": []
    }
  ]
}